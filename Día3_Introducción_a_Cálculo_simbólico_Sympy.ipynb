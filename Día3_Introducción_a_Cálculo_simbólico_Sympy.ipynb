{
  "cells": [
    {
      "cell_type": "markdown",
      "metadata": {
        "id": "DRL9mUQIA0Lu"
      },
      "source": [
        "# Introducción a SymPy"
      ]
    },
    {
      "cell_type": "markdown",
      "metadata": {
        "id": "Q2sK88MgA0Lv"
      },
      "source": [
        "![](http://sympy.org/static/images/logo.png)\n",
        "\n",
        "__SymPy es una biblioteca de Python para matemática simbólica__. Apunta a convertirse en un sistema de algebra computacional (__CAS__) con todas sus prestaciones manteniendo el código tan simple como sea posible para manterlo comprensible y fácilmente extensible. SymPy está __escrito totalmente en Python y no requiere bibliotecas adicionales__. _Este proyecto comenzó en 2005, fue lanzado al público en 2007 y a él han contribuido durante estos años cientos de personas._\n",
        "\n",
        "_ Otros CAS conocidos son Mathematica y Maple, sin embargo ambos son software privativo y de pago. [Aquí](https://github.com/sympy/sympy/wiki/SymPy-vs.-Maple) puedes encontrar una comparativa de SymPy con Maple. _\n",
        "\n",
        "Hoy veremos cómo:\n",
        "\n",
        "* Crear símbolos y expresiones.\n",
        "* Manipular expresiones (simplificación, expansión...)\n",
        "* Calcular derivadas e integrales.\n",
        "* Límites y desarrollos en serie.\n",
        "* Resolución de ecuaciones.\n",
        "* Resolción de EDOs.\n",
        "* Matrices\n",
        "* Graficación\n",
        "\n",
        "Sin embargo, SymPy no acaba aquí ni mucho menos..."
      ]
    },
    {
      "cell_type": "markdown",
      "metadata": {
        "id": "R6k4m7utA0L2"
      },
      "source": [
        "## Creación de símbolos"
      ]
    },
    {
      "cell_type": "code",
      "execution_count": null,
      "metadata": {
        "id": "YlHZLFkpA0L5"
      },
      "outputs": [],
      "source": [
        "#Llamamos a la paqueteria sympy\n",
        "from sympy import (symbols, pi, I, E, cos, sin, exp, tan, simplify, expand, factor, collect,\n",
        "                   apart, cancel, expand_trig, diff, Derivative, Function, integrate, limit,\n",
        "                   series, Eq, solve, dsolve, Matrix, N)"
      ]
    },
    {
      "cell_type": "code",
      "source": [
        "#Llamar a la paqueteria de sympy\n",
        "from sympy import *\n",
        "from sympy.abc import *"
      ],
      "metadata": {
        "id": "24srsIgmBXuf"
      },
      "execution_count": null,
      "outputs": []
    },
    {
      "cell_type": "markdown",
      "metadata": {
        "id": "cfOA-jXFA0L5"
      },
      "source": [
        "<div class=\"alert warning-info\"><strong>Nota:</strong>\n",
        "En Python, no se declaran las variables, sin embargo, no puedes usar una hasta que no le hayas asignado un valor. Si ahora intentamos crear una variable `a` que sea `a = 2 * b`, veamos qué ocurre:\n",
        "</div>"
      ]
    },
    {
      "cell_type": "code",
      "execution_count": null,
      "metadata": {
        "id": "pzLF_13kA0L6"
      },
      "outputs": [],
      "source": [
        "# Intentamos usar un símbolo que no hemos creado\n",
        "a = 2 * b"
      ]
    },
    {
      "cell_type": "markdown",
      "metadata": {
        "id": "FLKwqtyAA0L6"
      },
      "source": [
        "Como en `b` no había sido creada, Python no sabe qué es `b`.\n",
        "\n",
        "Esto mismo nos ocurre con los símbolos de SymPy. __Antes de usar una variable, debo decir que es un símbolo y asignárselo:__"
      ]
    },
    {
      "cell_type": "code",
      "execution_count": null,
      "metadata": {
        "colab": {
          "base_uri": "https://localhost:8080/",
          "height": 38
        },
        "id": "YjbSieuIA0L6",
        "outputId": "a3207089-6365-40a6-f178-511d657dbb73"
      },
      "outputs": [
        {
          "output_type": "execute_result",
          "data": {
            "text/plain": [
              "a"
            ],
            "text/latex": "$\\displaystyle a$"
          },
          "metadata": {},
          "execution_count": 91
        }
      ],
      "source": [
        "# Creamos el símbolo a\n",
        "a = symbols(\"a\")\n",
        "a"
      ]
    },
    {
      "cell_type": "code",
      "execution_count": null,
      "metadata": {
        "colab": {
          "base_uri": "https://localhost:8080/",
          "height": 39
        },
        "id": "1AntfoWsA0L7",
        "outputId": "bb599823-70d6-41f9-d8e4-568f0e39589f"
      },
      "outputs": [
        {
          "output_type": "execute_result",
          "data": {
            "text/plain": [
              "(a + pi)**2"
            ],
            "text/latex": "$\\displaystyle \\left(a + \\pi\\right)^{2}$"
          },
          "metadata": {},
          "execution_count": 92
        }
      ],
      "source": [
        "# Número pi\n",
        "(a + pi) ** 2"
      ]
    },
    {
      "cell_type": "code",
      "execution_count": null,
      "metadata": {
        "id": "3-TP_VVyA0L7",
        "colab": {
          "base_uri": "https://localhost:8080/",
          "height": 38
        },
        "outputId": "57603b25-1531-49f6-edfa-4249c8987530"
      },
      "outputs": [
        {
          "output_type": "execute_result",
          "data": {
            "text/plain": [
              "2*I + a"
            ],
            "text/latex": "$\\displaystyle 2 I + a$"
          },
          "metadata": {},
          "execution_count": 93
        }
      ],
      "source": [
        "# Unidad imaginaria\n",
        "a + 2 * I"
      ]
    },
    {
      "cell_type": "code",
      "execution_count": null,
      "metadata": {
        "id": "R4hya03uA0L8",
        "colab": {
          "base_uri": "https://localhost:8080/",
          "height": 38
        },
        "outputId": "738c2ace-7ddb-49c2-8ff1-22d2d7ea4368"
      },
      "outputs": [
        {
          "output_type": "execute_result",
          "data": {
            "text/plain": [
              "E"
            ],
            "text/latex": "$\\displaystyle E$"
          },
          "metadata": {},
          "execution_count": 94
        }
      ],
      "source": [
        "# Número e\n",
        "E"
      ]
    },
    {
      "cell_type": "code",
      "execution_count": null,
      "metadata": {
        "id": "W-L7AA7YA0L8",
        "colab": {
          "base_uri": "https://localhost:8080/"
        },
        "outputId": "7d1ce4c8-4685-4c59-c63d-cbd9fb564844"
      },
      "outputs": [
        {
          "output_type": "execute_result",
          "data": {
            "text/plain": [
              "sympy.core.symbol.Symbol"
            ]
          },
          "metadata": {},
          "execution_count": 95
        }
      ],
      "source": [
        "# Vemos qué tipo de variable es a\n",
        "type(a)"
      ]
    },
    {
      "cell_type": "markdown",
      "metadata": {
        "id": "v6ub8lOSA0L9"
      },
      "source": [
        "Ahora ya podría crear `b = 2 * a`:"
      ]
    },
    {
      "cell_type": "code",
      "execution_count": null,
      "metadata": {
        "id": "x_zM8Rd5A0L9",
        "colab": {
          "base_uri": "https://localhost:8080/",
          "height": 38
        },
        "outputId": "716f7b81-30e5-4a78-e509-3ac1dfdc47b2"
      },
      "outputs": [
        {
          "output_type": "execute_result",
          "data": {
            "text/plain": [
              "2*a"
            ],
            "text/latex": "$\\displaystyle 2 a$"
          },
          "metadata": {},
          "execution_count": 96
        }
      ],
      "source": [
        "b = 2 * a\n",
        "b"
      ]
    },
    {
      "cell_type": "code",
      "execution_count": null,
      "metadata": {
        "id": "S-iv4gxGA0L-",
        "colab": {
          "base_uri": "https://localhost:8080/"
        },
        "outputId": "f7cb4c95-51fb-44ac-a644-a6cc0d88f469"
      },
      "outputs": [
        {
          "output_type": "execute_result",
          "data": {
            "text/plain": [
              "sympy.core.mul.Mul"
            ]
          },
          "metadata": {},
          "execution_count": 97
        }
      ],
      "source": [
        "type(b)"
      ]
    },
    {
      "cell_type": "markdown",
      "metadata": {
        "id": "clCLsTu_A0L_"
      },
      "source": [
        "¿Qué está ocurriendo? Python detecta que a es una variable de tipo `Symbol` y al multiplicarla por `2` devuelve una variable de Sympy.\n",
        "\n",
        "Como Python permite que el tipo de una variable cambie, __si ahora le asigno a `a` un valor float deja de ser un símbolo.__"
      ]
    },
    {
      "cell_type": "code",
      "execution_count": null,
      "metadata": {
        "id": "9E8MagFWA0L_",
        "colab": {
          "base_uri": "https://localhost:8080/"
        },
        "outputId": "998fb751-f77b-407a-eb4a-695b58efc121"
      },
      "outputs": [
        {
          "output_type": "execute_result",
          "data": {
            "text/plain": [
              "2.26492"
            ]
          },
          "metadata": {},
          "execution_count": 98
        }
      ],
      "source": [
        "a = 2.26492\n",
        "a"
      ]
    },
    {
      "cell_type": "code",
      "execution_count": null,
      "metadata": {
        "id": "hzpox_jjA0L_",
        "colab": {
          "base_uri": "https://localhost:8080/"
        },
        "outputId": "7194f2ba-5e23-4ee9-b8cf-ffef33e0ce2f"
      },
      "outputs": [
        {
          "output_type": "execute_result",
          "data": {
            "text/plain": [
              "float"
            ]
          },
          "metadata": {},
          "execution_count": 99
        }
      ],
      "source": [
        "type(a)"
      ]
    },
    {
      "cell_type": "markdown",
      "metadata": {
        "id": "wXNq4zdBA0MA"
      },
      "source": [
        "---\n",
        "__Las conclusiones son:__\n",
        "\n",
        "* __Si quiero usar una variable como símbolo debo crearla previamente.__\n",
        "* Las operaciones con símbolos devuelven símbolos.\n",
        "* Si una varibale que almacenaba un símbolo recibe otra asignación, cambia de tipo.\n",
        "\n",
        "---"
      ]
    },
    {
      "cell_type": "markdown",
      "metadata": {
        "id": "UoAN5FZIA0MA"
      },
      "source": [
        "__Las variables de tipo `Symbol` actúan como contenedores en los que no sabemos qué hay (un real, un complejo, ..). Hay que tener en cuenta que: __una cosa es el nombre de la variable y otra el símbolo con el que se representa__."
      ]
    },
    {
      "cell_type": "code",
      "execution_count": null,
      "metadata": {
        "id": "eIEyzseYA0MB",
        "colab": {
          "base_uri": "https://localhost:8080/",
          "height": 38
        },
        "outputId": "2e71f4c4-57aa-4815-9a0f-ca4b688b7715"
      },
      "outputs": [
        {
          "output_type": "execute_result",
          "data": {
            "text/plain": [
              "c_T"
            ],
            "text/latex": "$\\displaystyle c_{T}$"
          },
          "metadata": {},
          "execution_count": 100
        }
      ],
      "source": [
        "#creación de símbolos\n",
        "coef_traccion = symbols('c_T')\n",
        "coef_traccion"
      ]
    },
    {
      "cell_type": "markdown",
      "metadata": {
        "id": "ftEKLeDmA0MB"
      },
      "source": [
        "Incluso puedo hacer cosas raras como:"
      ]
    },
    {
      "cell_type": "code",
      "execution_count": null,
      "metadata": {
        "colab": {
          "base_uri": "https://localhost:8080/",
          "height": 37
        },
        "id": "22tWUjsBA0MC",
        "outputId": "a5e8ba17-6616-4a1e-c071-b1a0b93d7a70"
      },
      "outputs": [
        {
          "output_type": "execute_result",
          "data": {
            "text/plain": [
              "Sigma"
            ],
            "text/latex": "$\\displaystyle \\Sigma$"
          },
          "metadata": {},
          "execution_count": 101
        }
      ],
      "source": [
        "# Diferencia entre variable y símbolo\n",
        "arc = symbols('Sigma')\n",
        "arc"
      ]
    },
    {
      "cell_type": "markdown",
      "metadata": {
        "id": "FbmO4jOVA0MC"
      },
      "source": [
        "Además, se pueden crear varios símbolos a la vez:"
      ]
    },
    {
      "cell_type": "code",
      "execution_count": null,
      "metadata": {
        "id": "44KK_1uVA0MD"
      },
      "outputs": [],
      "source": [
        "x, y, z, t = symbols(\"x y z t\")"
      ]
    },
    {
      "cell_type": "markdown",
      "metadata": {
        "id": "h7L-MKOLA0MD"
      },
      "source": [
        "y símbolos griegos:"
      ]
    },
    {
      "cell_type": "code",
      "execution_count": null,
      "metadata": {
        "colab": {
          "base_uri": "https://localhost:8080/",
          "height": 38
        },
        "id": "-v1k1er5A0MD",
        "outputId": "53ae2c81-f530-45d7-a2e6-699fee0b20d2"
      },
      "outputs": [
        {
          "output_type": "execute_result",
          "data": {
            "text/plain": [
              "theta"
            ],
            "text/latex": "$\\displaystyle \\theta$"
          },
          "metadata": {},
          "execution_count": 103
        }
      ],
      "source": [
        "theta = symbols('theta')\n",
        "Theta = symbols('Theta')\n",
        "theta"
      ]
    },
    {
      "cell_type": "markdown",
      "metadata": {
        "id": "rPQ7p1cgA0ME"
      },
      "source": [
        "![](../images/simplification_sympy.png)\n",
        "_Fuente: Documentación oficial de SymPy_"
      ]
    },
    {
      "cell_type": "markdown",
      "metadata": {
        "id": "1G6VKyHMA0MQ"
      },
      "source": [
        "## Expresiones"
      ]
    },
    {
      "cell_type": "markdown",
      "metadata": {
        "id": "q3CXIQbmA0MQ"
      },
      "source": [
        "Comencemos por crear una expresión como: $\\cos(x)^2+\\sin(x)^2$"
      ]
    },
    {
      "cell_type": "code",
      "execution_count": null,
      "metadata": {
        "colab": {
          "base_uri": "https://localhost:8080/",
          "height": 38
        },
        "id": "0jy4IGASA0MQ",
        "outputId": "f7ea2031-b9b9-4121-a196-48a29c8a4853"
      },
      "outputs": [
        {
          "output_type": "execute_result",
          "data": {
            "text/plain": [
              "sin(x)**2 + cos(x)**2"
            ],
            "text/latex": "$\\displaystyle \\sin^{2}{\\left(x \\right)} + \\cos^{2}{\\left(x \\right)}$"
          },
          "metadata": {},
          "execution_count": 104
        }
      ],
      "source": [
        "expresion = cos(x)**2 + sin(x)**2\n",
        "expresion"
      ]
    },
    {
      "cell_type": "markdown",
      "metadata": {
        "id": "xYUmZ2B5A0MR"
      },
      "source": [
        "### `simplify()`"
      ]
    },
    {
      "cell_type": "markdown",
      "metadata": {
        "id": "YDiNA54SA0MR"
      },
      "source": [
        "Podemos pedirle que simplifique la expresión anterior:"
      ]
    },
    {
      "cell_type": "code",
      "execution_count": null,
      "metadata": {
        "colab": {
          "base_uri": "https://localhost:8080/",
          "height": 37
        },
        "id": "23JmuPwTA0MS",
        "outputId": "5b43fa16-c3d6-4e97-aea2-7f65f9a40c3a"
      },
      "outputs": [
        {
          "output_type": "execute_result",
          "data": {
            "text/plain": [
              "1"
            ],
            "text/latex": "$\\displaystyle 1$"
          },
          "metadata": {},
          "execution_count": 105
        }
      ],
      "source": [
        "simplify(cos(x)**2 + sin(x)**2)"
      ]
    },
    {
      "cell_type": "markdown",
      "metadata": {
        "id": "7urh4_-gA0MS"
      },
      "source": [
        "En este caso parece estar claro lo que quiere decir más simple, pero como en cualquier _CAS_ el comando `simplify` puede no devolvernos la expresión que nosotros queremos. Cuando esto ocurra necesitaremos usar otras instrucciones."
      ]
    },
    {
      "cell_type": "markdown",
      "metadata": {
        "id": "BtVnp-i7A0MS"
      },
      "source": [
        "### `.subs()`"
      ]
    },
    {
      "cell_type": "markdown",
      "metadata": {
        "id": "Vck0GVodA0MT"
      },
      "source": [
        "En algunas ocasiones necesitaremos sustituir una variable por otra, por otra expresión o por un valor."
      ]
    },
    {
      "cell_type": "code",
      "execution_count": null,
      "metadata": {
        "colab": {
          "base_uri": "https://localhost:8080/",
          "height": 38
        },
        "id": "yebsT0YhA0MT",
        "outputId": "609a8575-1e96-4569-9045-dc621deab0a1"
      },
      "outputs": [
        {
          "output_type": "execute_result",
          "data": {
            "text/plain": [
              "sin(x)**2 + cos(x)**2"
            ],
            "text/latex": "$\\displaystyle \\sin^{2}{\\left(x \\right)} + \\cos^{2}{\\left(x \\right)}$"
          },
          "metadata": {},
          "execution_count": 106
        }
      ],
      "source": [
        "expresion"
      ]
    },
    {
      "cell_type": "code",
      "execution_count": null,
      "metadata": {
        "colab": {
          "base_uri": "https://localhost:8080/",
          "height": 39
        },
        "id": "50uuptYOA0MT",
        "outputId": "eefdcb02-712a-4389-fba7-57429269ce93"
      },
      "outputs": [
        {
          "output_type": "execute_result",
          "data": {
            "text/plain": [
              "sin(y**2)**2 + cos(y**2)**2"
            ],
            "text/latex": "$\\displaystyle \\sin^{2}{\\left(y^{2} \\right)} + \\cos^{2}{\\left(y^{2} \\right)}$"
          },
          "metadata": {},
          "execution_count": 107
        }
      ],
      "source": [
        "# Sustituimos x por y ** 2\n",
        "expresion.subs(x, y**2)"
      ]
    },
    {
      "cell_type": "code",
      "execution_count": null,
      "metadata": {
        "colab": {
          "base_uri": "https://localhost:8080/",
          "height": 38
        },
        "id": "JPH-UqAMA0MU",
        "outputId": "20036877-21a3-4df6-a3b8-15e89862ab4c"
      },
      "outputs": [
        {
          "output_type": "execute_result",
          "data": {
            "text/plain": [
              "sin(x)**2 + cos(x)**2"
            ],
            "text/latex": "$\\displaystyle \\sin^{2}{\\left(x \\right)} + \\cos^{2}{\\left(x \\right)}$"
          },
          "metadata": {},
          "execution_count": 108
        }
      ],
      "source": [
        "# ¡Pero la expresión no cambia!\n",
        "expresion"
      ]
    },
    {
      "cell_type": "code",
      "execution_count": null,
      "metadata": {
        "colab": {
          "base_uri": "https://localhost:8080/",
          "height": 39
        },
        "id": "xISHkQ1QA0MU",
        "outputId": "6a3e1417-cfbe-466d-f5ab-2b63665a2945"
      },
      "outputs": [
        {
          "output_type": "execute_result",
          "data": {
            "text/plain": [
              "sin(y**2)**2 + cos(y**2)**2"
            ],
            "text/latex": "$\\displaystyle \\sin^{2}{\\left(y^{2} \\right)} + \\cos^{2}{\\left(y^{2} \\right)}$"
          },
          "metadata": {},
          "execution_count": 109
        }
      ],
      "source": [
        "# Para que cambie\n",
        "expresion = expresion.subs(x, y**2)\n",
        "expresion"
      ]
    },
    {
      "cell_type": "markdown",
      "metadata": {
        "id": "W0qJnJHWA0MV"
      },
      "source": [
        "Cambia el `sin(x)` por `exp(x)`"
      ]
    },
    {
      "cell_type": "code",
      "execution_count": null,
      "metadata": {
        "id": "NK27WA4uA0MV",
        "colab": {
          "base_uri": "https://localhost:8080/",
          "height": 39
        },
        "outputId": "a666f04c-5b50-4683-b207-9cdad471b1c6"
      },
      "outputs": [
        {
          "output_type": "execute_result",
          "data": {
            "text/plain": [
              "sin(y**2)**2 + cos(y**2)**2"
            ],
            "text/latex": "$\\displaystyle \\sin^{2}{\\left(y^{2} \\right)} + \\cos^{2}{\\left(y^{2} \\right)}$"
          },
          "metadata": {},
          "execution_count": 110
        }
      ],
      "source": [
        "expresion.subs(sin(x), exp(x))"
      ]
    },
    {
      "cell_type": "markdown",
      "metadata": {
        "id": "6Rw19tu5A0MV"
      },
      "source": [
        "Particulariza la expresión $sin(x) + 3 x $ en $x = \\pi$"
      ]
    },
    {
      "cell_type": "code",
      "execution_count": null,
      "metadata": {
        "colab": {
          "base_uri": "https://localhost:8080/",
          "height": 38
        },
        "id": "tZgH8BdzA0MW",
        "outputId": "417f45e1-defd-4f93-b3ee-bb877bd85b6a"
      },
      "outputs": [
        {
          "output_type": "execute_result",
          "data": {
            "text/plain": [
              "-5*pi**3 + 3*pi + cos(pi)"
            ],
            "text/latex": "$\\displaystyle - 5 \\pi^{3} + 3 \\pi + \\cos{\\left(\\pi \\right)}$"
          },
          "metadata": {},
          "execution_count": 111
        }
      ],
      "source": [
        "(cos(x) + 3 * x - 5 * x**3).subs(x, pi)"
      ]
    },
    {
      "cell_type": "markdown",
      "metadata": {
        "id": "YND3Ec-TA0MW"
      },
      "source": [
        "__Aunque si lo que queremos es obtener el valor numérico lo mejor es `.evalf()`__"
      ]
    },
    {
      "cell_type": "code",
      "execution_count": null,
      "metadata": {
        "colab": {
          "base_uri": "https://localhost:8080/",
          "height": 38
        },
        "id": "kraKkW34A0MW",
        "outputId": "c2626927-ae13-4eef-c4f6-1e853967e82a"
      },
      "outputs": [
        {
          "output_type": "execute_result",
          "data": {
            "text/plain": [
              "3.0*pi + sin(pi)"
            ],
            "text/latex": "$\\displaystyle 3.0 \\pi + \\sin{\\left(\\pi \\right)}$"
          },
          "metadata": {},
          "execution_count": 112
        }
      ],
      "source": [
        "(sin(x) + 3 * x).subs(x, pi).evalf(3)"
      ]
    },
    {
      "cell_type": "code",
      "execution_count": null,
      "metadata": {
        "colab": {
          "base_uri": "https://localhost:8080/",
          "height": 38
        },
        "id": "-7vfc6RNA0MW",
        "outputId": "31ed4933-1d65-4030-e51a-92fcd1532d2b"
      },
      "outputs": [
        {
          "output_type": "execute_result",
          "data": {
            "text/plain": [
              "pi"
            ],
            "text/latex": "$\\displaystyle \\pi$"
          },
          "metadata": {},
          "execution_count": 113
        }
      ],
      "source": [
        "#ver pi con 25 decimales\n",
        "pi.evalf(25)"
      ]
    },
    {
      "cell_type": "code",
      "execution_count": null,
      "metadata": {
        "id": "WHMw-lkKA0MX"
      },
      "outputs": [],
      "source": [
        "#el mismo resultado se obtiene ocn la función N()\n"
      ]
    },
    {
      "cell_type": "markdown",
      "metadata": {
        "id": "1_Ja_KSZA0MX"
      },
      "source": [
        "# Simplificación"
      ]
    },
    {
      "cell_type": "markdown",
      "metadata": {
        "id": "ik-AlRPKA0MY"
      },
      "source": [
        "SymPy ofrece numerosas funciones para __simplificar y manipular expresiones__. Entre otras, destacan:\n",
        "\n",
        "* `expand()`\n",
        "* `factor()`\n",
        "* `collect()`\n",
        "* `apart()`\n",
        "* `cancel()`\n",
        "\n",
        "Puedes consultar en la documentación de SymPy lo que hace cada una y algunos ejemplos. __Existen también funciones específicas de simplificación para funciones trigonométricas, potencias y logaritmos.__ Abre [esta documentación](http://docs.sympy.org/latest/tutorial/simplification.html) si lo necesitas."
      ]
    },
    {
      "cell_type": "markdown",
      "metadata": {
        "id": "UlDqeKgQA0MY"
      },
      "source": [
        "##### ¡Te toca!"
      ]
    },
    {
      "cell_type": "markdown",
      "metadata": {
        "id": "_gWuNEvJA0MY"
      },
      "source": [
        "Pasaremos rápidamente por esta parte, para hacer cosas \"más interesantes\". Te proponemos algunos ejemplos para que te familiarices con el manejor de expresiones:"
      ]
    },
    {
      "cell_type": "markdown",
      "metadata": {
        "id": "nRm8Aw9PA0MY"
      },
      "source": [
        "__Crea las expresiones de la izquierda y averigua qué función te hace obtener la de la derecha:__\n",
        "\n",
        "expresión 1| expresión 2\n",
        ":------:|:------:\n",
        "$\\left(x^{3} + 3 y + 2\\right)^{2}$    |    $x^{6} + 6 x^{3} y + 4 x^{3} + 9 y^{2} + 12 y + 4$\n",
        "$\\frac{\\left(3 x^{2} - 2 x + 1\\right)}{\\left(x - 1\\right)^{2}} $ | $3 + \\frac{4}{x - 1} + \\frac{2}{\\left(x - 1\\right)^{2}}$\n",
        "$x^{3} + 9 x^{2} + 27 x + 27$         |    $\\left(x + 3\\right)^{3}$\n",
        "$\\sin(x+2y)$                          |    $\\left(2 \\cos^{2}{\\left (y \\right )} - 1\\right) \\sin{\\left (x \\right )} + 2 \\sin{\\left (y \\right )} \\cos{\\left (x \\right )} \\cos{\\left (y \\right )}$\n"
      ]
    },
    {
      "cell_type": "code",
      "execution_count": null,
      "metadata": {
        "id": "yWNYigB4A0MZ",
        "colab": {
          "base_uri": "https://localhost:8080/",
          "height": 41
        },
        "outputId": "e3a0e247-4e69-4b71-e656-cfcf3eb99c2e"
      },
      "outputs": [
        {
          "output_type": "execute_result",
          "data": {
            "text/plain": [
              "(x**3 + 3*y + 2)**2"
            ],
            "text/latex": "$\\displaystyle \\left(x^{3} + 3 y + 2\\right)^{2}$"
          },
          "metadata": {},
          "execution_count": 115
        }
      ],
      "source": [
        "#1\n",
        "expr1 = (x ** 3 + 3 * y + 2) ** 2\n",
        "expr1"
      ]
    },
    {
      "cell_type": "code",
      "execution_count": null,
      "metadata": {
        "id": "T-kBOPPgA0MZ",
        "colab": {
          "base_uri": "https://localhost:8080/",
          "height": 38
        },
        "outputId": "e560dc3b-7b86-4904-b3b5-fae1623b90d1"
      },
      "outputs": [
        {
          "output_type": "execute_result",
          "data": {
            "text/plain": [
              "x**6 + 6*x**3*y + 4*x**3 + 9*y**2 + 12*y + 4"
            ],
            "text/latex": "$\\displaystyle x^{6} + 6 x^{3} y + 4 x^{3} + 9 y^{2} + 12 y + 4$"
          },
          "metadata": {},
          "execution_count": 116
        }
      ],
      "source": [
        "expr1_exp = expr1.expand()\n",
        "expr1_exp"
      ]
    },
    {
      "cell_type": "code",
      "execution_count": null,
      "metadata": {
        "id": "XMhzcUEbA0Ma",
        "colab": {
          "base_uri": "https://localhost:8080/",
          "height": 61
        },
        "outputId": "9cab3e86-4572-408b-c756-db4ade531cb1"
      },
      "outputs": [
        {
          "output_type": "execute_result",
          "data": {
            "text/plain": [
              "(3*x**2 - 2*x + 1)/(x - 1)**2"
            ],
            "text/latex": "$\\displaystyle \\frac{3 x^{2} - 2 x + 1}{\\left(x - 1\\right)^{2}}$"
          },
          "metadata": {},
          "execution_count": 117
        }
      ],
      "source": [
        "#2\n",
        "expr2 = (3 * x ** 2 - 2 * x + 1) / (x - 1) ** 2\n",
        "expr2"
      ]
    },
    {
      "cell_type": "code",
      "execution_count": null,
      "metadata": {
        "id": "enrN1W8_A0Ma",
        "colab": {
          "base_uri": "https://localhost:8080/",
          "height": 58
        },
        "outputId": "bfc75a2a-0556-4957-eea6-48292221d425"
      },
      "outputs": [
        {
          "output_type": "execute_result",
          "data": {
            "text/plain": [
              "3 + 4/(x - 1) + 2/(x - 1)**2"
            ],
            "text/latex": "$\\displaystyle 3 + \\frac{4}{x - 1} + \\frac{2}{\\left(x - 1\\right)^{2}}$"
          },
          "metadata": {},
          "execution_count": 118
        }
      ],
      "source": [
        "expr2.apart()"
      ]
    },
    {
      "cell_type": "code",
      "execution_count": null,
      "metadata": {
        "id": "8BcVAmnCA0Ma",
        "colab": {
          "base_uri": "https://localhost:8080/",
          "height": 38
        },
        "outputId": "21f762b1-ac95-495a-d75b-2c619429baa4"
      },
      "outputs": [
        {
          "output_type": "execute_result",
          "data": {
            "text/plain": [
              "x**3 + 9*x**2 + 27*x + 27"
            ],
            "text/latex": "$\\displaystyle x^{3} + 9 x^{2} + 27 x + 27$"
          },
          "metadata": {},
          "execution_count": 119
        }
      ],
      "source": [
        "#3\n",
        "expr3 = x ** 3 + 9 * x ** 2 + 27 * x + 27\n",
        "expr3"
      ]
    },
    {
      "cell_type": "code",
      "execution_count": null,
      "metadata": {
        "id": "4O_ROulFA0Mb",
        "colab": {
          "base_uri": "https://localhost:8080/",
          "height": 39
        },
        "outputId": "977b8188-a30f-4c6a-98c6-14629e43c310"
      },
      "outputs": [
        {
          "output_type": "execute_result",
          "data": {
            "text/plain": [
              "(x + 3)**3"
            ],
            "text/latex": "$\\displaystyle \\left(x + 3\\right)^{3}$"
          },
          "metadata": {},
          "execution_count": 120
        }
      ],
      "source": [
        "expr3.factor()"
      ]
    },
    {
      "cell_type": "code",
      "execution_count": null,
      "metadata": {
        "id": "IrAOL7pDA0Mb",
        "colab": {
          "base_uri": "https://localhost:8080/",
          "height": 38
        },
        "outputId": "131d7916-f2d5-4f95-f71c-443bdda42299"
      },
      "outputs": [
        {
          "output_type": "execute_result",
          "data": {
            "text/plain": [
              "sin(x + 2*y)"
            ],
            "text/latex": "$\\displaystyle \\sin{\\left(x + 2 y \\right)}$"
          },
          "metadata": {},
          "execution_count": 121
        }
      ],
      "source": [
        "#4\n",
        "expr4 = sin(x + 2 * y)\n",
        "expr4"
      ]
    },
    {
      "cell_type": "code",
      "execution_count": null,
      "metadata": {
        "id": "LWBGSlPBA0Mc",
        "colab": {
          "base_uri": "https://localhost:8080/",
          "height": 38
        },
        "outputId": "16fdfabc-71f6-4be8-b586-72d654ce10d0"
      },
      "outputs": [
        {
          "output_type": "execute_result",
          "data": {
            "text/plain": [
              "sin(x + 2*y)"
            ],
            "text/latex": "$\\displaystyle \\sin{\\left(x + 2 y \\right)}$"
          },
          "metadata": {},
          "execution_count": 122
        }
      ],
      "source": [
        "expand(expr4)"
      ]
    },
    {
      "cell_type": "code",
      "execution_count": null,
      "metadata": {
        "id": "au7acUNUA0Mc",
        "colab": {
          "base_uri": "https://localhost:8080/",
          "height": 39
        },
        "outputId": "6f01dda5-a5c0-4307-ae8b-f3b56993a509"
      },
      "outputs": [
        {
          "output_type": "execute_result",
          "data": {
            "text/plain": [
              "(2*cos(y)**2 - 1)*sin(x) + 2*sin(y)*cos(x)*cos(y)"
            ],
            "text/latex": "$\\displaystyle \\left(2 \\cos^{2}{\\left(y \\right)} - 1\\right) \\sin{\\left(x \\right)} + 2 \\sin{\\left(y \\right)} \\cos{\\left(x \\right)} \\cos{\\left(y \\right)}$"
          },
          "metadata": {},
          "execution_count": 123
        }
      ],
      "source": [
        "expand_trig(expr4)"
      ]
    },
    {
      "cell_type": "code",
      "execution_count": null,
      "metadata": {
        "id": "oO4q3rwNA0Md",
        "colab": {
          "base_uri": "https://localhost:8080/",
          "height": 38
        },
        "outputId": "a5fe8649-1f8b-4e84-cb43-d7a4fe71656c"
      },
      "outputs": [
        {
          "output_type": "execute_result",
          "data": {
            "text/plain": [
              "2*sin(x)*cos(y)**2 - sin(x) + 2*sin(y)*cos(x)*cos(y)"
            ],
            "text/latex": "$\\displaystyle 2 \\sin{\\left(x \\right)} \\cos^{2}{\\left(y \\right)} - \\sin{\\left(x \\right)} + 2 \\sin{\\left(y \\right)} \\cos{\\left(x \\right)} \\cos{\\left(y \\right)}$"
          },
          "metadata": {},
          "execution_count": 124
        }
      ],
      "source": [
        "expand(expr4, trig=True)"
      ]
    },
    {
      "cell_type": "markdown",
      "metadata": {
        "id": "_bSXyHY3A0Md"
      },
      "source": [
        "# Derivadas e integrales"
      ]
    },
    {
      "cell_type": "markdown",
      "metadata": {
        "id": "im1I5lhGA0Md"
      },
      "source": [
        "Puedes derivar una expresion usando el método `.diff()` y la función `dif()`"
      ]
    },
    {
      "cell_type": "code",
      "execution_count": null,
      "metadata": {
        "id": "VH4jYUDgA0Md",
        "colab": {
          "base_uri": "https://localhost:8080/",
          "height": 63
        },
        "outputId": "79d543cf-32dd-4765-fdff-de7c09c8ca96"
      },
      "outputs": [
        {
          "output_type": "execute_result",
          "data": {
            "text/plain": [
              "-x**2/(x**2 + 1)**(3/2) + 1/sqrt(x**2 + 1)"
            ],
            "text/latex": "$\\displaystyle - \\frac{x^{2}}{\\left(x^{2} + 1\\right)^{\\frac{3}{2}}} + \\frac{1}{\\sqrt{x^{2} + 1}}$"
          },
          "metadata": {},
          "execution_count": 157
        }
      ],
      "source": [
        "#creamos una expresión\n",
        "x = symbols(\"x\")\n",
        "y = symbols(\"y\")\n",
        "expr = cos(x)*sin(y)\n",
        "\n",
        "#obtenemos la derivada primera con fun\n",
        "diff(diff(sqrt(1+x**2)))"
      ]
    },
    {
      "cell_type": "code",
      "execution_count": null,
      "metadata": {
        "id": "UAOBbg5QA0Me",
        "colab": {
          "base_uri": "https://localhost:8080/",
          "height": 38
        },
        "outputId": "614964c7-e8b7-440d-f2bd-b3f0334b81d7"
      },
      "outputs": [
        {
          "output_type": "execute_result",
          "data": {
            "text/plain": [
              "-sin(x)*sin(y)"
            ],
            "text/latex": "$\\displaystyle - \\sin{\\left(x \\right)} \\sin{\\left(y \\right)}$"
          },
          "metadata": {},
          "execution_count": 126
        }
      ],
      "source": [
        "#utilizando método\n",
        "expr.diff(x)"
      ]
    },
    {
      "cell_type": "markdown",
      "metadata": {
        "id": "06RaCVj-A0Me"
      },
      "source": [
        "__¿derivada tercera?__"
      ]
    },
    {
      "cell_type": "code",
      "execution_count": null,
      "metadata": {
        "id": "OJkz1soyA0Mf",
        "colab": {
          "base_uri": "https://localhost:8080/",
          "height": 38
        },
        "outputId": "7f2d02fa-a401-45ed-98cd-db337a6df80d"
      },
      "outputs": [
        {
          "output_type": "execute_result",
          "data": {
            "text/plain": [
              "-sin(x)*sin(y)"
            ],
            "text/latex": "$\\displaystyle - \\sin{\\left(x \\right)} \\sin{\\left(y \\right)}$"
          },
          "metadata": {},
          "execution_count": 127
        }
      ],
      "source": [
        "expr.diff(x, x, x, y, y)"
      ]
    },
    {
      "cell_type": "code",
      "execution_count": null,
      "metadata": {
        "id": "7-wRAivqA0Mf",
        "colab": {
          "base_uri": "https://localhost:8080/",
          "height": 38
        },
        "outputId": "4b02e335-71c4-495c-d4f3-270d049a46f4"
      },
      "outputs": [
        {
          "output_type": "execute_result",
          "data": {
            "text/plain": [
              "-sin(y)*cos(x)"
            ],
            "text/latex": "$\\displaystyle - \\sin{\\left(y \\right)} \\cos{\\left(x \\right)}$"
          },
          "metadata": {},
          "execution_count": 128
        }
      ],
      "source": [
        "expr.diff(y, 2)"
      ]
    },
    {
      "cell_type": "markdown",
      "metadata": {
        "id": "Q-O61HzaA0Mf"
      },
      "source": [
        "__¿varias variables?__"
      ]
    },
    {
      "cell_type": "code",
      "execution_count": null,
      "metadata": {
        "id": "nrUpq04WA0Mg",
        "colab": {
          "base_uri": "https://localhost:8080/",
          "height": 38
        },
        "outputId": "2aa9e6ce-0fbd-48c3-f29d-b6e1310adc26"
      },
      "outputs": [
        {
          "output_type": "execute_result",
          "data": {
            "text/plain": [
              "x**2*cos(y) + y**3*sin(x)**2"
            ],
            "text/latex": "$\\displaystyle x^{2} \\cos{\\left(y \\right)} + y^{3} \\sin^{2}{\\left(x \\right)}$"
          },
          "metadata": {},
          "execution_count": 129
        }
      ],
      "source": [
        "expr_xy = y ** 3 * sin(x) ** 2 + x ** 2 * cos(y)\n",
        "expr_xy"
      ]
    },
    {
      "cell_type": "code",
      "execution_count": null,
      "metadata": {
        "id": "4UUZHwDOA0Mh",
        "colab": {
          "base_uri": "https://localhost:8080/",
          "height": 39
        },
        "outputId": "217d0113-8d1b-4274-f38d-d061f176e470"
      },
      "outputs": [
        {
          "output_type": "execute_result",
          "data": {
            "text/plain": [
              "2*(-6*y*sin(x)**2 + 6*y*cos(x)**2 - cos(y))"
            ],
            "text/latex": "$\\displaystyle 2 \\left(- 6 y \\sin^{2}{\\left(x \\right)} + 6 y \\cos^{2}{\\left(x \\right)} - \\cos{\\left(y \\right)}\\right)$"
          },
          "metadata": {},
          "execution_count": 130
        }
      ],
      "source": [
        "diff(expr_xy, x, 2, y, 2)"
      ]
    },
    {
      "cell_type": "markdown",
      "metadata": {
        "id": "AHk4lKsaA0Mh"
      },
      "source": [
        "__Queremos que la deje indicada__, usamos `Derivative()`"
      ]
    },
    {
      "cell_type": "code",
      "execution_count": null,
      "metadata": {
        "id": "FL_ROOhpA0Mi",
        "colab": {
          "base_uri": "https://localhost:8080/",
          "height": 52
        },
        "outputId": "ef3a4a40-e965-4c2b-b506-4f18d8eba435"
      },
      "outputs": [
        {
          "output_type": "execute_result",
          "data": {
            "text/plain": [
              "Derivative(sin(y)*cos(x), x)"
            ],
            "text/latex": "$\\displaystyle \\frac{\\partial}{\\partial x} \\sin{\\left(y \\right)} \\cos{\\left(x \\right)}$"
          },
          "metadata": {},
          "execution_count": 131
        }
      ],
      "source": [
        "Derivative(expr, x)"
      ]
    },
    {
      "cell_type": "markdown",
      "metadata": {
        "id": "RHBoGv4oA0Mi"
      },
      "source": [
        "__¿Será capaz SymPy de aplicar la regla de la cadena?__"
      ]
    },
    {
      "cell_type": "code",
      "execution_count": null,
      "metadata": {
        "id": "TefnP0xyA0Mi",
        "colab": {
          "base_uri": "https://localhost:8080/",
          "height": 38
        },
        "outputId": "4be24a8c-9287-4a9e-d349-5e5d972df40c"
      },
      "outputs": [
        {
          "output_type": "execute_result",
          "data": {
            "text/plain": [
              "F(x)"
            ],
            "text/latex": "$\\displaystyle F{\\left(x \\right)}$"
          },
          "metadata": {},
          "execution_count": 132
        }
      ],
      "source": [
        "# Creamos una función F\n",
        "F = Function(\"F\")\n",
        "F(x)"
      ]
    },
    {
      "cell_type": "code",
      "execution_count": null,
      "metadata": {
        "id": "VmJELiHDA0Mj",
        "colab": {
          "base_uri": "https://localhost:8080/",
          "height": 38
        },
        "outputId": "0770dfe7-7fcc-4130-ce3a-3b06a5c6ebb7"
      },
      "outputs": [
        {
          "output_type": "execute_result",
          "data": {
            "text/plain": [
              "G(x)"
            ],
            "text/latex": "$\\displaystyle G{\\left(x \\right)}$"
          },
          "metadata": {},
          "execution_count": 133
        }
      ],
      "source": [
        "# Creamos una función G\n",
        "G = Function('G')\n",
        "G(x)"
      ]
    },
    {
      "cell_type": "markdown",
      "metadata": {
        "id": "2QDI560gA0Mk"
      },
      "source": [
        "$$\\frac{d}{d x} F{\\left (G(x) \\right )} $$"
      ]
    },
    {
      "cell_type": "code",
      "execution_count": null,
      "metadata": {
        "id": "S2Y5095ZA0Mk",
        "colab": {
          "base_uri": "https://localhost:8080/",
          "height": 56
        },
        "outputId": "6e55987d-e944-4a8d-ae2b-612dbe274900"
      },
      "outputs": [
        {
          "output_type": "execute_result",
          "data": {
            "text/plain": [
              "Derivative(F(G(x)), G(x))*Derivative(G(x), x)"
            ],
            "text/latex": "$\\displaystyle \\frac{d}{d G{\\left(x \\right)}} F{\\left(G{\\left(x \\right)} \\right)} \\frac{d}{d x} G{\\left(x \\right)}$"
          },
          "metadata": {},
          "execution_count": 134
        }
      ],
      "source": [
        "# Derivamos la función compuesta F(G(x))\n",
        "F(G(x)).diff(x)"
      ]
    },
    {
      "cell_type": "markdown",
      "metadata": {
        "id": "SzJxD_NrA0M0"
      },
      "source": [
        "En un caso en el que conocemos las funciones:"
      ]
    },
    {
      "cell_type": "code",
      "execution_count": null,
      "metadata": {
        "id": "_8VfZwO3A0M0",
        "colab": {
          "base_uri": "https://localhost:8080/",
          "height": 38
        },
        "outputId": "dddc3f82-f523-49a1-aa60-30e9a914f624"
      },
      "outputs": [
        {
          "output_type": "execute_result",
          "data": {
            "text/plain": [
              "2*y*exp(x)"
            ],
            "text/latex": "$\\displaystyle 2 y e^{x}$"
          },
          "metadata": {},
          "execution_count": 135
        }
      ],
      "source": [
        "# definimos una f\n",
        "f = 2 * y * exp(x)\n",
        "f"
      ]
    },
    {
      "cell_type": "code",
      "execution_count": null,
      "metadata": {
        "id": "KXxA_a9xA0M1",
        "colab": {
          "base_uri": "https://localhost:8080/",
          "height": 38
        },
        "outputId": "082dedc8-28d1-4f91-d6b8-b125fa2b9305"
      },
      "outputs": [
        {
          "output_type": "execute_result",
          "data": {
            "text/plain": [
              "4*y**2*exp(2*x)*cos(x) + 2*y*exp(x)"
            ],
            "text/latex": "$\\displaystyle 4 y^{2} e^{2 x} \\cos{\\left(x \\right)} + 2 y e^{x}$"
          },
          "metadata": {},
          "execution_count": 136
        }
      ],
      "source": [
        "# definimos una g(f)\n",
        "g = f **2 * cos(x) + f\n",
        "g"
      ]
    },
    {
      "cell_type": "code",
      "execution_count": null,
      "metadata": {
        "id": "hohHfy2JA0M3",
        "colab": {
          "base_uri": "https://localhost:8080/",
          "height": 38
        },
        "outputId": "2fda3721-b778-4945-c83f-07cf138bbf9e"
      },
      "outputs": [
        {
          "output_type": "execute_result",
          "data": {
            "text/plain": [
              "-4*y**2*exp(2*x)*sin(x) + 8*y**2*exp(2*x)*cos(x) + 2*y*exp(x)"
            ],
            "text/latex": "$\\displaystyle - 4 y^{2} e^{2 x} \\sin{\\left(x \\right)} + 8 y^{2} e^{2 x} \\cos{\\left(x \\right)} + 2 y e^{x}$"
          },
          "metadata": {},
          "execution_count": 137
        }
      ],
      "source": [
        "#la derivamos\n",
        "diff(g,x)"
      ]
    },
    {
      "cell_type": "markdown",
      "metadata": {
        "id": "x-FRTlA1A0M3"
      },
      "source": [
        "##### Te toca integrar"
      ]
    },
    {
      "cell_type": "markdown",
      "metadata": {
        "id": "IcDV9_uQA0M4"
      },
      "source": [
        "__Si te digo que se integra usando el método `.integrate()` o la función `integrate()`__. ¿Te atreves a integrar estas casi inmediatas...?:\n",
        "\n",
        "$$\\int{\\cos(x)^2}dx$$\n",
        "$$\\int{\\frac{dx}{\\sin(x)}}$$\n",
        "$$\\int{\\frac{dx}{(x^2+a^2)^2}}$$\n",
        "\n"
      ]
    },
    {
      "cell_type": "code",
      "execution_count": null,
      "metadata": {
        "id": "pbMPhB7tA0M4",
        "colab": {
          "base_uri": "https://localhost:8080/",
          "height": 54
        },
        "outputId": "a487f3ef-7a3e-44e3-aa39-bb3a69206109"
      },
      "outputs": [
        {
          "output_type": "execute_result",
          "data": {
            "text/plain": [
              "3*x**2/2 + x/2 + sin(x)*cos(x)/2"
            ],
            "text/latex": "$\\displaystyle \\frac{3 x^{2}}{2} + \\frac{x}{2} + \\frac{\\sin{\\left(x \\right)} \\cos{\\left(x \\right)}}{2}$"
          },
          "metadata": {},
          "execution_count": 138
        }
      ],
      "source": [
        "int1 = cos(x) **2 + 3*x\n",
        "integrate(int1)"
      ]
    },
    {
      "cell_type": "code",
      "execution_count": null,
      "metadata": {
        "id": "ST21YhwJA0M5",
        "colab": {
          "base_uri": "https://localhost:8080/",
          "height": 53
        },
        "outputId": "6946bc97-d49f-48c1-c9a2-13b01fad8ab3"
      },
      "outputs": [
        {
          "output_type": "execute_result",
          "data": {
            "text/plain": [
              "log(cos(x) - 1)/2 - log(cos(x) + 1)/2"
            ],
            "text/latex": "$\\displaystyle \\frac{\\log{\\left(\\cos{\\left(x \\right)} - 1 \\right)}}{2} - \\frac{\\log{\\left(\\cos{\\left(x \\right)} + 1 \\right)}}{2}$"
          },
          "metadata": {},
          "execution_count": 139
        }
      ],
      "source": [
        "int2 =  1 / sin(x)\n",
        "integrate(int2)"
      ]
    },
    {
      "cell_type": "code",
      "execution_count": null,
      "metadata": {
        "id": "ybVqZClpA0M5",
        "colab": {
          "base_uri": "https://localhost:8080/",
          "height": 57
        },
        "outputId": "cbab7b92-218b-4951-8ebf-b34184336d55"
      },
      "outputs": [
        {
          "output_type": "execute_result",
          "data": {
            "text/plain": [
              "(5*a**2*x + 3*x**3)/(8*a**8 + 16*a**6*x**2 + 8*a**4*x**4) + 3*atan(x/a)/(8*a**5)"
            ],
            "text/latex": "$\\displaystyle \\frac{5 a^{2} x + 3 x^{3}}{8 a^{8} + 16 a^{6} x^{2} + 8 a^{4} x^{4}} + \\frac{3 \\operatorname{atan}{\\left(\\frac{x}{a} \\right)}}{8 a^{5}}$"
          },
          "metadata": {},
          "execution_count": 140
        }
      ],
      "source": [
        "x, a = symbols('x a', real=True)\n",
        "\n",
        "int3 = 1 / (x**2 + a**2)**3\n",
        "integrate(int3, x)"
      ]
    },
    {
      "cell_type": "markdown",
      "metadata": {
        "id": "hv44odsRA0M6"
      },
      "source": [
        "# Límites"
      ]
    },
    {
      "cell_type": "markdown",
      "metadata": {
        "id": "oQXCOakBA0M6"
      },
      "source": [
        "Calculemos este límite :\n",
        "\n",
        "$$\\lim_{x \\to 0} \\left(\\frac{x}{\\tan{\\left (x \\right )}}\\right)^{\\frac{1}{x^{2}}}$$\n",
        "\n",
        "Primero creamos la expresión:"
      ]
    },
    {
      "cell_type": "code",
      "execution_count": null,
      "metadata": {
        "id": "yu5iTKxrA0M7",
        "colab": {
          "base_uri": "https://localhost:8080/",
          "height": 63
        },
        "outputId": "9e0c877f-027b-459a-f7c2-cdb5600fec3e"
      },
      "outputs": [
        {
          "output_type": "execute_result",
          "data": {
            "text/plain": [
              "(x/tan(x))**(x**(-2))"
            ],
            "text/latex": "$\\displaystyle \\left(\\frac{x}{\\tan{\\left(x \\right)}}\\right)^{\\frac{1}{x^{2}}}$"
          },
          "metadata": {},
          "execution_count": 141
        }
      ],
      "source": [
        "x = symbols('x')\n",
        "expr = (x / tan(x)) ** (1 / x**2)\n",
        "expr"
      ]
    },
    {
      "cell_type": "markdown",
      "metadata": {
        "id": "dJjMCv3GA0M7"
      },
      "source": [
        "Obtenemos el límite con la función `limit()` y si queremos dejarlo indicado, podemos usar `Limit()`:"
      ]
    },
    {
      "cell_type": "code",
      "execution_count": null,
      "metadata": {
        "id": "FlSMrtzEA0M7",
        "colab": {
          "base_uri": "https://localhost:8080/",
          "height": 40
        },
        "outputId": "748aa9b1-2e1c-430c-aa1c-c2193dbad901"
      },
      "outputs": [
        {
          "output_type": "execute_result",
          "data": {
            "text/plain": [
              "exp(-1/3)"
            ],
            "text/latex": "$\\displaystyle e^{- \\frac{1}{3}}$"
          },
          "metadata": {},
          "execution_count": 142
        }
      ],
      "source": [
        "limit(expr, x, 0)"
      ]
    },
    {
      "cell_type": "markdown",
      "metadata": {
        "id": "OY-u6-7YA0M8"
      },
      "source": [
        "# Series"
      ]
    },
    {
      "cell_type": "markdown",
      "metadata": {
        "id": "q9nbZJgaA0M8"
      },
      "source": [
        "Los desarrollos en serie se pueden llevar a cabo con el método `.series()` o la función `series()`"
      ]
    },
    {
      "cell_type": "code",
      "execution_count": null,
      "metadata": {
        "colab": {
          "base_uri": "https://localhost:8080/",
          "height": 58
        },
        "id": "xy5aHZZeA0M9",
        "outputId": "d70b353d-7341-42ea-e5db-297a91f01280"
      },
      "outputs": [
        {
          "output_type": "execute_result",
          "data": {
            "text/plain": [
              "sqrt(k/x + y)"
            ],
            "text/latex": "$\\displaystyle \\sqrt{\\frac{k}{x} + y}$"
          },
          "metadata": {},
          "execution_count": 143
        }
      ],
      "source": [
        "#creamos la expresión\n",
        "expr = sqrt(y+(k/x))\n",
        "expr"
      ]
    },
    {
      "cell_type": "code",
      "execution_count": null,
      "metadata": {
        "colab": {
          "base_uri": "https://localhost:8080/",
          "height": 316
        },
        "id": "T5fpwBGYA0M9",
        "outputId": "1dbc3543-a777-4222-fbab-2e4acbbcfe4a"
      },
      "outputs": [
        {
          "output_type": "error",
          "ename": "ValueError",
          "evalue": "ignored",
          "traceback": [
            "\u001b[0;31m---------------------------------------------------------------------------\u001b[0m",
            "\u001b[0;31mValueError\u001b[0m                                Traceback (most recent call last)",
            "\u001b[0;32m<ipython-input-144-caf05d600f70>\u001b[0m in \u001b[0;36m<cell line: 2>\u001b[0;34m()\u001b[0m\n\u001b[1;32m      1\u001b[0m \u001b[0;31m#la desarrollamos en serie\u001b[0m\u001b[0;34m\u001b[0m\u001b[0;34m\u001b[0m\u001b[0m\n\u001b[0;32m----> 2\u001b[0;31m \u001b[0mexpr\u001b[0m\u001b[0;34m.\u001b[0m\u001b[0mseries\u001b[0m\u001b[0;34m(\u001b[0m\u001b[0;34m)\u001b[0m\u001b[0;34m\u001b[0m\u001b[0;34m\u001b[0m\u001b[0m\n\u001b[0m",
            "\u001b[0;32m/usr/local/lib/python3.10/dist-packages/sympy/core/expr.py\u001b[0m in \u001b[0;36mseries\u001b[0;34m(self, x, x0, n, dir, logx, cdir)\u001b[0m\n\u001b[1;32m   2961\u001b[0m                 \u001b[0;32mreturn\u001b[0m \u001b[0mself\u001b[0m\u001b[0;34m\u001b[0m\u001b[0;34m\u001b[0m\u001b[0m\n\u001b[1;32m   2962\u001b[0m             \u001b[0;32melif\u001b[0m \u001b[0mlen\u001b[0m\u001b[0;34m(\u001b[0m\u001b[0msyms\u001b[0m\u001b[0;34m)\u001b[0m \u001b[0;34m>\u001b[0m \u001b[0;36m1\u001b[0m\u001b[0;34m:\u001b[0m\u001b[0;34m\u001b[0m\u001b[0;34m\u001b[0m\u001b[0m\n\u001b[0;32m-> 2963\u001b[0;31m                 \u001b[0;32mraise\u001b[0m \u001b[0mValueError\u001b[0m\u001b[0;34m(\u001b[0m\u001b[0;34m'x must be given for multivariate functions.'\u001b[0m\u001b[0;34m)\u001b[0m\u001b[0;34m\u001b[0m\u001b[0;34m\u001b[0m\u001b[0m\n\u001b[0m\u001b[1;32m   2964\u001b[0m             \u001b[0mx\u001b[0m \u001b[0;34m=\u001b[0m \u001b[0msyms\u001b[0m\u001b[0;34m.\u001b[0m\u001b[0mpop\u001b[0m\u001b[0;34m(\u001b[0m\u001b[0;34m)\u001b[0m\u001b[0;34m\u001b[0m\u001b[0;34m\u001b[0m\u001b[0m\n\u001b[1;32m   2965\u001b[0m \u001b[0;34m\u001b[0m\u001b[0m\n",
            "\u001b[0;31mValueError\u001b[0m: x must be given for multivariate functions."
          ]
        }
      ],
      "source": [
        "#la desarrollamos en serie\n",
        "expr.series()"
      ]
    },
    {
      "cell_type": "markdown",
      "metadata": {
        "id": "ediM6TaPA0M9"
      },
      "source": [
        "Se puede especificar el número de términos pasándole un argumento `n=...`. El número que le pasemos será el primer término que desprecie."
      ]
    },
    {
      "cell_type": "code",
      "execution_count": null,
      "metadata": {
        "id": "j3FwQAvgA0M-"
      },
      "outputs": [],
      "source": [
        "# Indicando el número de términos\n",
        "series(expr, n=7)"
      ]
    },
    {
      "cell_type": "markdown",
      "metadata": {
        "id": "HXHEZnpSA0M-"
      },
      "source": [
        "Si nos molesta el $\\mathcal{O}(x^{10})$ lo podemos quitar con `removeO()`:"
      ]
    },
    {
      "cell_type": "code",
      "execution_count": null,
      "metadata": {
        "id": "Fh7C9BmOA0M-"
      },
      "outputs": [],
      "source": [
        "series(k/x, n=7).removeO()"
      ]
    },
    {
      "cell_type": "code",
      "execution_count": null,
      "metadata": {
        "id": "8O_bQnbeA0M_"
      },
      "outputs": [],
      "source": [
        "series(sin(x), n=8, x0=pi/3).removeO().subs(x, y-pi/3)"
      ]
    },
    {
      "cell_type": "markdown",
      "metadata": {
        "id": "TCZ1d4p5A0NA"
      },
      "source": [
        "## Resolución de ecuaciones"
      ]
    },
    {
      "cell_type": "markdown",
      "metadata": {
        "id": "SzPYSCKvA0NA"
      },
      "source": [
        "Como se ha mencionado anteriormente las ecuaciones no se pueden crear con el `=`"
      ]
    },
    {
      "cell_type": "code",
      "source": [
        "Eq(x**3-3*x,y+2)"
      ],
      "metadata": {
        "id": "h-2lG1FlCYEJ"
      },
      "execution_count": null,
      "outputs": []
    },
    {
      "cell_type": "code",
      "execution_count": null,
      "metadata": {
        "id": "Oqw9SgqtA0NB"
      },
      "outputs": [],
      "source": [
        "#creamos la ecuación\n",
        "ecuacion = Eq(x ** 2 - x + 10 , 3)\n",
        "ecuacion\n"
      ]
    },
    {
      "cell_type": "code",
      "execution_count": null,
      "metadata": {
        "id": "fkIUhSnRA0NC"
      },
      "outputs": [],
      "source": [
        "# También la podemos crear como\n",
        "Eq(x ** 2 - x -3,0)"
      ]
    },
    {
      "cell_type": "code",
      "execution_count": null,
      "metadata": {
        "id": "MXLdWSr1A0ND"
      },
      "outputs": [],
      "source": [
        "#la resolvemos\n",
        "solve(Eq(3*x**3 + x ** 2 - 3*x -3,0))"
      ]
    },
    {
      "cell_type": "markdown",
      "metadata": {
        "id": "48ps2P_CA0ND"
      },
      "source": [
        "Pero la gracia es resolver con símbolos, ¿no?\n",
        "$$a e^{\\frac{x}{t}} = C$$"
      ]
    },
    {
      "cell_type": "code",
      "execution_count": null,
      "metadata": {
        "id": "jItZ91gyA0ND"
      },
      "outputs": [],
      "source": [
        "# Creamos los símbolos y la ecuación\n",
        "a, x, t, C = symbols('a, x, t, C')\n",
        "C=5\n",
        "ecuacion = Eq(a * exp(x/t), C).subs(x,10)\n",
        "ecuacion"
      ]
    },
    {
      "cell_type": "code",
      "execution_count": null,
      "metadata": {
        "id": "730St85GA0NE"
      },
      "outputs": [],
      "source": [
        "# La resolvemos\n",
        "\n",
        "type(solve(ecuacion ,t))\n"
      ]
    },
    {
      "cell_type": "markdown",
      "metadata": {
        "id": "CS0uvOLUA0NE"
      },
      "source": [
        "Si consultamos la ayuda, vemos que las posibilidades y el número de parámetros son muchos, no vamos a entrar ahora en ellos, pero ¿se ve la potencia?"
      ]
    },
    {
      "cell_type": "markdown",
      "source": [
        "## Sistemas de ecuaciones algebraicas"
      ],
      "metadata": {
        "id": "lgieOg06IUi_"
      }
    },
    {
      "cell_type": "markdown",
      "source": [
        "Tratemos de resolver, por ejemplo:\n",
        "\n",
        "$$y - x + z - 3 = 0$$\n",
        "$$5x- 2y -z = -10$$\n",
        "$$2y - 3x + 3z + 3 = 0$$\n"
      ],
      "metadata": {
        "id": "ZwpnDcYgIcbk"
      }
    },
    {
      "cell_type": "code",
      "source": [
        "t=symbols(\"t\")\n",
        "\n",
        "exp1=Eq(y - x +z-3+6*t,0)\n",
        "exp2=Eq(5*x-2*y-z+3*t,-10)\n",
        "exp3=Eq(2*y-3*x+3+3*z-t,0)\n",
        "exp4=Eq(5*x+3*y-z+t,0)\n",
        "\n",
        "exp4"
      ],
      "metadata": {
        "id": "MPPmioD6Skdn"
      },
      "execution_count": null,
      "outputs": []
    },
    {
      "cell_type": "code",
      "source": [
        "solve([exp1,exp2,exp3,exp4], [x,y,z,t])"
      ],
      "metadata": {
        "id": "arQlTDalST-k"
      },
      "execution_count": null,
      "outputs": []
    },
    {
      "cell_type": "markdown",
      "source": [
        "Tratemos de resolver, por ejemplo:\n",
        "\n",
        "$$x-y = 0$$\n",
        "$$cos(x) - y = 0$$"
      ],
      "metadata": {
        "id": "fuzBbEkdVZDj"
      }
    },
    {
      "cell_type": "code",
      "source": [
        "exp4=Eq(x-y,0)\n",
        "exp5=Eq(cos(x)-y,0)"
      ],
      "metadata": {
        "id": "wqkrk5pZVs9D"
      },
      "execution_count": null,
      "outputs": []
    },
    {
      "cell_type": "code",
      "source": [
        "#Resolver númerico\n",
        "nsolve([exp4,exp5], [x, y], [1,1])"
      ],
      "metadata": {
        "id": "DJSHM84hV9gP"
      },
      "execution_count": null,
      "outputs": []
    },
    {
      "cell_type": "markdown",
      "metadata": {
        "id": "lrSj4RgiA0NE"
      },
      "source": [
        "## Ecuaciones diferenciales"
      ]
    },
    {
      "cell_type": "markdown",
      "metadata": {
        "id": "h069K8fJA0NF"
      },
      "source": [
        "Tratemos de resolver, por ejemplo:\n",
        "\n",
        "$$y{\\left (x \\right )} + \\frac{d}{d x} y{\\left (x \\right )} + \\frac{d^{2}}{d x^{2}}  y{\\left (x \\right )} = \\cos{\\left (x \\right )}$$"
      ]
    },
    {
      "cell_type": "code",
      "execution_count": null,
      "metadata": {
        "id": "H36G90DTA0NF"
      },
      "outputs": [],
      "source": [
        "x = symbols('x')\n",
        "f = Function('y')\n",
        "ecuacion_dif = Eq(f(x).diff(x,2) + f(x).diff() + f(x), cos(x))\n",
        "ecuacion_dif"
      ]
    },
    {
      "cell_type": "code",
      "execution_count": null,
      "metadata": {
        "id": "FW70b9ROA0NF"
      },
      "outputs": [],
      "source": [
        "#resolvemos\n",
        "dsolve(ecuacion_dif, f(x))"
      ]
    },
    {
      "cell_type": "markdown",
      "metadata": {
        "id": "dzlmiH-XA0NF"
      },
      "source": [
        "# Matrices"
      ]
    },
    {
      "cell_type": "code",
      "execution_count": null,
      "metadata": {
        "id": "jycOlO4hA0NG"
      },
      "outputs": [],
      "source": [
        "#creamos una matriz llena de símbolos\n",
        "a, b, c, d = symbols('a b c d')\n",
        "A = Matrix([[a, b],[c, d ]])\n",
        "A"
      ]
    },
    {
      "cell_type": "code",
      "execution_count": null,
      "metadata": {
        "id": "3V8tekVAA0NG"
      },
      "outputs": [],
      "source": [
        "#sacamos autovalores\n",
        "A.eigenvals()"
      ]
    },
    {
      "cell_type": "code",
      "execution_count": null,
      "metadata": {
        "id": "nI5Z17p_A0NG"
      },
      "outputs": [],
      "source": [
        "#inversa\n",
        "A.inv()"
      ]
    },
    {
      "cell_type": "code",
      "execution_count": null,
      "metadata": {
        "id": "vrUP3LPIA0NG"
      },
      "outputs": [],
      "source": [
        "#elevamos al cuadrado la matriz\n",
        "A ** 2"
      ]
    },
    {
      "cell_type": "markdown",
      "source": [
        "# Plotting"
      ],
      "metadata": {
        "id": "b4ud3YyXWF_m"
      }
    },
    {
      "cell_type": "code",
      "source": [
        "#Llamaremos a un modulo super importante de esta paqueteria\n",
        "from sympy.plotting import *"
      ],
      "metadata": {
        "id": "8W-zia6rWGaM"
      },
      "execution_count": null,
      "outputs": []
    },
    {
      "cell_type": "code",
      "source": [
        "plot(x)"
      ],
      "metadata": {
        "id": "nnSX2QuMWGoc"
      },
      "execution_count": null,
      "outputs": []
    },
    {
      "cell_type": "code",
      "source": [
        "plot((x-4)**2)"
      ],
      "metadata": {
        "id": "rU4j4a-iWG2u"
      },
      "execution_count": null,
      "outputs": []
    },
    {
      "cell_type": "code",
      "source": [
        "plot_implicit(Eq(x**2 + y**2,1),(x,-2,2),(y,-2,2))"
      ],
      "metadata": {
        "id": "YbANtBnCWpWg"
      },
      "execution_count": null,
      "outputs": []
    },
    {
      "cell_type": "markdown",
      "metadata": {
        "id": "kqclCflNA0NH"
      },
      "source": [
        "---\n",
        "\n",
        "_ Esto ha sido un rápido recorrido por algunas de las posibilidades que ofrece SymPy . El cálculo simbólico es un terreno díficil y este joven paquete avanza a pasos agigantados gracias a un grupo de desarrolladores siempre dispuestos a mejorar y escuchar sugerencias. Sus posibilidades no acaban aquí. En la siguiente clase presentaremos el paquete `mechanics` ..."
      ]
    }
  ],
  "metadata": {
    "kernelspec": {
      "display_name": "Python 3",
      "language": "python",
      "name": "python3"
    },
    "language_info": {
      "codemirror_mode": {
        "name": "ipython",
        "version": 3
      },
      "file_extension": ".py",
      "mimetype": "text/x-python",
      "name": "python",
      "nbconvert_exporter": "python",
      "pygments_lexer": "ipython3",
      "version": "3.6.4"
    },
    "colab": {
      "provenance": []
    }
  },
  "nbformat": 4,
  "nbformat_minor": 0
}