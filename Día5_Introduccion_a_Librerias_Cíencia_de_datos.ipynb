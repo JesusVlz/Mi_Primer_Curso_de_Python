{
  "cells": [
    {
      "cell_type": "markdown",
      "id": "366910ab",
      "metadata": {
        "id": "366910ab"
      },
      "source": [
        "# Introducción a las librerías NumPy, SciPy y Pandas\n",
        "\n",
        "## Tabla de contenidos\n",
        "* [NumPy](#NumPy)\n",
        "* [SciPy](#SciPy)\n",
        "* [Pandas](#Pandas)\n",
        "    * [Series](#Series)\n",
        "    * [DataFrame](#DataFrame)\n",
        "\n",
        "## NumPy\n",
        "\n",
        "La librería `NumPy` incorpora objetos llamados arreglos (array), los cuales son estructuras de datos de un mismo tipo organizados en forma de tabla o cuadrícula de distintas dimensiones. Para trabajar con esta libería, es necesario mandarla llamar."
      ]
    },
    {
      "cell_type": "code",
      "execution_count": null,
      "id": "a28d8be6",
      "metadata": {
        "id": "a28d8be6"
      },
      "outputs": [],
      "source": [
        "import numpy as np\n"
      ]
    },
    {
      "cell_type": "markdown",
      "id": "6427df13",
      "metadata": {
        "id": "6427df13"
      },
      "source": [
        "Comenzamos creando un arreglo de una dimension."
      ]
    },
    {
      "cell_type": "code",
      "execution_count": null,
      "id": "fa4b9e29",
      "metadata": {
        "colab": {
          "base_uri": "https://localhost:8080/"
        },
        "id": "fa4b9e29",
        "outputId": "e1f3ced3-c3af-4467-91fd-6214cf24c00d"
      },
      "outputs": [
        {
          "output_type": "stream",
          "name": "stdout",
          "text": [
            "[1 2 3 4 5 6]\n"
          ]
        }
      ],
      "source": [
        "a = np.array([1,2,3,4,5,6]) # Crea un arreglo con los enteros del 1 al 6\n",
        "print(a) # Imprime los valores guardados en la variable a"
      ]
    },
    {
      "cell_type": "markdown",
      "id": "f9f4a219",
      "metadata": {
        "id": "f9f4a219"
      },
      "source": [
        "Podemos acceder a los elementos individuales del arreglo."
      ]
    },
    {
      "cell_type": "code",
      "execution_count": null,
      "id": "56db0460",
      "metadata": {
        "colab": {
          "base_uri": "https://localhost:8080/"
        },
        "id": "56db0460",
        "outputId": "448e91e0-4b7a-4891-ae71-07f9cb92dae4"
      },
      "outputs": [
        {
          "output_type": "execute_result",
          "data": {
            "text/plain": [
              "1"
            ]
          },
          "metadata": {},
          "execution_count": 76
        }
      ],
      "source": [
        "a[0] # Regresa el primer elemento del arreglo"
      ]
    },
    {
      "cell_type": "code",
      "execution_count": null,
      "id": "53702290",
      "metadata": {
        "colab": {
          "base_uri": "https://localhost:8080/"
        },
        "id": "53702290",
        "outputId": "329de304-8790-4f9c-ef7e-61825fe587d6"
      },
      "outputs": [
        {
          "output_type": "execute_result",
          "data": {
            "text/plain": [
              "array([2, 3, 4, 5])"
            ]
          },
          "metadata": {},
          "execution_count": 77
        }
      ],
      "source": [
        "a[1:5] # Regresa los elementos en las posiciones o y hasta la 4. El elemento del límite superior es omitido."
      ]
    },
    {
      "cell_type": "markdown",
      "id": "f146cdb3",
      "metadata": {
        "id": "f146cdb3"
      },
      "source": [
        "Los arreglos son objetos, por lo que tienen varios **atributos** y  **métodos** asociados."
      ]
    },
    {
      "cell_type": "code",
      "execution_count": null,
      "id": "9c5ee240",
      "metadata": {
        "colab": {
          "base_uri": "https://localhost:8080/"
        },
        "id": "9c5ee240",
        "outputId": "43039bb3-de1b-4c70-f62f-408510f915ff"
      },
      "outputs": [
        {
          "output_type": "execute_result",
          "data": {
            "text/plain": [
              "(6,)"
            ]
          },
          "metadata": {},
          "execution_count": 78
        }
      ],
      "source": [
        "a.shape # Regresa las dimensiones del arreglo\n"
      ]
    },
    {
      "cell_type": "code",
      "execution_count": null,
      "id": "ac9d851b",
      "metadata": {
        "colab": {
          "base_uri": "https://localhost:8080/"
        },
        "id": "ac9d851b",
        "outputId": "c14309f4-f4ae-4da0-bed1-71cd8fff8860"
      },
      "outputs": [
        {
          "output_type": "execute_result",
          "data": {
            "text/plain": [
              "3.5"
            ]
          },
          "metadata": {},
          "execution_count": 79
        }
      ],
      "source": [
        "a.mean() # Regresa el promedio del arreglo"
      ]
    },
    {
      "cell_type": "code",
      "execution_count": null,
      "id": "65d14edd",
      "metadata": {
        "colab": {
          "base_uri": "https://localhost:8080/"
        },
        "id": "65d14edd",
        "outputId": "0dfec655-588a-4916-a3e1-16c7659dd516"
      },
      "outputs": [
        {
          "output_type": "execute_result",
          "data": {
            "text/plain": [
              "21"
            ]
          },
          "metadata": {},
          "execution_count": 80
        }
      ],
      "source": [
        "a.sum() # regresa la suma de los elementos del arreglo"
      ]
    },
    {
      "cell_type": "code",
      "execution_count": null,
      "id": "dfa9bf6f",
      "metadata": {
        "colab": {
          "base_uri": "https://localhost:8080/"
        },
        "id": "dfa9bf6f",
        "outputId": "b12a035d-8967-4e45-d093-1d4ac99be4ba"
      },
      "outputs": [
        {
          "output_type": "execute_result",
          "data": {
            "text/plain": [
              "6"
            ]
          },
          "metadata": {},
          "execution_count": 81
        }
      ],
      "source": [
        "a.max() # regresa el máximo de los elementos del arreglo"
      ]
    },
    {
      "cell_type": "markdown",
      "id": "545e2411",
      "metadata": {
        "id": "545e2411"
      },
      "source": [
        "Podemos crear arreglos en dos dimensiones."
      ]
    },
    {
      "cell_type": "code",
      "execution_count": null,
      "id": "1dcfec0e",
      "metadata": {
        "colab": {
          "base_uri": "https://localhost:8080/"
        },
        "id": "1dcfec0e",
        "outputId": "7c6a27a7-47a2-40bf-b8f5-b788eb741af7"
      },
      "outputs": [
        {
          "output_type": "stream",
          "name": "stdout",
          "text": [
            "[[1 2 3]\n",
            " [4 5 6]]\n"
          ]
        }
      ],
      "source": [
        "A = np.array([[1,2,3], [4,5,6]])\n",
        "print(A)"
      ]
    },
    {
      "cell_type": "markdown",
      "id": "5c5fe919",
      "metadata": {
        "id": "5c5fe919"
      },
      "source": [
        "Los arreglos de dos dimensiones tienen sus propios métodos."
      ]
    },
    {
      "cell_type": "code",
      "execution_count": null,
      "id": "bd25c48e",
      "metadata": {
        "colab": {
          "base_uri": "https://localhost:8080/"
        },
        "id": "bd25c48e",
        "outputId": "b5abec8e-7b1c-4f50-874f-350e8a602da6"
      },
      "outputs": [
        {
          "output_type": "execute_result",
          "data": {
            "text/plain": [
              "(2, 3)"
            ]
          },
          "metadata": {},
          "execution_count": 83
        }
      ],
      "source": [
        "A.shape # Regresa las dimensiones del arreglo"
      ]
    },
    {
      "cell_type": "code",
      "execution_count": null,
      "id": "4430a4b0",
      "metadata": {
        "colab": {
          "base_uri": "https://localhost:8080/"
        },
        "id": "4430a4b0",
        "outputId": "a42dbd7d-bc41-46d6-a077-ad4b15b21607"
      },
      "outputs": [
        {
          "output_type": "execute_result",
          "data": {
            "text/plain": [
              "21"
            ]
          },
          "metadata": {},
          "execution_count": 84
        }
      ],
      "source": [
        "A.sum() # suma todos los elementos del arreglo"
      ]
    },
    {
      "cell_type": "code",
      "execution_count": null,
      "id": "9be0c28d",
      "metadata": {
        "colab": {
          "base_uri": "https://localhost:8080/"
        },
        "id": "9be0c28d",
        "outputId": "8f305c5e-35a8-4a6d-ddd4-492b6a28d6e2"
      },
      "outputs": [
        {
          "output_type": "execute_result",
          "data": {
            "text/plain": [
              "array([5, 7, 9])"
            ]
          },
          "metadata": {},
          "execution_count": 85
        }
      ],
      "source": [
        "A.sum(axis=0) # suma los renglones del arreglo"
      ]
    },
    {
      "cell_type": "code",
      "execution_count": null,
      "id": "256dceff",
      "metadata": {
        "colab": {
          "base_uri": "https://localhost:8080/"
        },
        "id": "256dceff",
        "outputId": "ebf848be-17c3-4fd6-b12b-d235a0f88c8c"
      },
      "outputs": [
        {
          "output_type": "execute_result",
          "data": {
            "text/plain": [
              "array([ 6, 15])"
            ]
          },
          "metadata": {},
          "execution_count": 86
        }
      ],
      "source": [
        "A.sum(axis=1) # suma las columnas del arreglo"
      ]
    },
    {
      "cell_type": "markdown",
      "id": "de645eab",
      "metadata": {
        "id": "de645eab"
      },
      "source": [
        "Por último, veremos como crear arreglos de 3 dimensiones. En principio, no existe un límite para el número de dimensiones del arreglo, siempre y cuando haya suficiente memoria para crear estos arreglos."
      ]
    },
    {
      "cell_type": "code",
      "execution_count": null,
      "id": "e0d312fd",
      "metadata": {
        "colab": {
          "base_uri": "https://localhost:8080/"
        },
        "id": "e0d312fd",
        "outputId": "5a26e5ab-6044-4e44-8d5b-2d405507abd3"
      },
      "outputs": [
        {
          "output_type": "stream",
          "name": "stdout",
          "text": [
            "[[[ 1  2  3]\n",
            "  [ 4  5  6]]\n",
            "\n",
            " [[ 7  8  9]\n",
            "  [10 11 12]]\n",
            "\n",
            " [[13 14 15]\n",
            "  [16 17 18]]]\n"
          ]
        }
      ],
      "source": [
        "B = np.array([[[1,2,3],    [4,5,6]],\n",
        "              [[7,8,9],    [10,11,12]],\n",
        "              [[13,14,15], [16,17,18]]])\n",
        "print(B)"
      ]
    },
    {
      "cell_type": "code",
      "execution_count": null,
      "id": "bf60f750",
      "metadata": {
        "colab": {
          "base_uri": "https://localhost:8080/"
        },
        "id": "bf60f750",
        "outputId": "bea90309-bf2f-494f-a8e1-1259257a7227"
      },
      "outputs": [
        {
          "output_type": "execute_result",
          "data": {
            "text/plain": [
              "(3, 2, 3)"
            ]
          },
          "metadata": {},
          "execution_count": 88
        }
      ],
      "source": [
        "B.shape"
      ]
    },
    {
      "cell_type": "code",
      "execution_count": null,
      "id": "90c8bea5",
      "metadata": {
        "colab": {
          "base_uri": "https://localhost:8080/"
        },
        "id": "90c8bea5",
        "outputId": "784a3db0-8547-4c5b-9f59-34ad8557afcd"
      },
      "outputs": [
        {
          "output_type": "execute_result",
          "data": {
            "text/plain": [
              "3"
            ]
          },
          "metadata": {},
          "execution_count": 89
        }
      ],
      "source": [
        "B.ndim"
      ]
    },
    {
      "cell_type": "code",
      "execution_count": null,
      "id": "3e357646",
      "metadata": {
        "colab": {
          "base_uri": "https://localhost:8080/"
        },
        "id": "3e357646",
        "outputId": "f457252a-87fb-4abd-f9a7-81ef82d67d54"
      },
      "outputs": [
        {
          "output_type": "execute_result",
          "data": {
            "text/plain": [
              "18"
            ]
          },
          "metadata": {},
          "execution_count": 90
        }
      ],
      "source": [
        "B.size"
      ]
    },
    {
      "cell_type": "code",
      "execution_count": null,
      "id": "06d758cd",
      "metadata": {
        "colab": {
          "base_uri": "https://localhost:8080/"
        },
        "id": "06d758cd",
        "outputId": "c61a24b6-5319-4397-cf53-f07fd979bf8a"
      },
      "outputs": [
        {
          "output_type": "execute_result",
          "data": {
            "text/plain": [
              "dtype('int64')"
            ]
          },
          "metadata": {},
          "execution_count": 91
        }
      ],
      "source": [
        "B.dtype"
      ]
    },
    {
      "cell_type": "code",
      "execution_count": null,
      "id": "51030bcf",
      "metadata": {
        "colab": {
          "base_uri": "https://localhost:8080/"
        },
        "id": "51030bcf",
        "outputId": "a1f31f6f-ddba-4fdc-de2e-72f0a0d98071"
      },
      "outputs": [
        {
          "output_type": "execute_result",
          "data": {
            "text/plain": [
              "9.5"
            ]
          },
          "metadata": {},
          "execution_count": 92
        }
      ],
      "source": [
        "B.mean()"
      ]
    },
    {
      "cell_type": "code",
      "execution_count": null,
      "id": "8e9da9ae",
      "metadata": {
        "colab": {
          "base_uri": "https://localhost:8080/"
        },
        "id": "8e9da9ae",
        "outputId": "7536c01f-6ade-4bf7-c466-a3e295d4cb86"
      },
      "outputs": [
        {
          "output_type": "execute_result",
          "data": {
            "text/plain": [
              "array([[ 7.,  8.,  9.],\n",
              "       [10., 11., 12.]])"
            ]
          },
          "metadata": {},
          "execution_count": 93
        }
      ],
      "source": [
        "B.mean(axis=0)"
      ]
    },
    {
      "cell_type": "markdown",
      "id": "060f14a5",
      "metadata": {
        "id": "060f14a5"
      },
      "source": [
        "# SciPy\n",
        "La librería `SciPy` tiene distintas rutinas matemáticas que trabajan en conjunto con los arreglos de `NumPy`. Comenzamos mostrando el uso de las rutinas para generar numeros aleatorios."
      ]
    },
    {
      "cell_type": "code",
      "execution_count": null,
      "id": "f8be225a",
      "metadata": {
        "colab": {
          "base_uri": "https://localhost:8080/"
        },
        "id": "f8be225a",
        "outputId": "5cc32df9-731f-4596-87a5-358a8a909cfa"
      },
      "outputs": [
        {
          "output_type": "stream",
          "name": "stdout",
          "text": [
            "[0.   1.25 2.5  3.75 5.  ]\n",
            "[ 1.86267788 -0.91376424  1.38121312  0.77676187 -1.07182516]\n"
          ]
        }
      ],
      "source": [
        "from scipy.stats import norm\n",
        "x = np.linspace(0, 5, num=5)\n",
        "y = norm.rvs(size=5)\n",
        "print(x)\n",
        "print(y)"
      ]
    },
    {
      "cell_type": "code",
      "execution_count": null,
      "id": "c1981087",
      "metadata": {
        "colab": {
          "base_uri": "https://localhost:8080/",
          "height": 434
        },
        "id": "c1981087",
        "outputId": "c769ddc6-2396-44e7-e92f-6742f2016236"
      },
      "outputs": [
        {
          "output_type": "display_data",
          "data": {
            "text/plain": [
              "<Figure size 640x480 with 1 Axes>"
            ],
            "image/png": "[encoded data removed]"
          },
          "metadata": {}
        }
      ],
      "source": [
        "import matplotlib.pyplot as plt\n",
        "plt.plot(x, y, 'o', label='data')\n",
        "plt.legend(loc='best')\n",
        "plt.show()"
      ]
    },
    {
      "cell_type": "markdown",
      "id": "4e4e4616",
      "metadata": {
        "id": "4e4e4616"
      },
      "source": [
        "Ahora creamos una interpolación suave de estos datos."
      ]
    },
    {
      "cell_type": "code",
      "execution_count": null,
      "id": "a57902a8",
      "metadata": {
        "colab": {
          "base_uri": "https://localhost:8080/"
        },
        "id": "a57902a8",
        "outputId": "f6457a89-4076-4fe3-e95e-9f7ab90d89aa"
      },
      "outputs": [
        {
          "output_type": "execute_result",
          "data": {
            "text/plain": [
              "array(0.51880437)"
            ]
          },
          "metadata": {},
          "execution_count": 96
        }
      ],
      "source": [
        "from scipy.interpolate import CubicSpline\n",
        "spline = CubicSpline(x, y)\n",
        "spline(2)"
      ]
    },
    {
      "cell_type": "code",
      "execution_count": null,
      "id": "d1aefd36",
      "metadata": {
        "colab": {
          "base_uri": "https://localhost:8080/",
          "height": 434
        },
        "id": "d1aefd36",
        "outputId": "1bf80e62-e7c1-4f2d-8a25-49d947084d5d"
      },
      "outputs": [
        {
          "output_type": "display_data",
          "data": {
            "text/plain": [
              "<Figure size 640x480 with 1 Axes>"
            ],
            "image/png": "[encoded data removed]"
          },
          "metadata": {}
        }
      ],
      "source": [
        "newx = np.linspace(0, 5, 100)\n",
        "newy = spline(newx)\n",
        "plt.plot(x, y, 'o', color=\"black\", label='data')\n",
        "plt.plot(newx, newy, \"-\", color=\"magenta\", label = \"interpolation\")\n",
        "plt.legend(loc='best')\n",
        "plt.show()"
      ]
    },
    {
      "cell_type": "markdown",
      "id": "1e60cf82",
      "metadata": {
        "id": "1e60cf82"
      },
      "source": [
        "## Pandas"
      ]
    },
    {
      "cell_type": "markdown",
      "id": "fb84e9b7",
      "metadata": {
        "id": "fb84e9b7"
      },
      "source": [
        "`Pandas` es una librería que permite crear y manipular estructuras de datos. Esta libería permite crear objetos basados en los arreglos de `Numpy` pero con funcionalidades adicionales. Los tipos de estructuras que se pueden crear son:\n",
        "\n",
        "- Series: Estructura de una dimensión.\n",
        "- DataFrame: Estructura de dos dimensiones (tablas).\n",
        "- Panel: Estructura de tres dimensiones (cubos).\n",
        "\n",
        "### Series\n",
        "\n",
        "Comenzamos cargando la librería y creando una Serie."
      ]
    },
    {
      "cell_type": "code",
      "execution_count": null,
      "id": "9f8ca450",
      "metadata": {
        "scrolled": true,
        "colab": {
          "base_uri": "https://localhost:8080/"
        },
        "id": "9f8ca450",
        "outputId": "a2bfd680-3a61-4fc0-a7fa-6c3f67792803"
      },
      "outputs": [
        {
          "output_type": "stream",
          "name": "stdout",
          "text": [
            "Matemáticas      9\n",
            "Historia         6\n",
            "Economía         9\n",
            "Programación    10\n",
            "Inglés           7\n",
            "dtype: int64\n"
          ]
        }
      ],
      "source": [
        "import pandas as pd\n",
        "clases = pd.Series(['Matemáticas', 'Historia', 'Economía', 'Programación', 'Inglés'])\n",
        "scores = pd.Series([9, 6, 9, 10, 7], index = clases)\n",
        "print(scores)"
      ]
    },
    {
      "cell_type": "markdown",
      "id": "5467f5f9",
      "metadata": {
        "id": "5467f5f9"
      },
      "source": [
        "#### Atributos del objeto Series\n",
        "Las series tienen varios atributos:"
      ]
    },
    {
      "cell_type": "code",
      "execution_count": null,
      "id": "1faeafc2",
      "metadata": {
        "colab": {
          "base_uri": "https://localhost:8080/"
        },
        "id": "1faeafc2",
        "outputId": "8c4a6c65-f411-47e6-de3f-abe927023cbb"
      },
      "outputs": [
        {
          "output_type": "execute_result",
          "data": {
            "text/plain": [
              "Index(['Matemáticas', 'Historia', 'Economía', 'Programación', 'Inglés'], dtype='object')"
            ]
          },
          "metadata": {},
          "execution_count": 99
        }
      ],
      "source": [
        "scores.index"
      ]
    },
    {
      "cell_type": "code",
      "execution_count": null,
      "id": "7cba37bc",
      "metadata": {
        "colab": {
          "base_uri": "https://localhost:8080/"
        },
        "id": "7cba37bc",
        "outputId": "0733f8ec-1e55-4429-ebfc-4a224d565722"
      },
      "outputs": [
        {
          "output_type": "execute_result",
          "data": {
            "text/plain": [
              "5"
            ]
          },
          "metadata": {},
          "execution_count": 100
        }
      ],
      "source": [
        "scores.size"
      ]
    },
    {
      "cell_type": "code",
      "execution_count": null,
      "id": "a89a1b56",
      "metadata": {
        "colab": {
          "base_uri": "https://localhost:8080/"
        },
        "id": "a89a1b56",
        "outputId": "64f67b41-6eb8-4468-d460-2f3ff13aee3d"
      },
      "outputs": [
        {
          "output_type": "execute_result",
          "data": {
            "text/plain": [
              "dtype('int64')"
            ]
          },
          "metadata": {},
          "execution_count": 101
        }
      ],
      "source": [
        "scores.dtype"
      ]
    },
    {
      "cell_type": "markdown",
      "id": "6ade03e3",
      "metadata": {
        "id": "6ade03e3"
      },
      "source": [
        "#### Acceder a los elementos de una serie\n",
        "Se puede acceder a los elementos de la serie de distitnas formas.La primera es haciendo referencia a la posición que ocupa el elemento en la serie."
      ]
    },
    {
      "cell_type": "code",
      "execution_count": null,
      "id": "605c2964",
      "metadata": {
        "scrolled": true,
        "colab": {
          "base_uri": "https://localhost:8080/"
        },
        "id": "605c2964",
        "outputId": "46a2f14f-c7b6-495a-f2e3-3287584b4acf"
      },
      "outputs": [
        {
          "output_type": "execute_result",
          "data": {
            "text/plain": [
              "9"
            ]
          },
          "metadata": {},
          "execution_count": 102
        }
      ],
      "source": [
        "scores[0]"
      ]
    },
    {
      "cell_type": "code",
      "execution_count": null,
      "id": "41f239df",
      "metadata": {
        "colab": {
          "base_uri": "https://localhost:8080/"
        },
        "id": "41f239df",
        "outputId": "5bbe9413-9f2b-482b-934d-9e9d12e6e262"
      },
      "outputs": [
        {
          "output_type": "execute_result",
          "data": {
            "text/plain": [
              "Historia         6\n",
              "Economía         9\n",
              "Programación    10\n",
              "dtype: int64"
            ]
          },
          "metadata": {},
          "execution_count": 103
        }
      ],
      "source": [
        "scores[1:4]"
      ]
    },
    {
      "cell_type": "markdown",
      "id": "63e7282b",
      "metadata": {
        "id": "63e7282b"
      },
      "source": [
        "Otra forma es indicando el nombre del índice."
      ]
    },
    {
      "cell_type": "code",
      "execution_count": null,
      "id": "0ca235fd",
      "metadata": {
        "colab": {
          "base_uri": "https://localhost:8080/"
        },
        "id": "0ca235fd",
        "outputId": "5d8259e6-1a1e-4b01-b808-2e4acdc49f72"
      },
      "outputs": [
        {
          "output_type": "execute_result",
          "data": {
            "text/plain": [
              "9"
            ]
          },
          "metadata": {},
          "execution_count": 104
        }
      ],
      "source": [
        "scores[\"Matemáticas\"]"
      ]
    },
    {
      "cell_type": "code",
      "execution_count": null,
      "id": "107b2653",
      "metadata": {
        "colab": {
          "base_uri": "https://localhost:8080/"
        },
        "id": "107b2653",
        "outputId": "2e31899a-ab9a-438b-fa2d-e3721a88b5ee"
      },
      "outputs": [
        {
          "output_type": "execute_result",
          "data": {
            "text/plain": [
              "Historia    6\n",
              "Economía    9\n",
              "dtype: int64"
            ]
          },
          "metadata": {},
          "execution_count": 105
        }
      ],
      "source": [
        "scores[[\"Historia\", \"Economía\"]]"
      ]
    },
    {
      "cell_type": "markdown",
      "id": "6e131111",
      "metadata": {
        "id": "6e131111"
      },
      "source": [
        "#### Métodos de una serie\n",
        "Las series tienen varios métodos asociados que permiten obtener varios resumenes de forma rápida."
      ]
    },
    {
      "cell_type": "code",
      "execution_count": null,
      "id": "67040ee7",
      "metadata": {
        "colab": {
          "base_uri": "https://localhost:8080/"
        },
        "id": "67040ee7",
        "outputId": "c14df56d-ff81-4d0a-95d3-a66811de8127"
      },
      "outputs": [
        {
          "output_type": "execute_result",
          "data": {
            "text/plain": [
              "5"
            ]
          },
          "metadata": {},
          "execution_count": 106
        }
      ],
      "source": [
        "scores.count() # Número de elementos no nulos"
      ]
    },
    {
      "cell_type": "code",
      "execution_count": null,
      "id": "844a4dce",
      "metadata": {
        "colab": {
          "base_uri": "https://localhost:8080/"
        },
        "id": "844a4dce",
        "outputId": "19cd4e5d-cfa0-4bde-9c8e-9e5089b4e887"
      },
      "outputs": [
        {
          "output_type": "execute_result",
          "data": {
            "text/plain": [
              "41"
            ]
          },
          "metadata": {},
          "execution_count": 107
        }
      ],
      "source": [
        "scores.sum() # Regresa la suma de los elementos de la serie"
      ]
    },
    {
      "cell_type": "code",
      "execution_count": null,
      "id": "7a27cbe7",
      "metadata": {
        "colab": {
          "base_uri": "https://localhost:8080/",
          "height": 35
        },
        "id": "7a27cbe7",
        "outputId": "5be49644-afbc-4938-c2e2-3f037c76323b"
      },
      "outputs": [
        {
          "output_type": "execute_result",
          "data": {
            "text/plain": [
              "'MatemáticasHistoriaEconomíaProgramaciónInglés'"
            ],
            "application/vnd.google.colaboratory.intrinsic+json": {
              "type": "string"
            }
          },
          "metadata": {},
          "execution_count": 108
        }
      ],
      "source": [
        "clases.sum() # Con series de caracteres, este comando concatena los valores en una sola cadena de texto"
      ]
    },
    {
      "cell_type": "code",
      "execution_count": null,
      "id": "8bd99bd3",
      "metadata": {
        "colab": {
          "base_uri": "https://localhost:8080/"
        },
        "id": "8bd99bd3",
        "outputId": "36ce3aa3-6823-4c28-eae6-7c1b8ec9b163"
      },
      "outputs": [
        {
          "output_type": "execute_result",
          "data": {
            "text/plain": [
              "8.2"
            ]
          },
          "metadata": {},
          "execution_count": 109
        }
      ],
      "source": [
        "scores.mean() # Regresa el promedio de los elementos de la serie"
      ]
    },
    {
      "cell_type": "code",
      "execution_count": null,
      "id": "414c8334",
      "metadata": {
        "colab": {
          "base_uri": "https://localhost:8080/"
        },
        "id": "414c8334",
        "outputId": "d18c4d85-5001-4f56-aa01-ea917724679d"
      },
      "outputs": [
        {
          "output_type": "execute_result",
          "data": {
            "text/plain": [
              "9     2\n",
              "6     1\n",
              "10    1\n",
              "7     1\n",
              "dtype: int64"
            ]
          },
          "metadata": {},
          "execution_count": 110
        }
      ],
      "source": [
        "scores.value_counts() # Devuelve una serie con las frecuencias de los valores de la serie"
      ]
    },
    {
      "cell_type": "code",
      "execution_count": null,
      "id": "928a4546",
      "metadata": {
        "colab": {
          "base_uri": "https://localhost:8080/"
        },
        "id": "928a4546",
        "outputId": "373c5b27-1a0e-4be2-f5bc-fc028dcb3e93"
      },
      "outputs": [
        {
          "output_type": "execute_result",
          "data": {
            "text/plain": [
              "6"
            ]
          },
          "metadata": {},
          "execution_count": 111
        }
      ],
      "source": [
        "scores.min() # Regresa el mínimo de la serie"
      ]
    },
    {
      "cell_type": "code",
      "execution_count": null,
      "id": "220baba2",
      "metadata": {
        "colab": {
          "base_uri": "https://localhost:8080/"
        },
        "id": "220baba2",
        "outputId": "1310931a-900b-407a-b86e-383dd678cfff"
      },
      "outputs": [
        {
          "output_type": "execute_result",
          "data": {
            "text/plain": [
              "10"
            ]
          },
          "metadata": {},
          "execution_count": 112
        }
      ],
      "source": [
        "scores.max() # Regresa el máximo de la serie"
      ]
    },
    {
      "cell_type": "code",
      "execution_count": null,
      "id": "ed9fc241",
      "metadata": {
        "colab": {
          "base_uri": "https://localhost:8080/"
        },
        "id": "ed9fc241",
        "outputId": "0b2d69d5-0b56-496b-8df0-be66b033c7e5"
      },
      "outputs": [
        {
          "output_type": "execute_result",
          "data": {
            "text/plain": [
              "2.7"
            ]
          },
          "metadata": {},
          "execution_count": 113
        }
      ],
      "source": [
        "scores.var() # Regresa la varianza muestral de la serie"
      ]
    },
    {
      "cell_type": "code",
      "execution_count": null,
      "id": "09cf0650",
      "metadata": {
        "colab": {
          "base_uri": "https://localhost:8080/"
        },
        "id": "09cf0650",
        "outputId": "f059cddc-cc0f-4f3c-8154-bc409eca3743"
      },
      "outputs": [
        {
          "output_type": "execute_result",
          "data": {
            "text/plain": [
              "1.6431676725154984"
            ]
          },
          "metadata": {},
          "execution_count": 114
        }
      ],
      "source": [
        "scores.std() # Regresa la desviación estándar de la serie"
      ]
    },
    {
      "cell_type": "code",
      "execution_count": null,
      "id": "a5bdea22",
      "metadata": {
        "colab": {
          "base_uri": "https://localhost:8080/"
        },
        "id": "a5bdea22",
        "outputId": "6948f20d-ca41-4474-9b7e-ac2f2be02e31"
      },
      "outputs": [
        {
          "output_type": "execute_result",
          "data": {
            "text/plain": [
              "count     5.000000\n",
              "mean      8.200000\n",
              "std       1.643168\n",
              "min       6.000000\n",
              "25%       7.000000\n",
              "50%       9.000000\n",
              "75%       9.000000\n",
              "max      10.000000\n",
              "dtype: float64"
            ]
          },
          "metadata": {},
          "execution_count": 115
        }
      ],
      "source": [
        "scores.describe() # Regresa una serie con estadísticas descriptivas"
      ]
    },
    {
      "cell_type": "code",
      "execution_count": null,
      "id": "c97c93e9",
      "metadata": {
        "colab": {
          "base_uri": "https://localhost:8080/"
        },
        "id": "c97c93e9",
        "outputId": "11e966ec-6225-405e-b95b-9ab51ac45723"
      },
      "outputs": [
        {
          "output_type": "execute_result",
          "data": {
            "text/plain": [
              "Lunes        10\n",
              "Martes       13\n",
              "Miercoles    18\n",
              "Jueves       24\n",
              "Viernes      31\n",
              "Sábado       33\n",
              "Domingo      43\n",
              "dtype: int64"
            ]
          },
          "metadata": {},
          "execution_count": 116
        }
      ],
      "source": [
        "ventas = pd.Series([10, 3, 5, 6, 7, 2, 10],\n",
        "                   index = [\"Lunes\", \"Martes\", \"Miercoles\", \"Jueves\", \"Viernes\", \"Sábado\", \"Domingo\"])\n",
        "ventas.cumsum()"
      ]
    },
    {
      "cell_type": "markdown",
      "id": "ea87370a",
      "metadata": {
        "id": "ea87370a"
      },
      "source": [
        "#### Operaciones con series\n",
        "Se pueden hacer operaciones básicas con las series, por ejemplo +,-,*,/, etc. La operación se realiza para cada elemento y se obtiene una nueva serie."
      ]
    },
    {
      "cell_type": "code",
      "execution_count": null,
      "id": "c12a239a",
      "metadata": {
        "colab": {
          "base_uri": "https://localhost:8080/"
        },
        "id": "c12a239a",
        "outputId": "94ca1551-7787-43f9-bb19-4317fb969a15"
      },
      "outputs": [
        {
          "output_type": "execute_result",
          "data": {
            "text/plain": [
              "Matemáticas      90\n",
              "Historia         60\n",
              "Economía         90\n",
              "Programación    100\n",
              "Inglés           70\n",
              "dtype: int64"
            ]
          },
          "metadata": {},
          "execution_count": 117
        }
      ],
      "source": [
        "scores * 10"
      ]
    },
    {
      "cell_type": "code",
      "execution_count": null,
      "id": "8a0b73b8",
      "metadata": {
        "colab": {
          "base_uri": "https://localhost:8080/"
        },
        "id": "8a0b73b8",
        "outputId": "6191b686-79b8-43c9-88fb-8fbfde7b7842"
      },
      "outputs": [
        {
          "output_type": "execute_result",
          "data": {
            "text/plain": [
              "0      MatemáticasMatemáticas\n",
              "1            HistoriaHistoria\n",
              "2            EconomíaEconomía\n",
              "3    ProgramaciónProgramación\n",
              "4                InglésInglés\n",
              "dtype: object"
            ]
          },
          "metadata": {},
          "execution_count": 118
        }
      ],
      "source": [
        "clases * 2"
      ]
    },
    {
      "cell_type": "markdown",
      "id": "16631494",
      "metadata": {
        "id": "16631494"
      },
      "source": [
        "#### Aplicar funciones a series\n",
        "Hay varias formas de aplicar funciones sobre una serie."
      ]
    },
    {
      "cell_type": "code",
      "execution_count": null,
      "id": "c2117b03",
      "metadata": {
        "colab": {
          "base_uri": "https://localhost:8080/"
        },
        "id": "c2117b03",
        "outputId": "42287337-f12e-4c9c-8c23-cf16ac5b7bef"
      },
      "outputs": [
        {
          "output_type": "execute_result",
          "data": {
            "text/plain": [
              "Matemáticas     2.197225\n",
              "Historia        1.791759\n",
              "Economía        2.197225\n",
              "Programación    2.302585\n",
              "Inglés          1.945910\n",
              "dtype: float64"
            ]
          },
          "metadata": {},
          "execution_count": 119
        }
      ],
      "source": [
        "np.log(scores)"
      ]
    },
    {
      "cell_type": "code",
      "execution_count": null,
      "id": "f2f5ed22",
      "metadata": {
        "colab": {
          "base_uri": "https://localhost:8080/"
        },
        "id": "f2f5ed22",
        "outputId": "08ad2bd1-0ec0-4cfe-89d7-ba6adc710c8b"
      },
      "outputs": [
        {
          "output_type": "execute_result",
          "data": {
            "text/plain": [
              "Matemáticas     2.197225\n",
              "Historia        1.791759\n",
              "Economía        2.197225\n",
              "Programación    2.302585\n",
              "Inglés          1.945910\n",
              "dtype: float64"
            ]
          },
          "metadata": {},
          "execution_count": 120
        }
      ],
      "source": [
        "scores.apply(np.log)"
      ]
    },
    {
      "cell_type": "code",
      "execution_count": null,
      "id": "163a54ab",
      "metadata": {
        "id": "163a54ab"
      },
      "outputs": [],
      "source": [
        "#str.lower(clases)"
      ]
    },
    {
      "cell_type": "code",
      "execution_count": null,
      "id": "f19eedd3",
      "metadata": {
        "colab": {
          "base_uri": "https://localhost:8080/"
        },
        "id": "f19eedd3",
        "outputId": "f82035cc-55ef-4448-efbc-065d922a3da2"
      },
      "outputs": [
        {
          "output_type": "execute_result",
          "data": {
            "text/plain": [
              "0     matemáticas\n",
              "1        historia\n",
              "2        economía\n",
              "3    programación\n",
              "4          inglés\n",
              "dtype: object"
            ]
          },
          "metadata": {},
          "execution_count": 122
        }
      ],
      "source": [
        "clases.apply(str.lower)"
      ]
    },
    {
      "cell_type": "markdown",
      "id": "89b6adde",
      "metadata": {
        "id": "89b6adde"
      },
      "source": [
        "#### Filtrar una serie\n",
        "Se puede filtrar una serie pasando valores lógicos como índices, los cuales se obtienen de comparasiones."
      ]
    },
    {
      "cell_type": "code",
      "execution_count": null,
      "id": "51c8fd47",
      "metadata": {
        "colab": {
          "base_uri": "https://localhost:8080/"
        },
        "id": "51c8fd47",
        "outputId": "ce0b8130-4183-42fe-a5df-14808f0d6387"
      },
      "outputs": [
        {
          "output_type": "stream",
          "name": "stdout",
          "text": [
            "Matemáticas     False\n",
            "Historia        False\n",
            "Economía        False\n",
            "Programación     True\n",
            "Inglés          False\n",
            "dtype: bool\n"
          ]
        },
        {
          "output_type": "execute_result",
          "data": {
            "text/plain": [
              "Programación    10\n",
              "dtype: int64"
            ]
          },
          "metadata": {},
          "execution_count": 123
        }
      ],
      "source": [
        "print(scores > 9)\n",
        "scores[scores > 9]"
      ]
    },
    {
      "cell_type": "code",
      "execution_count": null,
      "id": "6877ebd1",
      "metadata": {
        "id": "6877ebd1"
      },
      "outputs": [],
      "source": [
        "#scores[scores > 6 and scores <9]"
      ]
    },
    {
      "cell_type": "markdown",
      "id": "4f409b64",
      "metadata": {
        "id": "4f409b64"
      },
      "source": [
        "#### Ordenar series\n",
        "Es posible ordenar series ya sea en términos de sus valores o en términos de sus índices"
      ]
    },
    {
      "cell_type": "code",
      "execution_count": null,
      "id": "e8d51a68",
      "metadata": {
        "id": "e8d51a68"
      },
      "outputs": [],
      "source": [
        "scores.sort_values(ascending = True)"
      ]
    },
    {
      "cell_type": "code",
      "execution_count": null,
      "id": "17daaf3d",
      "metadata": {
        "id": "17daaf3d"
      },
      "outputs": [],
      "source": [
        "scores.sort_index(ascending=True)"
      ]
    },
    {
      "cell_type": "code",
      "execution_count": null,
      "id": "21a4e7a4",
      "metadata": {
        "id": "21a4e7a4"
      },
      "outputs": [],
      "source": [
        "scores"
      ]
    },
    {
      "cell_type": "markdown",
      "id": "db886feb",
      "metadata": {
        "id": "db886feb"
      },
      "source": [
        "#### Datos faltantes de una serie\n",
        "\n",
        "Cuando existen datos faltantes, Python los identifica con `NaN`, `None` o `NaT`. Es posible eiminar estos datos o rellenar los espacios, esto dependerá de las características de los datos y el tipo de análisis que se hará con ellos."
      ]
    },
    {
      "cell_type": "code",
      "execution_count": null,
      "id": "cf8d2bfb",
      "metadata": {
        "id": "cf8d2bfb"
      },
      "outputs": [],
      "source": [
        "ingreso = pd.Series([10000,15000,17000,np.NaN, 8000, 20000])\n",
        "print(ingreso)"
      ]
    },
    {
      "cell_type": "code",
      "execution_count": null,
      "id": "f51bf100",
      "metadata": {
        "id": "f51bf100"
      },
      "outputs": [],
      "source": [
        "ingreso.interpolate() # Rellena los datos faltantes usando el punto medio de las entradas adyacentes"
      ]
    },
    {
      "cell_type": "code",
      "execution_count": null,
      "id": "867afc9c",
      "metadata": {
        "scrolled": true,
        "id": "867afc9c"
      },
      "outputs": [],
      "source": [
        "clientes = pd.Series([\"Ale\", \"Pedro\", \"Daniel\", \"Mariana\", \"Monica\", None])\n",
        "print(clientes)"
      ]
    },
    {
      "cell_type": "code",
      "execution_count": null,
      "id": "64fcf4c6",
      "metadata": {
        "id": "64fcf4c6"
      },
      "outputs": [],
      "source": [
        "clientes.dropna()"
      ]
    },
    {
      "cell_type": "markdown",
      "id": "5cacaf47",
      "metadata": {
        "id": "5cacaf47"
      },
      "source": [
        "### DataFrame\n",
        "\n",
        "Un DataFrame es una tabla donde cada columna es un objeto de la clase Series. Los DataFrame se usan para representar datos estructurados de forma similar a como se hace en una hoja de Excel. Hay diversas formas de crear un DataFrame:\n",
        "\n",
        "- a partir de un diccionario de listas\n",
        "- a partir de un arreglo de numpy\n",
        "- a partir de un archivo csv o Excel\n",
        "- a partir de una lista de listas\n",
        "- a partir de una lista de diccionarios\n",
        "\n",
        "Veamos ejemplos de los primeros tres casos.\n"
      ]
    },
    {
      "cell_type": "code",
      "execution_count": null,
      "id": "67a68808",
      "metadata": {
        "id": "67a68808"
      },
      "outputs": [],
      "source": [
        "# Creando un DataFrame a partir de un diccionario de listas\n",
        "raw = {\"Nombre\" : [\"Ana\", \"Luis\", \"Eli\", \"Marco\"],\n",
        "       \"Matrícula\": [10234, 45336, 12378, 87543],\n",
        "       \"Matemáticas\" : [10, 9, 10, 10],\n",
        "       \"Estadística\" : [8, 9, 7, 10],\n",
        "       \"Historia\": [10, 9, 9, 9]}\n",
        "print(raw)\n"
      ]
    },
    {
      "cell_type": "code",
      "execution_count": null,
      "id": "7b1acbbf",
      "metadata": {
        "id": "7b1acbbf"
      },
      "outputs": [],
      "source": [
        "Scores = pd.DataFrame(raw)\n",
        "print(Scores)"
      ]
    },
    {
      "cell_type": "code",
      "execution_count": null,
      "id": "d8991fbb",
      "metadata": {
        "id": "d8991fbb"
      },
      "outputs": [],
      "source": [
        "# Creando un DataFrame a partir de un arreglo de numpy\n",
        "R = pd.DataFrame(np.random.randn(5,4).round(1),\n",
        "                 columns = [\"X1\", \"X2\", \"X3\", \"X4\"],\n",
        "                 index=[\"obs1\", \"obs2\", \"obs3\", \"obs4\", \"obs5\"])\n",
        "print(R)"
      ]
    },
    {
      "cell_type": "code",
      "execution_count": null,
      "id": "86a65676",
      "metadata": {
        "id": "86a65676"
      },
      "outputs": [],
      "source": [
        "# Creando un DataFrame a partir de un archivo\n",
        "P = pd.read_csv(\"Peliculas.csv\", header=0, index_col = 0, sep=\",\")\n",
        "P"
      ]
    },
    {
      "cell_type": "markdown",
      "id": "60e504d2",
      "metadata": {
        "id": "60e504d2"
      },
      "source": [
        "#### Atributos de un DataFrame\n",
        "Al igual que una Serie, un DataFrame tiene varios atributos que nos dan información sobre el objeto."
      ]
    },
    {
      "cell_type": "code",
      "execution_count": null,
      "id": "96081b7a",
      "metadata": {
        "id": "96081b7a"
      },
      "outputs": [],
      "source": [
        "P.info()"
      ]
    },
    {
      "cell_type": "code",
      "execution_count": null,
      "id": "c289530c",
      "metadata": {
        "id": "c289530c"
      },
      "outputs": [],
      "source": [
        "P.shape"
      ]
    },
    {
      "cell_type": "code",
      "execution_count": null,
      "id": "0129178d",
      "metadata": {
        "id": "0129178d"
      },
      "outputs": [],
      "source": [
        "P.size"
      ]
    },
    {
      "cell_type": "code",
      "execution_count": null,
      "id": "e5aba632",
      "metadata": {
        "id": "e5aba632"
      },
      "outputs": [],
      "source": [
        "P.columns"
      ]
    },
    {
      "cell_type": "code",
      "execution_count": null,
      "id": "e28d5d05",
      "metadata": {
        "id": "e28d5d05"
      },
      "outputs": [],
      "source": [
        "P.index"
      ]
    },
    {
      "cell_type": "code",
      "execution_count": null,
      "id": "2ea85e34",
      "metadata": {
        "id": "2ea85e34"
      },
      "outputs": [],
      "source": [
        "P.dtypes"
      ]
    },
    {
      "cell_type": "code",
      "execution_count": null,
      "id": "766e56ff",
      "metadata": {
        "id": "766e56ff"
      },
      "outputs": [],
      "source": [
        "P.head(2)"
      ]
    },
    {
      "cell_type": "code",
      "execution_count": null,
      "id": "ddf2b480",
      "metadata": {
        "id": "ddf2b480"
      },
      "outputs": [],
      "source": [
        "P.tail(2)"
      ]
    },
    {
      "cell_type": "markdown",
      "id": "435ef4df",
      "metadata": {
        "id": "435ef4df"
      },
      "source": [
        "#### Estadísticas descriptivas\n",
        "\n",
        "Es posible obtener información descriptiva de los datos gaurdados en un DataFrame a través de los siguientes métodos."
      ]
    },
    {
      "cell_type": "code",
      "execution_count": null,
      "id": "585bcd63",
      "metadata": {
        "id": "585bcd63"
      },
      "outputs": [],
      "source": [
        "P.count()"
      ]
    },
    {
      "cell_type": "code",
      "execution_count": null,
      "id": "2b36df97",
      "metadata": {
        "id": "2b36df97"
      },
      "outputs": [],
      "source": [
        "P.sum()"
      ]
    },
    {
      "cell_type": "code",
      "execution_count": null,
      "id": "a398511f",
      "metadata": {
        "id": "a398511f"
      },
      "outputs": [],
      "source": [
        "P.cumsum()"
      ]
    },
    {
      "cell_type": "code",
      "execution_count": null,
      "id": "b4731bb6",
      "metadata": {
        "id": "b4731bb6"
      },
      "outputs": [],
      "source": [
        "P.min()"
      ]
    },
    {
      "cell_type": "code",
      "execution_count": null,
      "id": "dadf71c7",
      "metadata": {
        "id": "dadf71c7"
      },
      "outputs": [],
      "source": [
        "P.max()"
      ]
    },
    {
      "cell_type": "code",
      "execution_count": null,
      "id": "389253f3",
      "metadata": {
        "id": "389253f3"
      },
      "outputs": [],
      "source": [
        "P.mean()"
      ]
    },
    {
      "cell_type": "code",
      "execution_count": null,
      "id": "863e56d3",
      "metadata": {
        "id": "863e56d3"
      },
      "outputs": [],
      "source": [
        "P.var()"
      ]
    },
    {
      "cell_type": "code",
      "execution_count": null,
      "id": "c4e0d4e6",
      "metadata": {
        "id": "c4e0d4e6"
      },
      "outputs": [],
      "source": [
        "P.std()"
      ]
    },
    {
      "cell_type": "code",
      "execution_count": null,
      "id": "95ce1798",
      "metadata": {
        "id": "95ce1798"
      },
      "outputs": [],
      "source": [
        "P.cov()"
      ]
    },
    {
      "cell_type": "code",
      "execution_count": null,
      "id": "507bb098",
      "metadata": {
        "id": "507bb098"
      },
      "outputs": [],
      "source": [
        "P.corr()"
      ]
    },
    {
      "cell_type": "code",
      "execution_count": null,
      "id": "5ac4983e",
      "metadata": {
        "scrolled": true,
        "id": "5ac4983e"
      },
      "outputs": [],
      "source": [
        "P.describe()"
      ]
    },
    {
      "cell_type": "markdown",
      "id": "5da4dbfa",
      "metadata": {
        "id": "5da4dbfa"
      },
      "source": [
        "#### Acceder a los elementos de un DataFrame\n",
        "\n",
        "Se puede acceder a los ditintos elementos de un DataFrame especificando las posiciones el objeto o los nombres de filas o columnas. Veamos primero el caso en el que especificamos las posicinoes."
      ]
    },
    {
      "cell_type": "code",
      "execution_count": null,
      "id": "e1caf817",
      "metadata": {
        "id": "e1caf817"
      },
      "outputs": [],
      "source": [
        "Scores.iloc[0,0] # Decuelve el valor del DataFrame en la celda indicada"
      ]
    },
    {
      "cell_type": "code",
      "execution_count": null,
      "id": "1e2792c5",
      "metadata": {
        "id": "1e2792c5"
      },
      "outputs": [],
      "source": [
        "Scores.iloc[1] # Regresa el renglón indicado en forma de serie"
      ]
    },
    {
      "cell_type": "code",
      "execution_count": null,
      "id": "4c1e6cd7",
      "metadata": {
        "id": "4c1e6cd7"
      },
      "outputs": [],
      "source": [
        "Scores.iloc[1:3, 1:2]"
      ]
    },
    {
      "cell_type": "markdown",
      "id": "c1321e31",
      "metadata": {
        "id": "c1321e31"
      },
      "source": [
        "Veamos ahora el caso en el que especificamos los nombres de los renglones y filas."
      ]
    },
    {
      "cell_type": "code",
      "execution_count": null,
      "id": "85e0b385",
      "metadata": {
        "id": "85e0b385"
      },
      "outputs": [],
      "source": [
        "Scores.loc[0:2, \"Historia\"]"
      ]
    },
    {
      "cell_type": "code",
      "execution_count": null,
      "id": "5343d0ed",
      "metadata": {
        "id": "5343d0ed"
      },
      "outputs": [],
      "source": [
        "Scores[\"Matemáticas\"]"
      ]
    },
    {
      "cell_type": "code",
      "execution_count": null,
      "id": "7154ded5",
      "metadata": {
        "id": "7154ded5"
      },
      "outputs": [],
      "source": [
        "Scores[[\"Estadística\", \"Matemáticas\"]]"
      ]
    },
    {
      "cell_type": "code",
      "execution_count": null,
      "id": "b0f81978",
      "metadata": {
        "id": "b0f81978"
      },
      "outputs": [],
      "source": [
        "Scores.Matemáticas"
      ]
    },
    {
      "cell_type": "markdown",
      "id": "8024ab63",
      "metadata": {
        "id": "8024ab63"
      },
      "source": [
        "#### Modificación de un DataFrame\n",
        "\n",
        "Una vez que se ha creado un DataFrame, una tarea común es modficar la información que contiene. Por ejemplo, se pueden añadir o quitar observaciones (renglones), añadir o quitar variables (columnas), combinar varios DataFrame, etc.\n",
        "\n",
        "Veamos primero el caso en el que se añaden observaciones."
      ]
    },
    {
      "cell_type": "code",
      "execution_count": null,
      "id": "6bf15067",
      "metadata": {
        "id": "6bf15067"
      },
      "outputs": [],
      "source": [
        "print(Scores)\n",
        "Scores = Scores.append(pd.Series([\"Iván\", 33200, \"6\", \"7\", \"10\"],\n",
        "                       index = [\"Nombre\", \"Matrícula\", \"Matemáticas\", \"Estadística\", \"Historia\"]),\n",
        "                        ignore_index=True)\n",
        "print(Scores)"
      ]
    },
    {
      "cell_type": "markdown",
      "id": "177336b0",
      "metadata": {
        "id": "177336b0"
      },
      "source": [
        "Veamos ahora como eliminar filas de un DataFrame."
      ]
    },
    {
      "cell_type": "code",
      "execution_count": null,
      "id": "8fe7127e",
      "metadata": {
        "scrolled": true,
        "id": "8fe7127e"
      },
      "outputs": [],
      "source": [
        "print(Scores.drop(4))\n",
        "print(Scores)"
      ]
    },
    {
      "cell_type": "markdown",
      "id": "33e30784",
      "metadata": {
        "id": "33e30784"
      },
      "source": [
        "Para eliminar columnas, podemos usar el comando `del` o el método `pop` de la clase DataFrame."
      ]
    },
    {
      "cell_type": "code",
      "execution_count": null,
      "id": "e37fddf3",
      "metadata": {
        "id": "e37fddf3"
      },
      "outputs": [],
      "source": [
        "del Scores[\"Historia\"] # Elimina la columna de la serie\n",
        "print(Scores)"
      ]
    },
    {
      "cell_type": "code",
      "execution_count": null,
      "id": "e242e5da",
      "metadata": {
        "id": "e242e5da"
      },
      "outputs": [],
      "source": [
        "Scores.pop(\"Matrícula\") # Elimina la columna \"Matricula\" y regresa sus valores como una serie\n",
        "print(Scores)"
      ]
    },
    {
      "cell_type": "markdown",
      "id": "d87f0115",
      "metadata": {
        "id": "d87f0115"
      },
      "source": [
        "Hay varias formas de agregar columnas. Veamos algunas opciones."
      ]
    },
    {
      "cell_type": "code",
      "execution_count": null,
      "id": "5234fee2",
      "metadata": {
        "id": "5234fee2"
      },
      "outputs": [],
      "source": [
        "print(Scores)\n",
        "Scores[\"Inglés\"] = [9, 10, 10, 5, 6]\n",
        "print(Scores)"
      ]
    },
    {
      "cell_type": "code",
      "execution_count": null,
      "id": "ec6d3f83",
      "metadata": {
        "id": "ec6d3f83"
      },
      "outputs": [],
      "source": [
        "Scores.insert(2, \"Español\", [8,6,5,9,5], allow_duplicates=True)\n",
        "print(Scores)"
      ]
    },
    {
      "cell_type": "raw",
      "id": "33fca074",
      "metadata": {
        "id": "33fca074"
      },
      "source": [
        "#### Ordenar series\n",
        "Es posible ordenar series ya sea en términos de sus valores o en términos de sus índices"
      ]
    },
    {
      "cell_type": "code",
      "execution_count": null,
      "id": "2d9a22da",
      "metadata": {
        "id": "2d9a22da"
      },
      "outputs": [],
      "source": [
        "Scores"
      ]
    },
    {
      "cell_type": "code",
      "execution_count": null,
      "id": "899c652a",
      "metadata": {
        "id": "899c652a"
      },
      "outputs": [],
      "source": [
        "Scores.sort_values(\"Estadística\")"
      ]
    },
    {
      "cell_type": "code",
      "execution_count": null,
      "id": "fd53de66",
      "metadata": {
        "id": "fd53de66"
      },
      "outputs": [],
      "source": [
        "Scores.sort_values(\"Nombre\")"
      ]
    },
    {
      "cell_type": "code",
      "execution_count": null,
      "id": "ed1bba26",
      "metadata": {
        "id": "ed1bba26"
      },
      "outputs": [],
      "source": [
        "Scores.sort_index()"
      ]
    },
    {
      "cell_type": "code",
      "execution_count": null,
      "id": "829513b5",
      "metadata": {
        "id": "829513b5"
      },
      "outputs": [],
      "source": []
    }
  ],
  "metadata": {
    "kernelspec": {
      "display_name": "Python 3 (ipykernel)",
      "language": "python",
      "name": "python3"
    },
    "language_info": {
      "codemirror_mode": {
        "name": "ipython",
        "version": 3
      },
      "file_extension": ".py",
      "mimetype": "text/x-python",
      "name": "python",
      "nbconvert_exporter": "python",
      "pygments_lexer": "ipython3",
      "version": "3.9.7"
    },
    "colab": {
      "provenance": []
    }
  },
  "nbformat": 4,
  "nbformat_minor": 5
}