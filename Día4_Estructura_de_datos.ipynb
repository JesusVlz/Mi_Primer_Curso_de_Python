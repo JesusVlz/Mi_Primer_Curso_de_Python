{
  "cells": [
    {
      "cell_type": "markdown",
      "metadata": {
        "id": "RWcjEVNbaOWS"
      },
      "source": [
        "## Estructuras de datos en Python\n",
        "Otros tipos son: listas , tuplas, conjuntos(set),diccionarios."
      ]
    },
    {
      "cell_type": "markdown",
      "source": [
        "# Un conjunto (Set)\n",
        "Es una estructura de datos que se utiliza para almacenar múltiples elementos en una única variable. Es una colección desordenada de elementos únicos y no admite duplicados.\n"
      ],
      "metadata": {
        "id": "kT6zklKtpxG6"
      }
    },
    {
      "cell_type": "code",
      "source": [
        "un_conjunto = {\"apple\", \"banana\", \"cherry\",\"apple\"}\n",
        "print(un_conjunto)"
      ],
      "metadata": {
        "id": "pEIwcD7nYBAD"
      },
      "execution_count": null,
      "outputs": []
    },
    {
      "cell_type": "markdown",
      "source": [
        "Las principales características de un conjunto en Python son las siguientes:\n",
        "\n",
        "* Desordenado\n",
        "* No cambiable (inmutable individualmente)\n",
        "* No indexado\n",
        "* Elementos únicos\n",
        "\n"
      ],
      "metadata": {
        "id": "iOu72D4VrQvW"
      }
    },
    {
      "cell_type": "code",
      "source": [
        "# Crear un conjunto con elementos\n",
        "my_set = {1, 2, 3, 4}\n",
        "my_set"
      ],
      "metadata": {
        "id": "izoLrdNQrzQ1",
        "colab": {
          "base_uri": "https://localhost:8080/"
        },
        "outputId": "820e78a7-0bc9-4f81-9477-d1ae4fcd3098"
      },
      "execution_count": null,
      "outputs": [
        {
          "output_type": "execute_result",
          "data": {
            "text/plain": [
              "{1, 2, 3, 4}"
            ]
          },
          "metadata": {},
          "execution_count": 2
        }
      ]
    },
    {
      "cell_type": "code",
      "source": [
        "# Agregar elementos al conjunto\n",
        "my_set.add(5)\n",
        "my_set"
      ],
      "metadata": {
        "id": "jji0sIXHwiC9",
        "colab": {
          "base_uri": "https://localhost:8080/"
        },
        "outputId": "b4670282-1a9f-4497-c172-091f8c8164cb"
      },
      "execution_count": null,
      "outputs": [
        {
          "output_type": "execute_result",
          "data": {
            "text/plain": [
              "{1, 2, 3, 4, 5}"
            ]
          },
          "metadata": {},
          "execution_count": 3
        }
      ]
    },
    {
      "cell_type": "code",
      "source": [
        "# Eliminar elementos del conjunto\n",
        "#my_set.remove(3)\n",
        "#my_set"
      ],
      "metadata": {
        "id": "pvevAuL5rtOH"
      },
      "execution_count": null,
      "outputs": []
    },
    {
      "cell_type": "code",
      "source": [
        "#funcion precostruido de python\n",
        "type(my_set)"
      ],
      "metadata": {
        "colab": {
          "base_uri": "https://localhost:8080/"
        },
        "id": "M-IRsC2pcOd4",
        "outputId": "2d751010-057f-4b1c-d77f-298fbaea6b4f"
      },
      "execution_count": null,
      "outputs": [
        {
          "output_type": "execute_result",
          "data": {
            "text/plain": [
              "set"
            ]
          },
          "metadata": {},
          "execution_count": 4
        }
      ]
    },
    {
      "cell_type": "markdown",
      "metadata": {
        "id": "lq0Gb5K4aOWS"
      },
      "source": [
        "Estas colecciones son conjuntos ordenados de elementos: las *tuplas* se demarcan con paréntesis, las *listas* con corchetes, los diccionarios con llaves."
      ]
    },
    {
      "cell_type": "code",
      "source": [
        "una_lista = [1, 2, 3.0, 4 + 0j, \"5\"]\n",
        "una_tupla = (1, 2, 3.0, 4 + 0j, \"5\")\n",
        "print(una_lista)\n",
        "print(una_tupla)\n",
        "print(una_lista == una_tupla)"
      ],
      "metadata": {
        "colab": {
          "base_uri": "https://localhost:8080/"
        },
        "id": "ipYDvGM0YDcZ",
        "outputId": "429ce062-34ea-45b0-8309-f2771180f76b"
      },
      "execution_count": null,
      "outputs": [
        {
          "output_type": "stream",
          "name": "stdout",
          "text": [
            "[1, 2, 3.0, (4+0j), '5']\n",
            "(1, 2, 3.0, (4+0j), '5')\n",
            "False\n"
          ]
        }
      ]
    },
    {
      "cell_type": "markdown",
      "metadata": {
        "id": "fSDy8w47aOWT"
      },
      "source": [
        "Para las tuplas, podemos incluso obviar los paréntesis:"
      ]
    },
    {
      "cell_type": "code",
      "execution_count": null,
      "metadata": {
        "id": "vCo_QAPMaOWT",
        "outputId": "2d5220cd-5a51-47f2-f4b3-9d00730873cd",
        "colab": {
          "base_uri": "https://localhost:8080/"
        }
      },
      "outputs": [
        {
          "output_type": "execute_result",
          "data": {
            "text/plain": [
              "(2, 5, 6, 9, 7)"
            ]
          },
          "metadata": {},
          "execution_count": 7
        }
      ],
      "source": [
        "tupla_sin_parentesis = 2,5,6,9,7\n",
        "\n",
        "tupla_sin_parentesis"
      ]
    },
    {
      "cell_type": "markdown",
      "metadata": {
        "id": "GLJdvN7faOWU"
      },
      "source": [
        "En los dos tipos podemos:\n",
        "\n",
        "* Comprobar si un elemento está en la secuencia con el operador `in`:"
      ]
    },
    {
      "cell_type": "code",
      "execution_count": null,
      "metadata": {
        "id": "x_bG5-BWaOWU",
        "outputId": "c5a73e68-c107-497e-b054-007b25c4fe36",
        "colab": {
          "base_uri": "https://localhost:8080/"
        }
      },
      "outputs": [
        {
          "output_type": "execute_result",
          "data": {
            "text/plain": [
              "True"
            ]
          },
          "metadata": {},
          "execution_count": 8
        }
      ],
      "source": [
        "2 in una_lista"
      ]
    },
    {
      "cell_type": "code",
      "execution_count": null,
      "metadata": {
        "id": "iig9xt11aOWU",
        "outputId": "83069928-5e08-4562-c314-eee038df3ed4",
        "colab": {
          "base_uri": "https://localhost:8080/"
        }
      },
      "outputs": [
        {
          "output_type": "execute_result",
          "data": {
            "text/plain": [
              "True"
            ]
          },
          "metadata": {},
          "execution_count": 9
        }
      ],
      "source": [
        "2 in una_tupla"
      ]
    },
    {
      "cell_type": "markdown",
      "metadata": {
        "id": "QTBDVVGkaOWU"
      },
      "source": [
        "* Saber cuandos elementos tienen con la función `len`:"
      ]
    },
    {
      "cell_type": "code",
      "execution_count": null,
      "metadata": {
        "id": "VFHgxHIaaOWV",
        "outputId": "f898a954-f36e-48c5-bd27-faf6ff3d66cb",
        "colab": {
          "base_uri": "https://localhost:8080/"
        }
      },
      "outputs": [
        {
          "output_type": "execute_result",
          "data": {
            "text/plain": [
              "5"
            ]
          },
          "metadata": {},
          "execution_count": 10
        }
      ],
      "source": [
        "len(una_lista)"
      ]
    },
    {
      "cell_type": "code",
      "execution_count": null,
      "metadata": {
        "id": "d6LBVCT0aOWV",
        "outputId": "5799b963-4879-4d60-d9db-39feeb7ceed3",
        "colab": {
          "base_uri": "https://localhost:8080/"
        }
      },
      "outputs": [
        {
          "output_type": "execute_result",
          "data": {
            "text/plain": [
              "5"
            ]
          },
          "metadata": {},
          "execution_count": 11
        }
      ],
      "source": [
        "len(una_tupla)"
      ]
    },
    {
      "cell_type": "markdown",
      "metadata": {
        "id": "9qu2ruNUaOWW"
      },
      "source": [
        "* Podemos *indexar* las secuencias, utilizando la sintaxis `[<inicio>:<final>:<salto>]`:"
      ]
    },
    {
      "cell_type": "code",
      "source": [
        "una_tupla[3]"
      ],
      "metadata": {
        "colab": {
          "base_uri": "https://localhost:8080/"
        },
        "id": "5NRzbzG0e4Tz",
        "outputId": "7744ec7f-4d92-4b16-bedb-0d1cbabc4b62"
      },
      "execution_count": null,
      "outputs": [
        {
          "output_type": "execute_result",
          "data": {
            "text/plain": [
              "(4+0j)"
            ]
          },
          "metadata": {},
          "execution_count": 26
        }
      ]
    },
    {
      "cell_type": "code",
      "source": [
        "una_lista[0::2]"
      ],
      "metadata": {
        "colab": {
          "base_uri": "https://localhost:8080/"
        },
        "id": "YLYv_yYFYbo5",
        "outputId": "1cede592-7e1d-46b0-f191-50f18ac960bc"
      },
      "execution_count": null,
      "outputs": [
        {
          "output_type": "execute_result",
          "data": {
            "text/plain": [
              "[1, 3.0, '5']"
            ]
          },
          "metadata": {},
          "execution_count": 18
        }
      ]
    },
    {
      "cell_type": "code",
      "source": [
        "una_lista[2] = 10  # Cambia el tercer elemento a 10\n",
        "print(una_lista)"
      ],
      "metadata": {
        "colab": {
          "base_uri": "https://localhost:8080/"
        },
        "id": "nAyG9BJ2YY-x",
        "outputId": "1f4ffe57-9639-480c-cc5a-8bbaaf548157"
      },
      "execution_count": null,
      "outputs": [
        {
          "output_type": "stream",
          "name": "stdout",
          "text": [
            "[2, (4+0j), 10, 6, 'hola', 1, 1]\n"
          ]
        }
      ]
    },
    {
      "cell_type": "code",
      "source": [
        "una_tupla"
      ],
      "metadata": {
        "colab": {
          "base_uri": "https://localhost:8080/"
        },
        "id": "7QL5fAEpfSd5",
        "outputId": "b63e1463-c30b-4161-9d9a-dd7c1019cc36"
      },
      "execution_count": null,
      "outputs": [
        {
          "output_type": "execute_result",
          "data": {
            "text/plain": [
              "(1, 2, 3.0, (4+0j), '5')"
            ]
          },
          "metadata": {},
          "execution_count": 32
        }
      ]
    },
    {
      "cell_type": "code",
      "source": [
        "del una_tupla[1]"
      ],
      "metadata": {
        "colab": {
          "base_uri": "https://localhost:8080/",
          "height": 165
        },
        "id": "wx9zx0LQfBGp",
        "outputId": "df79c4a4-4eb0-46ee-a4bc-fbb36c9a592a"
      },
      "execution_count": null,
      "outputs": [
        {
          "output_type": "error",
          "ename": "TypeError",
          "evalue": "ignored",
          "traceback": [
            "\u001b[0;31m---------------------------------------------------------------------------\u001b[0m",
            "\u001b[0;31mTypeError\u001b[0m                                 Traceback (most recent call last)",
            "\u001b[0;32m<ipython-input-34-29ef00fd8f73>\u001b[0m in \u001b[0;36m<cell line: 1>\u001b[0;34m()\u001b[0m\n\u001b[0;32m----> 1\u001b[0;31m \u001b[0;32mdel\u001b[0m \u001b[0muna_tupla\u001b[0m\u001b[0;34m[\u001b[0m\u001b[0;36m1\u001b[0m\u001b[0;34m]\u001b[0m\u001b[0;34m\u001b[0m\u001b[0;34m\u001b[0m\u001b[0m\n\u001b[0m",
            "\u001b[0;31mTypeError\u001b[0m: 'tuple' object doesn't support item deletion"
          ]
        }
      ]
    },
    {
      "cell_type": "code",
      "source": [
        "una_lista.append(1)  # Agrega el número 6 al final de la lista\n",
        "print(una_lista)"
      ],
      "metadata": {
        "colab": {
          "base_uri": "https://localhost:8080/"
        },
        "id": "qwxMFJRgYW-c",
        "outputId": "7f7ed36d-d875-44b9-eb0d-3294174eb0e3"
      },
      "execution_count": null,
      "outputs": [
        {
          "output_type": "stream",
          "name": "stdout",
          "text": [
            "[2, (4+0j), '5', 6, 'hola', 1, 1]\n"
          ]
        }
      ]
    },
    {
      "cell_type": "code",
      "source": [
        "una_lista.remove(3.0)  # Elimina el elemento con valor 2\n",
        "del una_lista[0]  # Elimina el primer elemento de la lista delete\n",
        "print(una_lista)"
      ],
      "metadata": {
        "colab": {
          "base_uri": "https://localhost:8080/"
        },
        "id": "Zpo_ExwZYVhR",
        "outputId": "556c3e0f-852d-42a4-968c-9ca78665f218"
      },
      "execution_count": null,
      "outputs": [
        {
          "output_type": "stream",
          "name": "stdout",
          "text": [
            "[2, (4+0j), '5', 6, 'hola']\n"
          ]
        }
      ]
    },
    {
      "cell_type": "markdown",
      "source": [
        "Listas y Tuplas\n",
        "\n",
        "* Ordenada\n",
        "* Mutable(Inmutables)\n",
        "* Admite duplicados\n",
        "* Indexada\n",
        "\n",
        "\n",
        "---\n",
        "\n",
        "\n",
        " A diferencia de las listas y las tuplas, los **diccionarios** no están ordenados secuencialmente y los elementos se acceden mediante claves en lugar de índices. Cada clave en un diccionario debe ser única y está asociada a un valor específico."
      ],
      "metadata": {
        "id": "JGttGaIT1VzZ"
      }
    },
    {
      "cell_type": "code",
      "source": [
        "# Crear un diccionario vacío\n",
        "my_dict = {}\n",
        "\n",
        "# Crear un diccionario con elementos\n",
        "my_dict = {\"nombre\": \"Juan\", \"edad\": [24,3,6,6], \"ciudad\": \"Madrid\"}"
      ],
      "metadata": {
        "id": "8LNWQXqm2qES"
      },
      "execution_count": null,
      "outputs": []
    },
    {
      "cell_type": "code",
      "source": [
        "my_dict[\"edad\"]"
      ],
      "metadata": {
        "colab": {
          "base_uri": "https://localhost:8080/"
        },
        "id": "gYbyUZ1Sh9Z3",
        "outputId": "bbd556e6-55db-47c0-8d1f-9a3af395297d"
      },
      "execution_count": null,
      "outputs": [
        {
          "output_type": "execute_result",
          "data": {
            "text/plain": [
              "[24, 3, 6, 6]"
            ]
          },
          "metadata": {},
          "execution_count": 48
        }
      ]
    },
    {
      "cell_type": "code",
      "source": [
        "# Acceder a elementos de un diccionario por clave\n",
        "print(my_dict[\"nombre\"])  # Imprime: Juan\n",
        "print(my_dict.get(\"edad\"))  # Imprime: 25"
      ],
      "metadata": {
        "colab": {
          "base_uri": "https://localhost:8080/"
        },
        "id": "K_TSig0u28gq",
        "outputId": "064cb38f-12ab-4b00-edfa-22ca785a0345"
      },
      "execution_count": null,
      "outputs": [
        {
          "output_type": "stream",
          "name": "stdout",
          "text": [
            "Juan\n",
            "25\n"
          ]
        }
      ]
    },
    {
      "cell_type": "code",
      "source": [
        "# Modificar elementos de un diccionario\n",
        "my_dict[\"edad\"] = 30\n",
        "\n",
        "# Agregar nuevos elementos a un diccionario\n",
        "my_dict[\"ocupacion\"] = \"Ingeniero\""
      ],
      "metadata": {
        "id": "pqBnVtyr2_VH"
      },
      "execution_count": null,
      "outputs": []
    },
    {
      "cell_type": "code",
      "source": [
        "my_dict"
      ],
      "metadata": {
        "colab": {
          "base_uri": "https://localhost:8080/"
        },
        "id": "3Cyykn24ggyn",
        "outputId": "18028201-0e48-469b-b257-926b1d18eb84"
      },
      "execution_count": null,
      "outputs": [
        {
          "output_type": "execute_result",
          "data": {
            "text/plain": [
              "{'nombre': 'Juan', 'edad': 30, 'ciudad': 'Madrid', 'ocupacion': 'Ingeniero'}"
            ]
          },
          "metadata": {},
          "execution_count": 38
        }
      ]
    },
    {
      "cell_type": "code",
      "source": [
        "del my_dict[\"ciudad\"]"
      ],
      "metadata": {
        "id": "yqhpzVymguXE"
      },
      "execution_count": null,
      "outputs": []
    },
    {
      "cell_type": "code",
      "source": [
        "# Eliminar elementos de un diccionario\n",
        "my_dict"
      ],
      "metadata": {
        "id": "mSXOHTov3BRa",
        "colab": {
          "base_uri": "https://localhost:8080/"
        },
        "outputId": "e00013a9-7420-4695-bf82-7b4d89c26bef"
      },
      "execution_count": null,
      "outputs": [
        {
          "output_type": "execute_result",
          "data": {
            "text/plain": [
              "{'nombre': 'Juan', 'edad': 30, 'ocupacion': 'Ingeniero'}"
            ]
          },
          "metadata": {},
          "execution_count": 42
        }
      ]
    },
    {
      "cell_type": "code",
      "source": [
        "\"ciudad\" in my_dict"
      ],
      "metadata": {
        "colab": {
          "base_uri": "https://localhost:8080/"
        },
        "id": "pwGpfyGZg6sP",
        "outputId": "7cbb2001-0bc9-45d8-e6c9-d673d910a7d6"
      },
      "execution_count": null,
      "outputs": [
        {
          "output_type": "execute_result",
          "data": {
            "text/plain": [
              "False"
            ]
          },
          "metadata": {},
          "execution_count": 45
        }
      ]
    },
    {
      "cell_type": "code",
      "source": [
        "# Verificar si una clave está en el diccionario\n",
        "if \"ciudad\" in my_dict:\n",
        "    print(\"La clave está en el diccionario.\")"
      ],
      "metadata": {
        "id": "_cPSuFq-3EoD"
      },
      "execution_count": null,
      "outputs": []
    },
    {
      "cell_type": "markdown",
      "source": [
        "# Funciones en Python"
      ],
      "metadata": {
        "id": "R0Uow1ABq3Q1"
      }
    },
    {
      "cell_type": "markdown",
      "source": [
        "_En esta clase continuaremos con nuestra introducción a Python.\n",
        "Lo más importante para programar, y no solo en Python, es saber organizar el código en piezas más pequeñas que hagan tareas independientes y combinarlas entre sí. Las **funciones** son el primer nivel de organización del código: reciben unas *entradas*, las *procesan* y devuelven unas *salidas*._"
      ],
      "metadata": {
        "id": "tSqx1Q6Jq10M"
      }
    },
    {
      "cell_type": "markdown",
      "source": [
        "Aquí hay reglas simples para definir una función en Python:\n",
        "\n",
        "* Los bloques de funciones comienzan con <code>def</code> seguidos de la función <code>name</code> y paréntesis <code>()</code>.\n",
        "* Hay parámetros de entrada o argumentos que deben colocarse entre estos paréntesis.\n",
        "* También puede definir parámetros dentro de estos paréntesis.\n",
        "* Hay un cuerpo dentro de cada función que comienza con dos puntos (<code>:</code>) y luego con sangria.\n",
        "* La instrucción <code>return</code> sale de una función y, opcionalmente, devuelve un valor.\n",
        "\n",
        "Un ejemplo de una función que se suma al parámetro <code>a</code> imprime y devuelve el resultado como <code>b</code>:"
      ],
      "metadata": {
        "id": "ohfj7X-ErM4e"
      }
    },
    {
      "cell_type": "code",
      "source": [
        "# First function example: Add 1 to a and store as b\n",
        "\n",
        "def add(a):\n",
        "    b = a + 1\n",
        "    print(a, \"if you add one\", b)\n",
        "\n",
        "    return(b)\n",
        "\n",
        "add(2.6)"
      ],
      "metadata": {
        "id": "cgWW-FF4q2Xh",
        "colab": {
          "base_uri": "https://localhost:8080/"
        },
        "outputId": "e87bc4a0-ee08-43af-b26c-24d5bf831235"
      },
      "execution_count": null,
      "outputs": [
        {
          "output_type": "stream",
          "name": "stdout",
          "text": [
            "2.6 if you add one 3.6\n"
          ]
        },
        {
          "output_type": "execute_result",
          "data": {
            "text/plain": [
              "3.6"
            ]
          },
          "metadata": {},
          "execution_count": 57
        }
      ]
    },
    {
      "cell_type": "code",
      "source": [
        "add(\"a\")  #Esto solo adminite valores numericos"
      ],
      "metadata": {
        "colab": {
          "base_uri": "https://localhost:8080/",
          "height": 287
        },
        "id": "d_3VDfo7jkc5",
        "outputId": "868e6241-6fc1-4f83-81b7-64bb2fe5d1b9"
      },
      "execution_count": null,
      "outputs": [
        {
          "output_type": "error",
          "ename": "TypeError",
          "evalue": "ignored",
          "traceback": [
            "\u001b[0;31m---------------------------------------------------------------------------\u001b[0m",
            "\u001b[0;31mTypeError\u001b[0m                                 Traceback (most recent call last)",
            "\u001b[0;32m<ipython-input-53-0dfe3b6497f8>\u001b[0m in \u001b[0;36m<cell line: 1>\u001b[0;34m()\u001b[0m\n\u001b[0;32m----> 1\u001b[0;31m \u001b[0madd\u001b[0m\u001b[0;34m(\u001b[0m\u001b[0;34m\"a\"\u001b[0m\u001b[0;34m)\u001b[0m\u001b[0;34m\u001b[0m\u001b[0;34m\u001b[0m\u001b[0m\n\u001b[0m",
            "\u001b[0;32m<ipython-input-52-da9a95cda6cb>\u001b[0m in \u001b[0;36madd\u001b[0;34m(a)\u001b[0m\n\u001b[1;32m      2\u001b[0m \u001b[0;34m\u001b[0m\u001b[0m\n\u001b[1;32m      3\u001b[0m \u001b[0;32mdef\u001b[0m \u001b[0madd\u001b[0m\u001b[0;34m(\u001b[0m\u001b[0ma\u001b[0m\u001b[0;34m)\u001b[0m\u001b[0;34m:\u001b[0m\u001b[0;34m\u001b[0m\u001b[0;34m\u001b[0m\u001b[0m\n\u001b[0;32m----> 4\u001b[0;31m     \u001b[0mb\u001b[0m \u001b[0;34m=\u001b[0m \u001b[0ma\u001b[0m \u001b[0;34m+\u001b[0m \u001b[0;36m1\u001b[0m\u001b[0;34m\u001b[0m\u001b[0;34m\u001b[0m\u001b[0m\n\u001b[0m\u001b[1;32m      5\u001b[0m     \u001b[0;31m#print(a, \"if you add one\", b)\u001b[0m\u001b[0;34m\u001b[0m\u001b[0;34m\u001b[0m\u001b[0m\n\u001b[1;32m      6\u001b[0m \u001b[0;34m\u001b[0m\u001b[0m\n",
            "\u001b[0;31mTypeError\u001b[0m: can only concatenate str (not \"int\") to str"
          ]
        }
      ]
    },
    {
      "cell_type": "code",
      "source": [
        "# Define a function for multiple two numbers\n",
        "\n",
        "def Mult(a, b):\n",
        "    c = a * b\n",
        "    print('This is not printed')\n",
        "    return(c)\n",
        "\n",
        "\n",
        "result = Mult(12,2)\n",
        "result"
      ],
      "metadata": {
        "colab": {
          "base_uri": "https://localhost:8080/"
        },
        "id": "EEnhC3kUr2w-",
        "outputId": "e1de2bff-f12b-40dd-ee2f-337c79232bab"
      },
      "execution_count": null,
      "outputs": [
        {
          "output_type": "stream",
          "name": "stdout",
          "text": [
            "This is not printed\n"
          ]
        },
        {
          "output_type": "execute_result",
          "data": {
            "text/plain": [
              "24"
            ]
          },
          "metadata": {},
          "execution_count": 60
        }
      ]
    },
    {
      "cell_type": "markdown",
      "source": [
        "Ejemplos de funciones prefabricadas en python son:\n",
        "PRINT(),len(),input()"
      ],
      "metadata": {
        "id": "kphKq7B2siVG"
      }
    },
    {
      "cell_type": "markdown",
      "source": [
        "Ahora probemos haciendo una función con un contexto en Física"
      ],
      "metadata": {
        "id": "MBsOlaiDsvfM"
      }
    },
    {
      "cell_type": "markdown",
      "source": [
        "Comencemos por definir una función sencilla, que pase de grados fahrenheit a kelvin. Recordemos que:\n",
        "\n",
        "$$T(K) = (T(°F) - 32) \\cdot 5/9 + 273.15$$"
      ],
      "metadata": {
        "id": "nM_4rzkgv3qR"
      }
    },
    {
      "cell_type": "code",
      "source": [
        "def fahr_to_kelvin(temp):\n",
        "\n",
        "    return ((temp - 32) * (5/9)) + 273.15\n",
        "\n"
      ],
      "metadata": {
        "id": "sIxUDU5gv3EF"
      },
      "execution_count": null,
      "outputs": []
    },
    {
      "cell_type": "markdown",
      "source": [
        "Vemos que la función se define comenzando con la palabra clave `def` seguido del `nombre_de_la_funcion` y a continuación, entre paréntesis, los argumentos de entrada. La cabercera de la función termina con dos puntos, `:`.\n",
        "\n",
        "Le sigue el cuerpo de la función, indentado con cuatro espacios y finaliza con un `return` y los argumentos de salida. Si una función no devuelve nada, no hace falta usar un `return` (ni aunque esté vacío). La definición de la función termina cuando la indentación vuelve a su nivel inicial.\n",
        "\n",
        "Probemos la función:"
      ],
      "metadata": {
        "id": "98vsRtQ8wWbP"
      }
    },
    {
      "cell_type": "code",
      "source": [
        "# Punto de solidificación del agua 32 F\n",
        "print('Punto de solidificación del agua en Kelvin es :', fahr_to_kelvin(32))"
      ],
      "metadata": {
        "colab": {
          "base_uri": "https://localhost:8080/"
        },
        "id": "DAg4nbes39VM",
        "outputId": "8762e953-6319-4b8a-88c6-1c7fa1663c4c"
      },
      "execution_count": null,
      "outputs": [
        {
          "output_type": "stream",
          "name": "stdout",
          "text": [
            "Punto de solidificación del agua en Kelvin es : 273.15\n"
          ]
        }
      ]
    },
    {
      "cell_type": "code",
      "source": [
        "# Punto de ebullición del agua 212 F\n",
        "print('Punto de ebullición del agua en Kelvin es :', fahr_to_kelvin(212))"
      ],
      "metadata": {
        "colab": {
          "base_uri": "https://localhost:8080/"
        },
        "id": "WxGvyH5Y3_JE",
        "outputId": "20b0d3f4-7f25-4ffb-baaf-4d6088a7be6a"
      },
      "execution_count": null,
      "outputs": [
        {
          "output_type": "stream",
          "name": "stdout",
          "text": [
            "Punto de ebullición del agua en Kelvin es : 373.15\n"
          ]
        }
      ]
    },
    {
      "cell_type": "markdown",
      "source": [
        "## Funciones que llaman a otras funciones\n",
        "Depende de que tan creativos nos queramos poner"
      ],
      "metadata": {
        "id": "u3l2CyrE4kbJ"
      }
    },
    {
      "cell_type": "code",
      "source": [
        "#Definamos una función para pasar de Kelvin a Celsius:\n",
        "def kelvin_to_celsius(temp):\n",
        "    return temp - 273.15"
      ],
      "metadata": {
        "id": "y50_eko44sbs"
      },
      "execution_count": null,
      "outputs": []
    },
    {
      "cell_type": "code",
      "source": [
        "#El famoso cero absoluto\n",
        "print('Cero absoluto en Celsius:', kelvin_to_celsius(0.0))"
      ],
      "metadata": {
        "colab": {
          "base_uri": "https://localhost:8080/"
        },
        "id": "pGpr9ISj4_2V",
        "outputId": "3511734f-ddaf-471f-b7ce-0a248f06ee4f"
      },
      "execution_count": null,
      "outputs": [
        {
          "output_type": "stream",
          "name": "stdout",
          "text": [
            "Cero absoluto en Celsius: -273.15\n"
          ]
        }
      ]
    },
    {
      "cell_type": "markdown",
      "source": [
        "Si ahora queremos convertir de Farenheit a Celsius, podemos usar la función que ya teníamos definida:"
      ],
      "metadata": {
        "id": "72I20wYA5MrK"
      }
    },
    {
      "cell_type": "code",
      "source": [
        "def fahr_to_celsius(temp):\n",
        "\n",
        "    temp_k = fahr_to_kelvin(temp)\n",
        "\n",
        "    result = kelvin_to_celsius(temp_k)\n",
        "\n",
        "    return result\n",
        "\n",
        "print('Punto de solificación del agua en Celsius:', fahr_to_celsius(32.0))"
      ],
      "metadata": {
        "colab": {
          "base_uri": "https://localhost:8080/"
        },
        "id": "LYl7UPry5R7v",
        "outputId": "e0745046-9165-45bc-d38f-7e8468542639"
      },
      "execution_count": null,
      "outputs": [
        {
          "output_type": "stream",
          "name": "stdout",
          "text": [
            "Punto de solificación del agua en Celsius: 0.0\n"
          ]
        }
      ]
    },
    {
      "cell_type": "markdown",
      "source": [
        "Es importante resaltar que las variables que se crean dentro de las funciones no son accesibles una vez que termina la ejecución de la función. En cambio, la función si que puede acceder a cosas que se han definido fuera de ella."
      ],
      "metadata": {
        "id": "nAcp_4QY5sJg"
      }
    },
    {
      "cell_type": "markdown",
      "source": [
        "---\n",
        " :\n",
        "* Hemos visto cómo se define una función con la palabra clave `def`, el nombre de la función y sus argumentos.\n",
        "* El cuerpo de la función debe estar indentado\n",
        "* Los argumentos se devuelven con la palabra clave `return`"
      ],
      "metadata": {
        "id": "MpLeU10I6B7D"
      }
    },
    {
      "cell_type": "markdown",
      "source": [
        "## Estructuras de control : Bucles\n",
        "\n",
        "En Python existen dos tipos de estructuras de control típicas:\n",
        "\n",
        "1. Bucles `while`\n",
        "2. Bucles `for`"
      ],
      "metadata": {
        "id": "Y9-9y0kpEpE6"
      }
    },
    {
      "cell_type": "markdown",
      "source": [
        "Los bucles `while` repetiran las sentencias anidadas en él mientras se cumpla una condición:\n",
        "\n",
        "    while <condition>:\n",
        "        <things to do>\n",
        "\n",
        "Como en el caso de los condicionales, los bloques se separan por indentación sin necesidad de sentencias del tipo `end`"
      ],
      "metadata": {
        "id": "gV8txawXEwbf"
      }
    },
    {
      "cell_type": "code",
      "source": [
        "ii = -2\n",
        "\n",
        "while ii < 5:\n",
        "    print(ii)\n",
        "    ii += 1"
      ],
      "metadata": {
        "id": "HOBQq0gREodm",
        "colab": {
          "base_uri": "https://localhost:8080/"
        },
        "outputId": "8a603b3c-b338-40d9-960e-19e0170e1167"
      },
      "execution_count": null,
      "outputs": [
        {
          "output_type": "stream",
          "name": "stdout",
          "text": [
            "-2\n",
            "-1\n",
            "0\n",
            "1\n",
            "2\n",
            "3\n",
            "4\n"
          ]
        }
      ]
    },
    {
      "cell_type": "markdown",
      "source": [
        "<div class=\"alert alert-info\"><strong>Tip</strong>:\n",
        "`ii += 1` equivale a `ii = ii + 1`. En el segundo Python, realiza la operación ii + 1 creando un nuevo objeto con ese valor y luego lo asigna a la variable ii; es decir, existe una reasignación. En el primero, sin embargo, el incremento se produce sobre la propia variable. Esto puede conducirnos a mejoras en velocidad.\n",
        "\n",
        "Otros operadores 'in-place' son: `-=`, `*=`, `/=`\n",
        "</div>"
      ],
      "metadata": {
        "id": "C0Qlu_ebE3u-"
      }
    },
    {
      "cell_type": "markdown",
      "source": [
        "Se puede interrumpir el bucle a la mitad con la sentencia `break`:"
      ],
      "metadata": {
        "id": "ZvWIQcreFGt0"
      }
    },
    {
      "cell_type": "code",
      "source": [
        "ii = 0\n",
        "\n",
        "while ii < 5:\n",
        "    print(ii)\n",
        "    ii += 1\n",
        "\n",
        "    if ii == 4 :\n",
        "       break"
      ],
      "metadata": {
        "colab": {
          "base_uri": "https://localhost:8080/"
        },
        "id": "8EgUKvKWE8R7",
        "outputId": "0441430a-20f9-47f0-e751-d6a6161b093c"
      },
      "execution_count": null,
      "outputs": [
        {
          "output_type": "stream",
          "name": "stdout",
          "text": [
            "0\n",
            "1\n",
            "2\n",
            "3\n"
          ]
        }
      ]
    },
    {
      "cell_type": "markdown",
      "source": [
        "Un bloque `else` justo después del bucle se ejecuta si este no ha sido interrumpido por nosotros:"
      ],
      "metadata": {
        "id": "tnF_wX6mF8Mr"
      }
    },
    {
      "cell_type": "code",
      "source": [
        "ii = 0\n",
        "while ii < 5:\n",
        "    print(ii)\n",
        "    ii += 1\n",
        "    if ii == 3:\n",
        "        break\n",
        "    else:\n",
        "      print(\"El bucle no ha terminado\")"
      ],
      "metadata": {
        "colab": {
          "base_uri": "https://localhost:8080/"
        },
        "id": "-qiZvyBxGAFV",
        "outputId": "6cd4f1d2-41a7-49d9-eb03-a70c6760a914"
      },
      "execution_count": null,
      "outputs": [
        {
          "output_type": "stream",
          "name": "stdout",
          "text": [
            "0\n",
            "El bucle no ha terminado\n",
            "1\n",
            "El bucle no ha terminado\n",
            "2\n"
          ]
        }
      ]
    },
    {
      "cell_type": "markdown",
      "source": [
        " es posible que desee repetir una operación determinada muchas veces.\n",
        "\n",
        "Analicemos el objeto <code>range</code>. Es útil pensar en el objeto de rango como una lista ordenada. Por ahora, veamos el caso más simple. Si quisiéramos generar un objeto que contenga elementos ordenados del 0 al 2 simplemente usamos el siguiente comando:"
      ],
      "metadata": {
        "id": "RVT10peVIXGW"
      }
    },
    {
      "cell_type": "code",
      "source": [
        "range(3)"
      ],
      "metadata": {
        "colab": {
          "base_uri": "https://localhost:8080/"
        },
        "id": "XK1s9VqvKEgp",
        "outputId": "435687e6-20a5-4cca-e73d-7996106b7a38"
      },
      "execution_count": null,
      "outputs": [
        {
          "output_type": "execute_result",
          "data": {
            "text/plain": [
              "range(0, 3)"
            ]
          },
          "metadata": {},
          "execution_count": 86
        }
      ]
    },
    {
      "cell_type": "markdown",
      "source": [
        "range(start, stop, step)"
      ],
      "metadata": {
        "id": "mW1Zz01PJKc-"
      }
    },
    {
      "cell_type": "markdown",
      "source": [
        "* Inicio  :Un número entero que especifica en qué posición comenzar\n",
        "* Detener : Un número entero que especifica en qué posición detenerse (no incluido).\n",
        "* Paso : Es opcional, un número entero que especifica el incremento. El valor predeterminado es 1"
      ],
      "metadata": {
        "id": "0-gvDDylJOPt"
      }
    },
    {
      "cell_type": "code",
      "source": [
        "range()"
      ],
      "metadata": {
        "id": "CO4r42MyuIqA"
      },
      "execution_count": null,
      "outputs": []
    },
    {
      "cell_type": "markdown",
      "source": [
        "El otro bucle en Python es el bucle `for`, y funciona de manera un que puede resultar chocante al principio. La idea es recorrer un conjunto de elementos:\n"
      ],
      "metadata": {
        "id": "KKZL6DaOG3Pv"
      }
    },
    {
      "cell_type": "markdown",
      "source": [
        "\n",
        "        for <elemento> in <iterable_object>:\n",
        "          <hacer lo que sea...>"
      ],
      "metadata": {
        "id": "p9rhQpN0G7mr"
      }
    },
    {
      "cell_type": "markdown",
      "source": [
        "En estos ejemplos podemos imprimir una secuencia de números:"
      ],
      "metadata": {
        "id": "HNL_HhF_LRsS"
      }
    },
    {
      "cell_type": "code",
      "source": [
        "#Usando range para iterar\n",
        "for n in range(3):\n",
        "  print(n)"
      ],
      "metadata": {
        "colab": {
          "base_uri": "https://localhost:8080/"
        },
        "id": "9HQ8fYsrKUKv",
        "outputId": "5e158bc5-5d36-4ac4-d039-984b35764aa7"
      },
      "execution_count": null,
      "outputs": [
        {
          "output_type": "stream",
          "name": "stdout",
          "text": [
            "0\n",
            "1\n",
            "2\n"
          ]
        }
      ]
    },
    {
      "cell_type": "markdown",
      "source": [
        "ejemplo mas simple con caracteres:"
      ],
      "metadata": {
        "id": "pEwA86ahM5PS"
      }
    },
    {
      "cell_type": "code",
      "source": [
        "for nombre in {\"Juan\", \"Luis\", \"Carlos\"}:\n",
        "    print(nombre)"
      ],
      "metadata": {
        "id": "P2mKOit8M8z1",
        "colab": {
          "base_uri": "https://localhost:8080/"
        },
        "outputId": "6944f5ed-94d7-409f-db14-72e4f6466bcf"
      },
      "execution_count": null,
      "outputs": [
        {
          "output_type": "stream",
          "name": "stdout",
          "text": [
            "Juan\n",
            "Luis\n",
            "Carlos\n",
            "25\n"
          ]
        }
      ]
    },
    {
      "cell_type": "markdown",
      "source": [
        "ejemplo simple con los arreglos antes vistos:"
      ],
      "metadata": {
        "id": "ZuLWtZvCNHik"
      }
    },
    {
      "cell_type": "code",
      "source": [
        "#Usando una tupla para iterar\n",
        "for n in (0,2,5,0.5,5+2j):\n",
        "  n=n+3+5j\n",
        "  print(n)"
      ],
      "metadata": {
        "colab": {
          "base_uri": "https://localhost:8080/"
        },
        "id": "25fRU24cYPMf",
        "outputId": "1cde0757-440b-4019-83ba-52d35c50c22f"
      },
      "execution_count": null,
      "outputs": [
        {
          "output_type": "stream",
          "name": "stdout",
          "text": [
            "(3+5j)\n",
            "(5+5j)\n",
            "(8+5j)\n",
            "(3.5+5j)\n",
            "(8+7j)\n"
          ]
        }
      ]
    },
    {
      "cell_type": "code",
      "source": [
        "# Usando una lista\n",
        "\n",
        "dates = [1982,1980,1973]\n",
        "\n",
        "for year in dates:\n",
        "    print(year)"
      ],
      "metadata": {
        "colab": {
          "base_uri": "https://localhost:8080/"
        },
        "id": "GItVLPaeYQf_",
        "outputId": "06efdd42-7324-4d69-e853-7e8fd846ec41"
      },
      "execution_count": null,
      "outputs": [
        {
          "output_type": "stream",
          "name": "stdout",
          "text": [
            "1982\n",
            "1980\n",
            "1973\n"
          ]
        }
      ]
    },
    {
      "cell_type": "markdown",
      "source": [
        "Para cada iteración, el valor de la variable <code>year</code> se comporta como el valor de <code>dates[i]</code>.."
      ],
      "metadata": {
        "id": "AnSHPMlaLdnO"
      }
    },
    {
      "cell_type": "markdown",
      "source": [
        "<img src=\"https://cf-courses-data.s3.us.cloud-object-storage.appdomain.cloud/IBMDeveloperSkillsNetwork-PY0101EN-SkillsNetwork/labs/Module%203/images/LoopsForList.gif\" width=\"800\">\n"
      ],
      "metadata": {
        "id": "EqTgU8J1Ll1p"
      }
    },
    {
      "cell_type": "markdown",
      "source": [
        "Podemos cambiar los elementos de una lista:"
      ],
      "metadata": {
        "id": "_PJXArMcHZoj"
      }
    },
    {
      "cell_type": "code",
      "source": [
        "# Usando loops para cambiar elementos de una lista\n",
        "\n",
        "colors_list = ['red', 'yellow', 'green', 'purple', 'blue']\n",
        "\n",
        "for i in range(0, 5):\n",
        "    print(\"Antes en la lista \", i, 'es',  colors_list[i])\n",
        "    colors_list[i] = 'white'\n",
        "    print(\"Despues en la lista \", i, 'es',  colors_list[i])"
      ],
      "metadata": {
        "id": "Y1FkJRdCMkXm",
        "colab": {
          "base_uri": "https://localhost:8080/"
        },
        "outputId": "5c723d11-5d23-47a0-b529-058f09d0e3b4"
      },
      "execution_count": null,
      "outputs": [
        {
          "output_type": "stream",
          "name": "stdout",
          "text": [
            "Antes en la lista  0 es red\n",
            "Despues en la lista  0 es white\n",
            "Antes en la lista  1 es yellow\n",
            "Despues en la lista  1 es white\n",
            "Antes en la lista  2 es green\n",
            "Despues en la lista  2 es white\n",
            "Antes en la lista  3 es purple\n",
            "Despues en la lista  3 es white\n",
            "Antes en la lista  4 es blue\n",
            "Despues en la lista  4 es white\n"
          ]
        }
      ]
    },
    {
      "cell_type": "code",
      "source": [
        "colors_list"
      ],
      "metadata": {
        "colab": {
          "base_uri": "https://localhost:8080/"
        },
        "id": "5AVrW5gYs_Qo",
        "outputId": "1a1aaffe-5e76-406c-ae61-d25d3eae310b"
      },
      "execution_count": null,
      "outputs": [
        {
          "output_type": "execute_result",
          "data": {
            "text/plain": [
              "['white', 'white', 'white', 'white', 'white']"
            ]
          },
          "metadata": {},
          "execution_count": 95
        }
      ]
    },
    {
      "cell_type": "markdown",
      "source": [
        "**La principal diferencia entre un bucle while y un bucle for en Python es cómo controlan el flujo de ejecución y manejan las iteraciones.**"
      ],
      "metadata": {
        "id": "LHvD4LMXNeWL"
      }
    },
    {
      "cell_type": "markdown",
      "source": [
        "### Punto clave de While Loop:\n",
        "\n",
        "1. Un ciclo while ejecuta repetidamente un bloque de código siempre que una condición dada sea verdadera.\n",
        "2. No tiene un número fijo de iteraciones sino que continúa ejecutándose hasta que la condición se vuelve falsa.\n",
        "3. La condición se verifica antes de cada iteración y, si inicialmente es falsa, el bloque de código se omite por completo.\n",
        "4. La condición generalmente se basa en una variable o expresión que puede cambiar durante la ejecución del bucle.\n",
        "5. Brinda más flexibilidad en términos de controlar la ejecución del bucle en función de las condiciones dinámicas."
      ],
      "metadata": {
        "id": "mKlx0ZsmNjFz"
      }
    },
    {
      "cell_type": "markdown",
      "source": [
        "### Punto clave de For Loop:\n",
        "\n",
        "1. Un bucle for itera sobre una secuencia (como una lista, una cadena o un rango) o cualquier objeto que admita la iteración.\n",
        "2. Tiene un número predefinido de iteraciones basado en la longitud de la secuencia o el número de elementos para iterar.\n",
        "3. Maneja automáticamente la iteración y no requiere mantener una variable separada para rastrear el conteo de iteraciones.\n",
        "4. Simplifica el código al encapsular la lógica de iteración dentro del propio bucle.\n",
        "5. Se usa comúnmente cuando conoce el número exacto de iteraciones o necesita iterar sobre cada elemento de una colección."
      ],
      "metadata": {
        "id": "JCYeZYLANom-"
      }
    },
    {
      "cell_type": "code",
      "source": [
        "from sympy import *\n",
        "from sympy.abc import *    # Todo lo que escriba lo va entender como simbolo"
      ],
      "metadata": {
        "id": "ZJAn7U2pu4Xc"
      },
      "execution_count": null,
      "outputs": []
    },
    {
      "cell_type": "code",
      "source": [
        "x+3"
      ],
      "metadata": {
        "colab": {
          "base_uri": "https://localhost:8080/",
          "height": 39
        },
        "id": "BWiINX0HvE_s",
        "outputId": "e5064df6-a4eb-4655-a965-f8c038a6d1ab"
      },
      "execution_count": null,
      "outputs": [
        {
          "output_type": "execute_result",
          "data": {
            "text/plain": [
              "x + 3"
            ],
            "text/latex": "$\\displaystyle x + 3$"
          },
          "metadata": {},
          "execution_count": 102
        }
      ]
    },
    {
      "cell_type": "code",
      "source": [
        "expr = exp(x)"
      ],
      "metadata": {
        "id": "ZwX0Alhdvs9r"
      },
      "execution_count": null,
      "outputs": []
    },
    {
      "cell_type": "code",
      "source": [
        "series(expr,n=2)"
      ],
      "metadata": {
        "colab": {
          "base_uri": "https://localhost:8080/",
          "height": 39
        },
        "id": "OYglYLbqvQlu",
        "outputId": "52a2f037-ef54-4989-9b46-77b94e004070"
      },
      "execution_count": null,
      "outputs": [
        {
          "output_type": "execute_result",
          "data": {
            "text/plain": [
              "1 + x + O(x**2)"
            ],
            "text/latex": "$\\displaystyle 1 + x + O\\left(x^{2}\\right)$"
          },
          "metadata": {},
          "execution_count": 107
        }
      ]
    },
    {
      "cell_type": "code",
      "source": [
        "for n in [0,1,2,3,4,5]:\n",
        "  display(series(expr,n=n))"
      ],
      "metadata": {
        "colab": {
          "base_uri": "https://localhost:8080/",
          "height": 193
        },
        "id": "pIT-mmq2v2bU",
        "outputId": "ed2e81a4-16d9-4300-c1d1-72e8d2056061"
      },
      "execution_count": null,
      "outputs": [
        {
          "output_type": "display_data",
          "data": {
            "text/plain": [
              "O(1)"
            ],
            "text/latex": "$\\displaystyle O\\left(1\\right)$"
          },
          "metadata": {}
        },
        {
          "output_type": "display_data",
          "data": {
            "text/plain": [
              "1 + O(x)"
            ],
            "text/latex": "$\\displaystyle 1 + O\\left(x\\right)$"
          },
          "metadata": {}
        },
        {
          "output_type": "display_data",
          "data": {
            "text/plain": [
              "1 + x + O(x**2)"
            ],
            "text/latex": "$\\displaystyle 1 + x + O\\left(x^{2}\\right)$"
          },
          "metadata": {}
        },
        {
          "output_type": "display_data",
          "data": {
            "text/plain": [
              "1 + x + x**2/2 + O(x**3)"
            ],
            "text/latex": "$\\displaystyle 1 + x + \\frac{x^{2}}{2} + O\\left(x^{3}\\right)$"
          },
          "metadata": {}
        },
        {
          "output_type": "display_data",
          "data": {
            "text/plain": [
              "1 + x + x**2/2 + x**3/6 + O(x**4)"
            ],
            "text/latex": "$\\displaystyle 1 + x + \\frac{x^{2}}{2} + \\frac{x^{3}}{6} + O\\left(x^{4}\\right)$"
          },
          "metadata": {}
        },
        {
          "output_type": "display_data",
          "data": {
            "text/plain": [
              "1 + x + x**2/2 + x**3/6 + x**4/24 + O(x**5)"
            ],
            "text/latex": "$\\displaystyle 1 + x + \\frac{x^{2}}{2} + \\frac{x^{3}}{6} + \\frac{x^{4}}{24} + O\\left(x^{5}\\right)$"
          },
          "metadata": {}
        }
      ]
    }
  ],
  "metadata": {
    "kernelspec": {
      "display_name": "Python 3",
      "language": "python",
      "name": "python3"
    },
    "language_info": {
      "codemirror_mode": {
        "name": "ipython",
        "version": 3
      },
      "file_extension": ".py",
      "mimetype": "text/x-python",
      "name": "python",
      "nbconvert_exporter": "python",
      "pygments_lexer": "ipython3",
      "version": "3.6.4"
    },
    "colab": {
      "provenance": []
    }
  },
  "nbformat": 4,
  "nbformat_minor": 0
}