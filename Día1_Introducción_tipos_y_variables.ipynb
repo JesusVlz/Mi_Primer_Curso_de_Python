{
  "cells": [
    {
      "cell_type": "markdown",
      "metadata": {
        "id": "zXduBp_p_sQq"
      },
      "source": [
        "# **Programación = Lógica + Sintaxis**\n",
        "\n",
        "La lógica es común a diferentes lenguajes de programación, es decir, una vez adquirida, puede ser utilizada en otros. La sintaxis es la típica del lenguaje de programación elegido, se sabe que Python tiene una sintaxis simple muy cercana al inglés.\n",
        "\n",
        "Diferentes idiomas para diferentes casos de uso\n",
        "\n",
        "En la práctica, los idiomas se utilizan a menudo en áreas específicas, por ejemplo:\n",
        "\n",
        "* JavaScript: interfaz web y backend web;\n",
        "* Python: datos, servidor web;\n",
        "* R: Datos.\n"
      ]
    },
    {
      "cell_type": "markdown",
      "metadata": {
        "id": "i6ZFm-ER_ZoC"
      },
      "source": [
        "# **¿Porque programamos en Python?**\n",
        "\n",
        "\n"
      ]
    },
    {
      "cell_type": "markdown",
      "metadata": {
        "id": "ByWJPAKbAZ-q"
      },
      "source": [
        "\n",
        "* Python es la opción de facto para trabajar con datos, nació en la precisamente para facilitar el procesamiento de datos;\n",
        "* Tiene una gran comunidad (personas, contenido, proyectos, etc.) y ecosistema (proyectos, herramientas, etc.);\n",
        "* Tiene una sintaxis simple y cercana al inglés.\n"
      ]
    },
    {
      "cell_type": "markdown",
      "metadata": {
        "id": "w9ZMMknXaMf6"
      },
      "source": [
        "<h2>Contenido</h2>\n",
        "<div class=\"alert alert-block alert-info\" style=\"margin-top: 20px\">\n",
        "        <li>\n",
        "            <a>Tipos en Python</a>\n",
        "            <ul>\n",
        "                <li><a>Integers</a></li>\n",
        "                <li><a >Floats</a></li>\n",
        "                <li><a >Complex</a></li>\n",
        "                <li><a>Convirtir a otros tipos</a></li>\n",
        "                <li><a >Booleanos</a></li>\n",
        "                <li><a >Caracteres</a></li>\n",
        "                <li><a >Ejercicios:Tipos</a></li>\n",
        "            </ul>\n",
        "        </li>\n",
        "        <li>\n",
        "            <a>Operaciones y variables</a>\n",
        "            <ul>\n",
        "                <li><a>Operaciones</a></li>\n",
        "                <li><a>Ejercicios:Operaciones</a></li>\n",
        "                <li><a>Variables</a></li>\n",
        "                <li><a>Ejercicios: Variables</a></li>\n",
        "            </ul>\n",
        "        </li>\n",
        "    </ul>\n",
        "    <p>\n",
        "\n",
        "</div>\n",
        "\n",
        "<hr>\n"
      ]
    },
    {
      "cell_type": "markdown",
      "metadata": {
        "id": "xHA8il0Iw0dZ"
      },
      "source": [
        "# <h2 id=\"hello\">Empezamos con el tradicional \"Hola Mundo\" en Python</h2>\n",
        "\n",
        "Vamos a realizarlo declarando un <code>PRINT</code>"
      ]
    },
    {
      "cell_type": "code",
      "execution_count": null,
      "metadata": {
        "colab": {
          "base_uri": "https://localhost:8080/"
        },
        "id": "e7mHyMSzvLmk",
        "outputId": "838e42e5-889d-4e6a-a102-369c36b245c1"
      },
      "outputs": [
        {
          "name": "stdout",
          "output_type": "stream",
          "text": [
            "Hola\n",
            "¿Como estas?\n"
          ]
        }
      ],
      "source": [
        "print(\"Hola\")\n",
        "\n",
        "print(\"¿Como estas?\")\n"
      ]
    },
    {
      "cell_type": "markdown",
      "metadata": {
        "id": "ly8U8XXt16Qk"
      },
      "source": [
        " <h2 id=\"hello\">Una buena practica al programar siempre es realizar comentarios </h2>\n",
        "  Para poder escribirlos en Python, usaremos el simbolo <code>#</code> al comienzo de la linea que escribiremos nuestro comentario."
      ]
    },
    {
      "cell_type": "code",
      "execution_count": null,
      "metadata": {
        "id": "5pcK1yDy157R"
      },
      "outputs": [],
      "source": [
        "#Siempre es util realizar comentarios en nuestros codigos"
      ]
    },
    {
      "cell_type": "markdown",
      "metadata": {
        "id": "FIXat10W24Pq"
      },
      "source": [
        "Python ignorara todo lo que coloquemos despues de simbolo <code>#</code> en la linea de codigo"
      ]
    },
    {
      "cell_type": "code",
      "execution_count": null,
      "metadata": {
        "colab": {
          "base_uri": "https://localhost:8080/"
        },
        "id": "7VFEOmMP22fB",
        "outputId": "a49aa0c3-bcb8-4c30-8d1d-f140c66201a8"
      },
      "outputs": [
        {
          "name": "stdout",
          "output_type": "stream",
          "text": [
            "Hello World\n"
          ]
        }
      ],
      "source": [
        "print(\"Hello World\") #Este es un hola mundo"
      ]
    },
    {
      "cell_type": "markdown",
      "metadata": {
        "id": "DIOQ_6MW45SZ"
      },
      "source": [
        "<h3 id=\"version\">¿Qué version de Python estamos nosotros usando?</h3>\n",
        "    Existen dos versiones mas popularmente usadas: Python 2 y Python 3. La comunidad de Python decidio mudar de Python 2 a Python 3, en consecuencia librerias populares continuaron dando soporte a Python 2, y otras se concentraron en desarrollo para Python 3.\n",
        "\n"
      ]
    },
    {
      "cell_type": "code",
      "execution_count": null,
      "metadata": {
        "colab": {
          "base_uri": "https://localhost:8080/"
        },
        "id": "Gvpu_SY14VXA",
        "outputId": "81ed31ae-c4da-4662-bef9-3cbbf71d13d3"
      },
      "outputs": [
        {
          "name": "stdout",
          "output_type": "stream",
          "text": [
            "3.10.11 (main, Apr  5 2023, 14:15:10) [GCC 9.4.0]\n"
          ]
        }
      ],
      "source": [
        "# Python Version\n",
        "\n",
        "import sys\n",
        "print(sys.version)"
      ]
    },
    {
      "cell_type": "markdown",
      "metadata": {
        "id": "3AswSy6D7qYk"
      },
      "source": [
        "<h3 id=\"types\">En Python los tipos primitivos son</h3>\n",
        " Los números (int,float,complex), cadenas de caracteres (string), booleanos,tuplas,listas y diccionarios (estos 3 ultimos son colecciones de datos).\n",
        ""
      ]
    },
    {
      "cell_type": "markdown",
      "metadata": {
        "id": "2GBfW0Ku8nVb"
      },
      "source": [
        "## **Integer**\n",
        "\n",
        "El primero tipo es el de los números enteros, que en ingles lo conocemos como\n",
        "\"integer\", abarcando tanto enteros positivos como negativos.\n"
      ]
    },
    {
      "cell_type": "code",
      "execution_count": null,
      "metadata": {
        "colab": {
          "base_uri": "https://localhost:8080/"
        },
        "id": "ws2GYf4E8ZUl",
        "outputId": "4efc2241-11cf-4b2b-8afb-709952e9f2d0"
      },
      "outputs": [
        {
          "name": "stdout",
          "output_type": "stream",
          "text": [
            "475\n",
            "645\n",
            "39\n"
          ]
        }
      ],
      "source": [
        "#Podemos usar a python como una simple calculadora\n",
        "print(5+500-30)\n",
        "print(614+31)\n",
        "print(6*8-9)\n"
      ]
    },
    {
      "cell_type": "code",
      "execution_count": null,
      "metadata": {
        "colab": {
          "base_uri": "https://localhost:8080/"
        },
        "id": "nbtWL_x99Wvc",
        "outputId": "2007f25b-7479-46d6-e99f-f79ed6e4f541"
      },
      "outputs": [
        {
          "data": {
            "text/plain": [
              "19"
            ]
          },
          "execution_count": 26,
          "metadata": {},
          "output_type": "execute_result"
        }
      ],
      "source": [
        "3*6+1"
      ]
    },
    {
      "cell_type": "code",
      "execution_count": null,
      "metadata": {
        "colab": {
          "base_uri": "https://localhost:8080/"
        },
        "id": "ci2yQp0meFs1",
        "outputId": "c4da0445-2b8d-409a-ffb1-9623fb0fc381"
      },
      "outputs": [
        {
          "data": {
            "text/plain": [
              "16"
            ]
          },
          "execution_count": 28,
          "metadata": {},
          "output_type": "execute_result"
        }
      ],
      "source": [
        "2**4"
      ]
    },
    {
      "cell_type": "code",
      "execution_count": null,
      "metadata": {
        "colab": {
          "base_uri": "https://localhost:8080/"
        },
        "id": "W8YYhisq9Ym8",
        "outputId": "773b30ef-bb2c-4f3c-e9d5-7163efb5ea13"
      },
      "outputs": [
        {
          "data": {
            "text/plain": [
              "-60"
            ]
          },
          "execution_count": 29,
          "metadata": {},
          "output_type": "execute_result"
        }
      ],
      "source": [
        "10-100+30"
      ]
    },
    {
      "cell_type": "code",
      "execution_count": null,
      "metadata": {
        "colab": {
          "base_uri": "https://localhost:8080/"
        },
        "id": "UGRtnvXy9cS1",
        "outputId": "5b253794-a4c0-4655-a12f-c376781264cc"
      },
      "outputs": [
        {
          "data": {
            "text/plain": [
              "-150"
            ]
          },
          "execution_count": 30,
          "metadata": {},
          "output_type": "execute_result"
        }
      ],
      "source": [
        "10 + 20 - 60 * 3"
      ]
    },
    {
      "cell_type": "code",
      "execution_count": null,
      "metadata": {
        "colab": {
          "base_uri": "https://localhost:8080/"
        },
        "id": "5hZmeBas9QSl",
        "outputId": "cd4ffed1-24ac-4394-c7e3-eea23386a184"
      },
      "outputs": [
        {
          "data": {
            "text/plain": [
              "0"
            ]
          },
          "execution_count": 34,
          "metadata": {},
          "output_type": "execute_result"
        }
      ],
      "source": [
        "5//10   #Dividir y resultado parte entera"
      ]
    },
    {
      "cell_type": "markdown",
      "metadata": {
        "id": "cKVh3G4PYuCV"
      },
      "source": [
        "Podemos averiguar el tipo usando el comando <code>type()</code>\n"
      ]
    },
    {
      "cell_type": "code",
      "execution_count": null,
      "metadata": {
        "colab": {
          "base_uri": "https://localhost:8080/"
        },
        "id": "m-1TFI25ZFM9",
        "outputId": "93c47f3a-ec79-4d4f-8404-bca70ae73d67"
      },
      "outputs": [
        {
          "data": {
            "text/plain": [
              "int"
            ]
          },
          "execution_count": 38,
          "metadata": {},
          "output_type": "execute_result"
        }
      ],
      "source": [
        "type(18)"
      ]
    },
    {
      "cell_type": "code",
      "execution_count": null,
      "metadata": {
        "colab": {
          "base_uri": "https://localhost:8080/"
        },
        "id": "Qv3O_NuKZLy6",
        "outputId": "ab004c8e-cec1-4057-d86e-a209063a3dae"
      },
      "outputs": [
        {
          "data": {
            "text/plain": [
              "float"
            ]
          },
          "execution_count": 37,
          "metadata": {},
          "output_type": "execute_result"
        }
      ],
      "source": [
        "type(0.5)"
      ]
    },
    {
      "cell_type": "markdown",
      "metadata": {
        "id": "JvXefjInZRQy"
      },
      "source": [
        "# **Float**\n",
        "Este tipo representa a los número reales; estos contienen a los número enteros pero ademas incluyen a los números con decimales.\n",
        "Se llaman flotantes debido a que las computadoras presentan dificultades para representar a los número reales, por lo que los números punto flotantes son una buena representacion en la mayoria de casos."
      ]
    },
    {
      "cell_type": "code",
      "execution_count": null,
      "metadata": {
        "colab": {
          "base_uri": "https://localhost:8080/"
        },
        "id": "wryP13h9bwKV",
        "outputId": "f54c930d-f55e-43b0-965e-71d149c5302c"
      },
      "outputs": [
        {
          "data": {
            "text/plain": [
              "23.666"
            ]
          },
          "execution_count": 40,
          "metadata": {},
          "output_type": "execute_result"
        }
      ],
      "source": [
        "23.666 #Este un flotante"
      ]
    },
    {
      "cell_type": "code",
      "execution_count": null,
      "metadata": {
        "colab": {
          "base_uri": "https://localhost:8080/"
        },
        "id": "3-Ua6fb_bzIi",
        "outputId": "29a17b4c-1497-4008-8173-4c167061e5ad"
      },
      "outputs": [
        {
          "data": {
            "text/plain": [
              "float"
            ]
          },
          "execution_count": 41,
          "metadata": {},
          "output_type": "execute_result"
        }
      ],
      "source": [
        "type(23.33)"
      ]
    },
    {
      "cell_type": "code",
      "execution_count": null,
      "metadata": {
        "colab": {
          "base_uri": "https://localhost:8080/"
        },
        "id": "hV2fQm57b14Z",
        "outputId": "8983a06c-8235-4efc-8058-321822ea5a84"
      },
      "outputs": [
        {
          "data": {
            "text/plain": [
              "float"
            ]
          },
          "execution_count": 44,
          "metadata": {},
          "output_type": "execute_result"
        }
      ],
      "source": [
        "type(0.0)"
      ]
    },
    {
      "cell_type": "code",
      "execution_count": null,
      "metadata": {
        "colab": {
          "base_uri": "https://localhost:8080/"
        },
        "id": "AFwo4_SXb5Ad",
        "outputId": "ab77e721-321b-4636-c87d-171bc09759e0"
      },
      "outputs": [
        {
          "data": {
            "text/plain": [
              "float"
            ]
          },
          "execution_count": 16,
          "metadata": {},
          "output_type": "execute_result"
        }
      ],
      "source": [
        "type(3.1416)"
      ]
    },
    {
      "cell_type": "markdown",
      "metadata": {
        "id": "9WzQZ44XcRWX"
      },
      "source": [
        "## **Complex**\n",
        "\n",
        "El ultimo tipo son los números complejos, que en ingles la variable se denota como complex, y en vez de usar la unidad imaginaria con la letra i, en este lenguaje de programacion se empleja la letra j."
      ]
    },
    {
      "cell_type": "code",
      "execution_count": null,
      "metadata": {
        "colab": {
          "base_uri": "https://localhost:8080/"
        },
        "id": "M7ZzjUsYcSu2",
        "outputId": "14af9b2e-d263-4fde-8d97-afbf5bd6921c"
      },
      "outputs": [
        {
          "data": {
            "text/plain": [
              "(2+6j)"
            ]
          },
          "execution_count": 46,
          "metadata": {},
          "output_type": "execute_result"
        }
      ],
      "source": [
        "2+6j #Este es un número complejo"
      ]
    },
    {
      "cell_type": "code",
      "execution_count": null,
      "metadata": {
        "colab": {
          "base_uri": "https://localhost:8080/"
        },
        "id": "vyflSd6Bce5C",
        "outputId": "92ec42dd-418b-4ef8-fd1e-522caaad5f5b"
      },
      "outputs": [
        {
          "data": {
            "text/plain": [
              "complex"
            ]
          },
          "execution_count": 49,
          "metadata": {},
          "output_type": "execute_result"
        }
      ],
      "source": [
        "#Comprobando tipo\n",
        "type(2+6j)"
      ]
    },
    {
      "cell_type": "markdown",
      "metadata": {
        "id": "tY7HnDT-lfaV"
      },
      "source": [
        "Obtenemos la parte imaginaria usando la función <code>().imag</code>\n"
      ]
    },
    {
      "cell_type": "code",
      "execution_count": null,
      "metadata": {
        "colab": {
          "base_uri": "https://localhost:8080/"
        },
        "id": "Kzrmo0WjchVt",
        "outputId": "9b465311-1ccd-406d-87a0-40f2497302bc"
      },
      "outputs": [
        {
          "data": {
            "text/plain": [
              "6.0"
            ]
          },
          "execution_count": 50,
          "metadata": {},
          "output_type": "execute_result"
        }
      ],
      "source": [
        "(2+6j).imag"
      ]
    },
    {
      "cell_type": "code",
      "execution_count": null,
      "metadata": {
        "colab": {
          "base_uri": "https://localhost:8080/"
        },
        "id": "qjOWiL3OaTwy",
        "outputId": "e97f53e5-eca7-4d3e-ac0e-45290ee34b04"
      },
      "outputs": [
        {
          "data": {
            "text/plain": [
              "2.0"
            ]
          },
          "execution_count": 52,
          "metadata": {},
          "output_type": "execute_result"
        }
      ],
      "source": [
        "(2-7j).real"
      ]
    },
    {
      "cell_type": "code",
      "execution_count": null,
      "metadata": {
        "colab": {
          "base_uri": "https://localhost:8080/"
        },
        "id": "HoevZvytcxo4",
        "outputId": "f1dcbe9f-384d-45c9-9962-a20dc5e20ba6"
      },
      "outputs": [
        {
          "data": {
            "text/plain": [
              "(3+10j)"
            ]
          },
          "execution_count": 20,
          "metadata": {},
          "output_type": "execute_result"
        }
      ],
      "source": [
        "(3-10j).conjugate()"
      ]
    },
    {
      "cell_type": "code",
      "execution_count": null,
      "metadata": {
        "colab": {
          "base_uri": "https://localhost:8080/"
        },
        "id": "qezn3dEQdlQd",
        "outputId": "6634df65-b0ae-4f39-8954-83d4a582a136"
      },
      "outputs": [
        {
          "data": {
            "text/plain": [
              "(-7-11j)"
            ]
          },
          "execution_count": 61,
          "metadata": {},
          "output_type": "execute_result"
        }
      ],
      "source": [
        "(5+3j)*(-2-1j) #Multiplicacion de complejos"
      ]
    },
    {
      "cell_type": "code",
      "execution_count": null,
      "metadata": {
        "colab": {
          "base_uri": "https://localhost:8080/"
        },
        "id": "jxgoRZJEd5mB",
        "outputId": "23a2d045-0f16-4130-8c33-5398c8f248cb"
      },
      "outputs": [
        {
          "data": {
            "text/plain": [
              "(-0.07692307692307686-1.6153846153846154j)"
            ]
          },
          "execution_count": 66,
          "metadata": {},
          "output_type": "execute_result"
        }
      ],
      "source": [
        "(5+3j)/(-2+3j) #Division de complejos"
      ]
    },
    {
      "cell_type": "code",
      "execution_count": null,
      "metadata": {
        "colab": {
          "base_uri": "https://localhost:8080/"
        },
        "id": "WIq2bUtxd8KG",
        "outputId": "836ac13c-3df5-4040-f9b1-bd6261de2b8f"
      },
      "outputs": [
        {
          "data": {
            "text/plain": [
              "(-0.048272884841909364-0.014804300799943163j)"
            ]
          },
          "execution_count": 63,
          "metadata": {},
          "output_type": "execute_result"
        }
      ],
      "source": [
        "(5+3j)**(-2-1j)  #Potencia de complejos"
      ]
    },
    {
      "cell_type": "markdown",
      "metadata": {
        "id": "F05QLi7XeeKV"
      },
      "source": [
        "# **Textos (Strings)**\n",
        "\n",
        "Consisten en secuencias de caracteres dentro de unas comillas. En Python las variables Strings se pueden declarar indistitantemente usando unas simples comillas ('') o usando dobles (\"\"), string quiere decir hilo en ingles, por lo tanto cuando decimos strings en python nos referimos a hilos de texto."
      ]
    },
    {
      "cell_type": "code",
      "execution_count": null,
      "metadata": {
        "colab": {
          "base_uri": "https://localhost:8080/",
          "height": 36
        },
        "id": "bajqZusaefaQ",
        "outputId": "c835a582-d308-49b8-cc06-8a15a2f4937b"
      },
      "outputs": [
        {
          "data": {
            "application/vnd.google.colaboratory.intrinsic+json": {
              "type": "string"
            },
            "text/plain": [
              "'Hello World'"
            ]
          },
          "execution_count": 24,
          "metadata": {},
          "output_type": "execute_result"
        }
      ],
      "source": [
        "#Usando dos comillas\n",
        "\"Hello World\""
      ]
    },
    {
      "cell_type": "code",
      "execution_count": null,
      "metadata": {
        "colab": {
          "base_uri": "https://localhost:8080/"
        },
        "id": "WOAoik2xeoD3",
        "outputId": "85177dc5-677e-4284-def0-0ff6cda9de02"
      },
      "outputs": [
        {
          "data": {
            "text/plain": [
              "str"
            ]
          },
          "execution_count": 68,
          "metadata": {},
          "output_type": "execute_result"
        }
      ],
      "source": [
        "type(\"Hello World\")"
      ]
    },
    {
      "cell_type": "code",
      "execution_count": null,
      "metadata": {
        "colab": {
          "base_uri": "https://localhost:8080/",
          "height": 35
        },
        "id": "RgIyYPPogo4K",
        "outputId": "5ecbca53-2b54-43f7-d58a-da6a60c82b9d"
      },
      "outputs": [
        {
          "data": {
            "application/vnd.google.colaboratory.intrinsic+json": {
              "type": "string"
            },
            "text/plain": [
              "'1 2 3 4 5 6 '"
            ]
          },
          "execution_count": 70,
          "metadata": {},
          "output_type": "execute_result"
        }
      ],
      "source": [
        "# Digitos\n",
        "'1 2 3 4 5 6'"
      ]
    },
    {
      "cell_type": "code",
      "execution_count": null,
      "metadata": {
        "colab": {
          "base_uri": "https://localhost:8080/",
          "height": 35
        },
        "id": "bzbxbGZ0gvFk",
        "outputId": "5f71b0c0-2e85-4a6d-cb92-07d0dcba4e2a"
      },
      "outputs": [
        {
          "data": {
            "application/vnd.google.colaboratory.intrinsic+json": {
              "type": "string"
            },
            "text/plain": [
              "'@#2_#]&*^%$'"
            ]
          },
          "execution_count": 71,
          "metadata": {},
          "output_type": "execute_result"
        }
      ],
      "source": [
        "# Caracteres especiales\n",
        "'@#2_#]&*^%$'"
      ]
    },
    {
      "cell_type": "markdown",
      "metadata": {
        "id": "L5KJ4Q67i6uF"
      },
      "source": [
        "Podemos pensar a los caracteres como una secuencia ordenada, donde podemos acceder a cada elemento usando un índice que nos ayuda  representar un arreglo de números:"
      ]
    },
    {
      "cell_type": "markdown",
      "metadata": {
        "id": "DfeoOpjdjX2k"
      },
      "source": [
        "<img src=\"https://cf-courses-data.s3.us.cloud-object-storage.appdomain.cloud/IBMDeveloperSkillsNetwork-PY0101EN-SkillsNetwork/labs/Module%201/images/StringsIndex.png\" width=\"600\" align=\"center\">"
      ]
    },
    {
      "cell_type": "code",
      "execution_count": null,
      "metadata": {
        "colab": {
          "base_uri": "https://localhost:8080/",
          "height": 35
        },
        "id": "9Sua6w3GjW-L",
        "outputId": "efc62f87-22b0-451a-d4f5-81a5f6198951"
      },
      "outputs": [
        {
          "data": {
            "application/vnd.google.colaboratory.intrinsic+json": {
              "type": "string"
            },
            "text/plain": [
              "'h'"
            ]
          },
          "execution_count": 80,
          "metadata": {},
          "output_type": "execute_result"
        }
      ],
      "source": [
        "# Sea el primer elemento de Michal Jackson\n",
        "\"Michael Jackson\"[3]"
      ]
    },
    {
      "cell_type": "markdown",
      "metadata": {
        "id": "UlLsBoRwkcAA"
      },
      "source": [
        "Además pueden los elementos ser llamados usando indices negativos:"
      ]
    },
    {
      "cell_type": "markdown",
      "metadata": {
        "id": "AUMN3xErkxsN"
      },
      "source": [
        "<img src=\"https://cf-courses-data.s3.us.cloud-object-storage.appdomain.cloud/IBMDeveloperSkillsNetwork-PY0101EN-SkillsNetwork/labs/Module%201/images/StringsNeg.png\" width=\"600\" align=\"center\">"
      ]
    },
    {
      "cell_type": "code",
      "execution_count": null,
      "metadata": {
        "colab": {
          "base_uri": "https://localhost:8080/",
          "height": 35
        },
        "id": "Kd_lLI9Akycn",
        "outputId": "81338d2a-ff49-4542-872b-59eab16a2107"
      },
      "outputs": [
        {
          "data": {
            "application/vnd.google.colaboratory.intrinsic+json": {
              "type": "string"
            },
            "text/plain": [
              "'M'"
            ]
          },
          "execution_count": 82,
          "metadata": {},
          "output_type": "execute_result"
        }
      ],
      "source": [
        "# Sea el primer elemento de Michal Jackson\n",
        "\"Michael Jackson\"[-15]"
      ]
    },
    {
      "cell_type": "markdown",
      "metadata": {
        "id": "AsEP6i9clRe7"
      },
      "source": [
        "Podemos averiguar la longitud del caracter usando el comando <code>len()</code>\n"
      ]
    },
    {
      "cell_type": "code",
      "execution_count": null,
      "metadata": {
        "colab": {
          "base_uri": "https://localhost:8080/"
        },
        "id": "i2vC1l97lXwO",
        "outputId": "a5dd433c-4acd-4ffc-c10b-f13736b3f2a6"
      },
      "outputs": [
        {
          "data": {
            "text/plain": [
              "15"
            ]
          },
          "execution_count": 87,
          "metadata": {},
          "output_type": "execute_result"
        }
      ],
      "source": [
        "len(\"Michael Jackson\")"
      ]
    },
    {
      "cell_type": "markdown",
      "metadata": {
        "id": "a14AnfLLTMvK"
      },
      "source": [
        "# **Booleanos**\n",
        "Una expresión booleana (o expresión lógica) es evaluada como verdadera (true) o falsa (false). Python provee el tipo de dato booleano que puede contener los valores <code>True</code> o <code>False</code>. Muchas funciones y operaciones retornan objetos booleanos.\n"
      ]
    },
    {
      "cell_type": "code",
      "execution_count": null,
      "metadata": {
        "colab": {
          "base_uri": "https://localhost:8080/"
        },
        "id": "HO6TeDUdTkQi",
        "outputId": "85d11c38-b5f4-46ec-ed14-85c760a0c4bd"
      },
      "outputs": [
        {
          "data": {
            "text/plain": [
              "True"
            ]
          },
          "execution_count": 94,
          "metadata": {},
          "output_type": "execute_result"
        }
      ],
      "source": [
        "True"
      ]
    },
    {
      "cell_type": "code",
      "execution_count": null,
      "metadata": {
        "colab": {
          "base_uri": "https://localhost:8080/"
        },
        "id": "S5u626xdhn7c",
        "outputId": "93b7ef1f-3465-4e91-a01c-446510a888cf"
      },
      "outputs": [
        {
          "data": {
            "text/plain": [
              "0"
            ]
          },
          "execution_count": 98,
          "metadata": {},
          "output_type": "execute_result"
        }
      ],
      "source": [
        "int(False)"
      ]
    },
    {
      "cell_type": "code",
      "execution_count": null,
      "metadata": {
        "colab": {
          "base_uri": "https://localhost:8080/"
        },
        "id": "8T7G8MLxTxvd",
        "outputId": "b520bd7e-2db9-4065-da68-1e910bfac99d"
      },
      "outputs": [
        {
          "data": {
            "text/plain": [
              "bool"
            ]
          },
          "execution_count": 100,
          "metadata": {},
          "output_type": "execute_result"
        }
      ],
      "source": [
        "type(False)"
      ]
    },
    {
      "cell_type": "markdown",
      "metadata": {
        "id": "gjskaYP6T3hW"
      },
      "source": [
        "¿Qué es falso?\n",
        "\n",
        "Todo objeto en Python tiene un valor booleano. Los siguientes elementos se evalúan como False:\n",
        "\n",
        "* None\n",
        "-False\n",
        "-0 (sea un entero o un número de coma flotante).\n",
        "-Colecciones vacías (cadenas, tuplas, listas y diccionarios – \"\", -(,), [], {}).\n"
      ]
    },
    {
      "cell_type": "code",
      "execution_count": null,
      "metadata": {
        "colab": {
          "base_uri": "https://localhost:8080/"
        },
        "id": "pm3lvbq-Uyd6",
        "outputId": "4aca3cff-68a5-4885-d5a3-455ae0a3d960"
      },
      "outputs": [
        {
          "data": {
            "text/plain": [
              "False"
            ]
          },
          "execution_count": 101,
          "metadata": {},
          "output_type": "execute_result"
        }
      ],
      "source": [
        "bool(None)"
      ]
    },
    {
      "cell_type": "markdown",
      "metadata": {
        "id": "-0AY4MMOVY60"
      },
      "source": [
        "*Operadores de comparación*\n",
        "\n",
        "Los operadores <, <=, >, >=, == y != comparan el valor de dos objetos y retornan <code>True</code> o <code>False</code>.\n"
      ]
    },
    {
      "cell_type": "code",
      "execution_count": null,
      "metadata": {
        "colab": {
          "base_uri": "https://localhost:8080/"
        },
        "id": "3q49Ld-nVa79",
        "outputId": "de8f8e13-2912-4f69-bbb3-1fb096b73701"
      },
      "outputs": [
        {
          "data": {
            "text/plain": [
              "False"
            ]
          },
          "execution_count": 115,
          "metadata": {},
          "output_type": "execute_result"
        }
      ],
      "source": [
        "\"x\" == 3"
      ]
    },
    {
      "cell_type": "code",
      "execution_count": null,
      "metadata": {
        "colab": {
          "base_uri": "https://localhost:8080/"
        },
        "id": "2FhM3sx6VnPN",
        "outputId": "8773480a-4ba2-4bb6-c134-0545b76f6df7"
      },
      "outputs": [
        {
          "data": {
            "text/plain": [
              "True"
            ]
          },
          "execution_count": 35,
          "metadata": {},
          "output_type": "execute_result"
        }
      ],
      "source": [
        "2 == 2"
      ]
    },
    {
      "cell_type": "code",
      "execution_count": null,
      "metadata": {
        "colab": {
          "base_uri": "https://localhost:8080/"
        },
        "id": "gczCdutjjIMs",
        "outputId": "9cbc2dd2-03a5-4a93-bcb8-bd9d66571c02"
      },
      "outputs": [
        {
          "data": {
            "text/plain": [
              "False"
            ]
          },
          "execution_count": 107,
          "metadata": {},
          "output_type": "execute_result"
        }
      ],
      "source": [
        "2 != 2"
      ]
    },
    {
      "cell_type": "markdown",
      "metadata": {
        "id": "vBWZHNl5WGBh"
      },
      "source": [
        "*Operaciones lógicas*\n",
        "\n",
        "La evaluación de una expresión al utilizar los operadores and u or sigue las siguientes reglas:\n",
        "\n",
        "* <code>and</code> y or evalúan una expresión de izquierda a derecha.\n",
        "* La operación <code>and</code>, si todos los valores son <code>True</code>, retorna el último en ser evaluado. Si algún valor es falso, retorna el primero.\n",
        "* <code>or</code> retorna el primer valor que sea <code>True</code>. Si todos son <code>False</code>, retorna el último.\n"
      ]
    },
    {
      "cell_type": "code",
      "execution_count": null,
      "metadata": {
        "colab": {
          "base_uri": "https://localhost:8080/"
        },
        "id": "3RSyG9HtWiSQ",
        "outputId": "6da453b9-b4f5-4420-c429-78f27b3b1ea3"
      },
      "outputs": [
        {
          "data": {
            "text/plain": [
              "False"
            ]
          },
          "execution_count": 116,
          "metadata": {},
          "output_type": "execute_result"
        }
      ],
      "source": [
        "False and False"
      ]
    },
    {
      "cell_type": "code",
      "execution_count": null,
      "metadata": {
        "colab": {
          "base_uri": "https://localhost:8080/"
        },
        "id": "VuxxlIXpW600",
        "outputId": "489e178b-b950-4e37-ec62-54aa4253f217"
      },
      "outputs": [
        {
          "data": {
            "text/plain": [
              "True"
            ]
          },
          "execution_count": 119,
          "metadata": {},
          "output_type": "execute_result"
        }
      ],
      "source": [
        "True or True"
      ]
    },
    {
      "cell_type": "markdown",
      "metadata": {
        "id": "6YeOyoJwX8g8"
      },
      "source": [
        "## Conversion de tipos"
      ]
    },
    {
      "cell_type": "code",
      "execution_count": null,
      "metadata": {
        "colab": {
          "base_uri": "https://localhost:8080/"
        },
        "id": "cnyNp_u1YCNE",
        "outputId": "3c884329-bc6c-4ac0-e1a3-5b7878d066be"
      },
      "outputs": [
        {
          "data": {
            "text/plain": [
              "10"
            ]
          },
          "execution_count": 123,
          "metadata": {},
          "output_type": "execute_result"
        }
      ],
      "source": [
        "int(10.9999999)"
      ]
    },
    {
      "cell_type": "code",
      "execution_count": null,
      "metadata": {
        "colab": {
          "base_uri": "https://localhost:8080/"
        },
        "id": "AmMH9IXJYFZl",
        "outputId": "6520860b-1e3c-4570-9c18-6bceaec9bb54"
      },
      "outputs": [
        {
          "data": {
            "text/plain": [
              "0.0"
            ]
          },
          "execution_count": 128,
          "metadata": {},
          "output_type": "execute_result"
        }
      ],
      "source": [
        "float(True)\n",
        "float(False)"
      ]
    },
    {
      "cell_type": "code",
      "execution_count": null,
      "metadata": {
        "colab": {
          "base_uri": "https://localhost:8080/",
          "height": 166
        },
        "id": "63Qg1Hy1YIra",
        "outputId": "bffe7964-42bd-455c-82b6-95bc4c733f26"
      },
      "outputs": [
        {
          "ename": "ValueError",
          "evalue": "ignored",
          "output_type": "error",
          "traceback": [
            "\u001b[0;31m---------------------------------------------------------------------------\u001b[0m",
            "\u001b[0;31mValueError\u001b[0m                                Traceback (most recent call last)",
            "\u001b[0;32m<ipython-input-130-0b68092109eb>\u001b[0m in \u001b[0;36m<cell line: 1>\u001b[0;34m()\u001b[0m\n\u001b[0;32m----> 1\u001b[0;31m \u001b[0mint\u001b[0m\u001b[0;34m(\u001b[0m\u001b[0;34m\"asdkljasdl\"\u001b[0m\u001b[0;34m)\u001b[0m\u001b[0;34m\u001b[0m\u001b[0;34m\u001b[0m\u001b[0m\n\u001b[0m",
            "\u001b[0;31mValueError\u001b[0m: invalid literal for int() with base 10: 'asdkljasdl'"
          ]
        }
      ],
      "source": [
        "int(\"asdkljasdl\")"
      ]
    },
    {
      "cell_type": "code",
      "execution_count": null,
      "metadata": {
        "colab": {
          "base_uri": "https://localhost:8080/"
        },
        "id": "FuQcHwglYVWP",
        "outputId": "2e412a0f-697d-41ab-d55d-8ed6fa7abe00"
      },
      "outputs": [
        {
          "name": "stdout",
          "output_type": "stream",
          "text": [
            "1 y tambien el otro es 0\n"
          ]
        }
      ],
      "source": [
        "print(int(True),\"y tambien el otro es\",int(False))"
      ]
    },
    {
      "cell_type": "code",
      "execution_count": null,
      "metadata": {
        "colab": {
          "base_uri": "https://localhost:8080/"
        },
        "id": "hj1jtflTYXba",
        "outputId": "c5a23425-e217-431b-e312-9af0b2c5da50"
      },
      "outputs": [
        {
          "data": {
            "text/plain": [
              "10.0"
            ]
          },
          "execution_count": 133,
          "metadata": {},
          "output_type": "execute_result"
        }
      ],
      "source": [
        "float(10)"
      ]
    },
    {
      "cell_type": "code",
      "execution_count": null,
      "metadata": {
        "colab": {
          "base_uri": "https://localhost:8080/"
        },
        "id": "ykCMTVcVYaLC",
        "outputId": "91a7dadf-e317-4b78-8f7a-985994f325c6"
      },
      "outputs": [
        {
          "data": {
            "text/plain": [
              "1.0"
            ]
          },
          "execution_count": 134,
          "metadata": {},
          "output_type": "execute_result"
        }
      ],
      "source": [
        "float(True)"
      ]
    },
    {
      "cell_type": "code",
      "execution_count": null,
      "metadata": {
        "colab": {
          "base_uri": "https://localhost:8080/",
          "height": 166
        },
        "id": "pJy01lNYYeAY",
        "outputId": "41711e03-b160-4778-b2e6-d7c187c1da94"
      },
      "outputs": [
        {
          "ename": "ValueError",
          "evalue": "ignored",
          "output_type": "error",
          "traceback": [
            "\u001b[0;31m---------------------------------------------------------------------------\u001b[0m",
            "\u001b[0;31mValueError\u001b[0m                                Traceback (most recent call last)",
            "\u001b[0;32m<ipython-input-137-b54e498b869b>\u001b[0m in \u001b[0;36m<cell line: 1>\u001b[0;34m()\u001b[0m\n\u001b[0;32m----> 1\u001b[0;31m \u001b[0mfloat\u001b[0m\u001b[0;34m(\u001b[0m\u001b[0;34m\"30.06  kjghjgjhg\"\u001b[0m\u001b[0;34m)\u001b[0m\u001b[0;34m\u001b[0m\u001b[0;34m\u001b[0m\u001b[0m\n\u001b[0m",
            "\u001b[0;31mValueError\u001b[0m: could not convert string to float: '30.06  kjghjgjhg'"
          ]
        }
      ],
      "source": [
        "float(\"30.06  kjghjgjhg\")"
      ]
    },
    {
      "cell_type": "code",
      "execution_count": null,
      "metadata": {
        "colab": {
          "base_uri": "https://localhost:8080/",
          "height": 35
        },
        "id": "ByvBMV12YjVW",
        "outputId": "829a66f5-5703-4640-ea73-2de961cee735"
      },
      "outputs": [
        {
          "data": {
            "application/vnd.google.colaboratory.intrinsic+json": {
              "type": "string"
            },
            "text/plain": [
              "'3'"
            ]
          },
          "execution_count": 140,
          "metadata": {},
          "output_type": "execute_result"
        }
      ],
      "source": [
        "str(3)  #Podemos convertir números a caracteres"
      ]
    },
    {
      "cell_type": "code",
      "execution_count": null,
      "metadata": {
        "colab": {
          "base_uri": "https://localhost:8080/"
        },
        "id": "3yJfVrf2Ym4t",
        "outputId": "514b2b0a-9d2f-49f9-8d94-0c5fbe145571"
      },
      "outputs": [
        {
          "data": {
            "text/plain": [
              "False"
            ]
          },
          "execution_count": 142,
          "metadata": {},
          "output_type": "execute_result"
        }
      ],
      "source": [
        "bool(0) #Podemos convertir booleanos a números"
      ]
    },
    {
      "cell_type": "markdown",
      "metadata": {
        "id": "sTVUTzFb85gN"
      },
      "source": [
        "# Variables\n",
        "\n",
        "Estas son espacio en la memoria de nuestras maquinas, las cuales nosotros vamos asignar un nombre y darle un valor.\n",
        "\n",
        "Python es un lenguaje de tipado dinamico, lo que significa que no se necesita que se declare el tipo de la variable, el nombre de cada variable debe cumplir ciertas reglas:\n",
        "\n",
        "*   Solo puede incluir caracteres alfanumericos y \"underscore\" no puede tener espacios en blanco (_)\n",
        "*   No puede empezar por un numero.\n",
        "*   En Python el nombre de las variables es case sensite , es decir, Python diferencia minusculas y mayusculas.\n",
        "*   Existen palabras que no pueden ser usadas para nombrar variables.\n",
        "\n",
        "[Python 3.,False, as , continue,else,from, in, not ,return , yield]\n",
        "\n",
        "El simbolo igual (=) se utlizar para asignar variables\n"
      ]
    },
    {
      "cell_type": "code",
      "execution_count": null,
      "metadata": {
        "colab": {
          "base_uri": "https://localhost:8080/"
        },
        "id": "EknKNALI87RS",
        "outputId": "e337d0fb-971f-4b0c-b6b3-7749d8356ad2"
      },
      "outputs": [
        {
          "data": {
            "text/plain": [
              "160"
            ]
          },
          "execution_count": 146,
          "metadata": {},
          "output_type": "execute_result"
        }
      ],
      "source": [
        "# Almacenamos el valor de la siguiente operacion en la variable x\n",
        "\n",
        "x = 43 + 60 + 16 + 41\n",
        "x"
      ]
    },
    {
      "cell_type": "markdown",
      "metadata": {
        "id": "6oVwRsBa9ZcB"
      },
      "source": [
        "<p>Para ver  el valor de la variable <code>x</code> en un Notebook, nosotros podemos simplemente ponerla en la ultima linea del bloque de codigo"
      ]
    },
    {
      "cell_type": "code",
      "execution_count": null,
      "metadata": {
        "colab": {
          "base_uri": "https://localhost:8080/"
        },
        "id": "91JLO_Ny9rKl",
        "outputId": "b10755e9-cfa4-4d7d-8712-228940378784"
      },
      "outputs": [
        {
          "data": {
            "text/plain": [
              "160"
            ]
          },
          "execution_count": 151,
          "metadata": {},
          "output_type": "execute_result"
        }
      ],
      "source": [
        "x"
      ]
    },
    {
      "cell_type": "code",
      "execution_count": null,
      "metadata": {
        "id": "w5bJyIX296QS"
      },
      "outputs": [],
      "source": [
        "y=x/30 + 30"
      ]
    },
    {
      "cell_type": "code",
      "execution_count": null,
      "metadata": {
        "colab": {
          "base_uri": "https://localhost:8080/"
        },
        "id": "rPwM5Zg7-A-m",
        "outputId": "3418dc62-bf13-4c6f-a951-368d5f9d4e04"
      },
      "outputs": [
        {
          "data": {
            "text/plain": [
              "35.333333333333336"
            ]
          },
          "execution_count": 150,
          "metadata": {},
          "output_type": "execute_result"
        }
      ],
      "source": [
        "y"
      ]
    },
    {
      "cell_type": "code",
      "execution_count": null,
      "metadata": {
        "colab": {
          "background_save": true,
          "base_uri": "https://localhost:8080/"
        },
        "id": "euji2lnj-CqI",
        "outputId": "b7a502ba-d307-4bff-8d93-1da102623e8a"
      },
      "outputs": [
        {
          "data": {
            "text/plain": [
              "0.625"
            ]
          },
          "execution_count": 159,
          "metadata": {},
          "output_type": "execute_result"
        }
      ],
      "source": [
        "x= x /2\n",
        "x"
      ]
    },
    {
      "cell_type": "code",
      "execution_count": null,
      "metadata": {
        "id": "A3-tys6h-O5V"
      },
      "outputs": [],
      "source": [
        "# Podemos ser tan creativos como queramos para el nombre de las variables\n",
        "total_min = 43 + 42 + 57"
      ]
    },
    {
      "cell_type": "code",
      "execution_count": null,
      "metadata": {
        "colab": {
          "base_uri": "https://localhost:8080/"
        },
        "id": "r5NMMfW5-WST",
        "outputId": "3de1a405-14fc-4ba9-ac69-4b4435556b56"
      },
      "outputs": [
        {
          "data": {
            "text/plain": [
              "9.083333333333332"
            ]
          },
          "execution_count": 57,
          "metadata": {},
          "output_type": "execute_result"
        }
      ],
      "source": [
        "z= x + y\n",
        "z"
      ]
    }
  ],
  "metadata": {
    "colab": {
      "provenance": []
    },
    "gpuClass": "standard",
    "kernelspec": {
      "display_name": "Python 3",
      "name": "python3"
    },
    "language_info": {
      "name": "python"
    }
  },
  "nbformat": 4,
  "nbformat_minor": 0
}